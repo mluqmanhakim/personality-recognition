{
  "cells": [
    {
      "cell_type": "code",
      "execution_count": 1,
      "metadata": {
        "gather": {
          "logged": 1651404073524
        },
        "jupyter": {
          "outputs_hidden": false,
          "source_hidden": false
        },
        "nteract": {
          "transient": {
            "deleting": false
          }
        }
      },
      "outputs": [],
      "source": [
        "import pickle\n",
        "import os\n",
        "import numpy as np\n",
        "import pandas as pd\n",
        "from sklearn.ensemble import RandomForestRegressor\n",
        "from sklearn.metrics import mean_squared_error\n",
        "from sklearn.model_selection import train_test_split"
      ]
    },
    {
      "cell_type": "markdown",
      "metadata": {},
      "source": [
        "# Preprocessing"
      ]
    },
    {
      "cell_type": "code",
      "execution_count": 2,
      "metadata": {},
      "outputs": [],
      "source": [
        "annotation_path = 'FI/gt/annotation_training.pkl'\n",
        "with open(annotation_path, 'rb') as f:\n",
        "    annotation = pickle.load(f, encoding='latin1')"
      ]
    },
    {
      "cell_type": "code",
      "execution_count": 3,
      "metadata": {},
      "outputs": [],
      "source": [
        "df_train = pd.DataFrame()\n",
        "audios_features_dir = \"data/train/audios_features/\"\n",
        "\n",
        "for f in os.listdir(audios_features_dir):\n",
        "    # check if the file is csv\n",
        "    if (f.rsplit(\".\")[-1] == \"csv\"):\n",
        "        df = pd.read_csv(os.path.join(audios_features_dir, f), sep=\";\")\n",
        "\n",
        "        # calculate mean for each feature\n",
        "        df = pd.DataFrame(df.mean()).transpose()\n",
        "        \n",
        "        # add label\n",
        "        filename = f.rsplit(\".\")[0] + \".\" + f.rsplit(\".\")[1] + \".mp4\"\n",
        "        df[\"extraversion\"] = annotation['extraversion'][filename]\n",
        "        df[\"neuroticism\"] = annotation['neuroticism'][filename]\n",
        "        df[\"agreeableness\"] = annotation['agreeableness'][filename]\n",
        "        df[\"conscientiousness\"] = annotation['conscientiousness'][filename]\n",
        "        df[\"openness\"] = annotation['openness'][filename]\n",
        "        \n",
        "        df_train = pd.concat([df_train, df], axis=0, ignore_index=True)"
      ]
    },
    {
      "cell_type": "code",
      "execution_count": 4,
      "metadata": {},
      "outputs": [
        {
          "data": {
            "text/html": [
              "<div>\n",
              "<style scoped>\n",
              "    .dataframe tbody tr th:only-of-type {\n",
              "        vertical-align: middle;\n",
              "    }\n",
              "\n",
              "    .dataframe tbody tr th {\n",
              "        vertical-align: top;\n",
              "    }\n",
              "\n",
              "    .dataframe thead th {\n",
              "        text-align: right;\n",
              "    }\n",
              "</style>\n",
              "<table border=\"1\" class=\"dataframe\">\n",
              "  <thead>\n",
              "    <tr style=\"text-align: right;\">\n",
              "      <th></th>\n",
              "      <th>0</th>\n",
              "      <th>1</th>\n",
              "      <th>2</th>\n",
              "      <th>3</th>\n",
              "      <th>4</th>\n",
              "      <th>5</th>\n",
              "      <th>6</th>\n",
              "      <th>7</th>\n",
              "      <th>8</th>\n",
              "      <th>9</th>\n",
              "      <th>...</th>\n",
              "      <th>507</th>\n",
              "      <th>508</th>\n",
              "      <th>509</th>\n",
              "      <th>510</th>\n",
              "      <th>511</th>\n",
              "      <th>extraversion</th>\n",
              "      <th>neuroticism</th>\n",
              "      <th>agreeableness</th>\n",
              "      <th>conscientiousness</th>\n",
              "      <th>openness</th>\n",
              "    </tr>\n",
              "  </thead>\n",
              "  <tbody>\n",
              "    <tr>\n",
              "      <th>0</th>\n",
              "      <td>0.203672</td>\n",
              "      <td>-0.429291</td>\n",
              "      <td>0.081586</td>\n",
              "      <td>0.185123</td>\n",
              "      <td>0.152433</td>\n",
              "      <td>0.004605</td>\n",
              "      <td>-0.552288</td>\n",
              "      <td>-0.777085</td>\n",
              "      <td>-0.091837</td>\n",
              "      <td>-0.070481</td>\n",
              "      <td>...</td>\n",
              "      <td>-0.806242</td>\n",
              "      <td>0.839549</td>\n",
              "      <td>0.041291</td>\n",
              "      <td>0.091085</td>\n",
              "      <td>0.360024</td>\n",
              "      <td>0.551402</td>\n",
              "      <td>0.500000</td>\n",
              "      <td>0.527473</td>\n",
              "      <td>0.650485</td>\n",
              "      <td>0.744444</td>\n",
              "    </tr>\n",
              "    <tr>\n",
              "      <th>1</th>\n",
              "      <td>0.179766</td>\n",
              "      <td>-0.407752</td>\n",
              "      <td>0.565502</td>\n",
              "      <td>0.231725</td>\n",
              "      <td>0.061883</td>\n",
              "      <td>0.044931</td>\n",
              "      <td>-0.574203</td>\n",
              "      <td>-0.754546</td>\n",
              "      <td>-0.200325</td>\n",
              "      <td>0.040500</td>\n",
              "      <td>...</td>\n",
              "      <td>-0.776032</td>\n",
              "      <td>0.785381</td>\n",
              "      <td>0.019143</td>\n",
              "      <td>-0.105647</td>\n",
              "      <td>0.241413</td>\n",
              "      <td>0.392523</td>\n",
              "      <td>0.427083</td>\n",
              "      <td>0.516484</td>\n",
              "      <td>0.475728</td>\n",
              "      <td>0.466667</td>\n",
              "    </tr>\n",
              "    <tr>\n",
              "      <th>2</th>\n",
              "      <td>0.228794</td>\n",
              "      <td>-0.432109</td>\n",
              "      <td>0.623883</td>\n",
              "      <td>0.201075</td>\n",
              "      <td>0.074980</td>\n",
              "      <td>0.010355</td>\n",
              "      <td>-0.651151</td>\n",
              "      <td>-0.737271</td>\n",
              "      <td>-0.008256</td>\n",
              "      <td>-0.060556</td>\n",
              "      <td>...</td>\n",
              "      <td>-0.804595</td>\n",
              "      <td>0.961633</td>\n",
              "      <td>-0.099022</td>\n",
              "      <td>-0.281925</td>\n",
              "      <td>0.274971</td>\n",
              "      <td>0.317757</td>\n",
              "      <td>0.322917</td>\n",
              "      <td>0.549451</td>\n",
              "      <td>0.368932</td>\n",
              "      <td>0.544444</td>\n",
              "    </tr>\n",
              "    <tr>\n",
              "      <th>3</th>\n",
              "      <td>0.202250</td>\n",
              "      <td>-0.542036</td>\n",
              "      <td>1.062031</td>\n",
              "      <td>0.173404</td>\n",
              "      <td>0.102740</td>\n",
              "      <td>0.025180</td>\n",
              "      <td>-0.500155</td>\n",
              "      <td>-0.915620</td>\n",
              "      <td>0.189747</td>\n",
              "      <td>-0.071974</td>\n",
              "      <td>...</td>\n",
              "      <td>-0.780025</td>\n",
              "      <td>0.911415</td>\n",
              "      <td>-0.049688</td>\n",
              "      <td>-0.068375</td>\n",
              "      <td>0.261487</td>\n",
              "      <td>0.299065</td>\n",
              "      <td>0.291667</td>\n",
              "      <td>0.373626</td>\n",
              "      <td>0.320388</td>\n",
              "      <td>0.344444</td>\n",
              "    </tr>\n",
              "    <tr>\n",
              "      <th>4</th>\n",
              "      <td>0.121846</td>\n",
              "      <td>-0.348027</td>\n",
              "      <td>-0.314708</td>\n",
              "      <td>0.288748</td>\n",
              "      <td>0.221186</td>\n",
              "      <td>0.343510</td>\n",
              "      <td>-0.491790</td>\n",
              "      <td>-0.374474</td>\n",
              "      <td>0.191107</td>\n",
              "      <td>-0.256439</td>\n",
              "      <td>...</td>\n",
              "      <td>-0.425920</td>\n",
              "      <td>0.982384</td>\n",
              "      <td>-0.003899</td>\n",
              "      <td>0.017689</td>\n",
              "      <td>0.230127</td>\n",
              "      <td>0.476636</td>\n",
              "      <td>0.604167</td>\n",
              "      <td>0.593407</td>\n",
              "      <td>0.572816</td>\n",
              "      <td>0.611111</td>\n",
              "    </tr>\n",
              "  </tbody>\n",
              "</table>\n",
              "<p>5 rows × 517 columns</p>\n",
              "</div>"
            ],
            "text/plain": [
              "          0         1         2         3         4         5         6  \\\n",
              "0  0.203672 -0.429291  0.081586  0.185123  0.152433  0.004605 -0.552288   \n",
              "1  0.179766 -0.407752  0.565502  0.231725  0.061883  0.044931 -0.574203   \n",
              "2  0.228794 -0.432109  0.623883  0.201075  0.074980  0.010355 -0.651151   \n",
              "3  0.202250 -0.542036  1.062031  0.173404  0.102740  0.025180 -0.500155   \n",
              "4  0.121846 -0.348027 -0.314708  0.288748  0.221186  0.343510 -0.491790   \n",
              "\n",
              "          7         8         9  ...       507       508       509       510  \\\n",
              "0 -0.777085 -0.091837 -0.070481  ... -0.806242  0.839549  0.041291  0.091085   \n",
              "1 -0.754546 -0.200325  0.040500  ... -0.776032  0.785381  0.019143 -0.105647   \n",
              "2 -0.737271 -0.008256 -0.060556  ... -0.804595  0.961633 -0.099022 -0.281925   \n",
              "3 -0.915620  0.189747 -0.071974  ... -0.780025  0.911415 -0.049688 -0.068375   \n",
              "4 -0.374474  0.191107 -0.256439  ... -0.425920  0.982384 -0.003899  0.017689   \n",
              "\n",
              "        511  extraversion  neuroticism  agreeableness  conscientiousness  \\\n",
              "0  0.360024      0.551402     0.500000       0.527473           0.650485   \n",
              "1  0.241413      0.392523     0.427083       0.516484           0.475728   \n",
              "2  0.274971      0.317757     0.322917       0.549451           0.368932   \n",
              "3  0.261487      0.299065     0.291667       0.373626           0.320388   \n",
              "4  0.230127      0.476636     0.604167       0.593407           0.572816   \n",
              "\n",
              "   openness  \n",
              "0  0.744444  \n",
              "1  0.466667  \n",
              "2  0.544444  \n",
              "3  0.344444  \n",
              "4  0.611111  \n",
              "\n",
              "[5 rows x 517 columns]"
            ]
          },
          "execution_count": 4,
          "metadata": {},
          "output_type": "execute_result"
        }
      ],
      "source": [
        "df_train.head()"
      ]
    },
    {
      "cell_type": "code",
      "execution_count": 5,
      "metadata": {},
      "outputs": [
        {
          "data": {
            "text/plain": [
              "(6000, 517)"
            ]
          },
          "execution_count": 5,
          "metadata": {},
          "output_type": "execute_result"
        }
      ],
      "source": [
        "df_train.shape"
      ]
    },
    {
      "cell_type": "code",
      "execution_count": 6,
      "metadata": {},
      "outputs": [
        {
          "data": {
            "text/plain": [
              "0"
            ]
          },
          "execution_count": 6,
          "metadata": {},
          "output_type": "execute_result"
        }
      ],
      "source": [
        "df_train.isnull().sum().sum()"
      ]
    },
    {
      "cell_type": "code",
      "execution_count": 7,
      "metadata": {},
      "outputs": [],
      "source": [
        "features = df_train.iloc[:, :512].to_numpy()\n",
        "labels = df_train.iloc[:, 512:].to_numpy()"
      ]
    },
    {
      "cell_type": "code",
      "execution_count": 8,
      "metadata": {},
      "outputs": [],
      "source": [
        "X_train, X_test, y_train, y_test = train_test_split(features, labels, test_size=0.25, random_state=42)"
      ]
    },
    {
      "cell_type": "markdown",
      "metadata": {},
      "source": [
        "# Training"
      ]
    },
    {
      "cell_type": "code",
      "execution_count": 9,
      "metadata": {},
      "outputs": [],
      "source": [
        "model = RandomForestRegressor()\n",
        "model.fit(X_train, y_train)\n",
        "y_pred = model.predict(X_test)"
      ]
    },
    {
      "cell_type": "code",
      "execution_count": 10,
      "metadata": {},
      "outputs": [
        {
          "name": "stdout",
          "output_type": "stream",
          "text": [
            "0.9844431859633631\n"
          ]
        }
      ],
      "source": [
        "score = 1 - mean_squared_error(y_test, y_pred)\n",
        "print(score)"
      ]
    },
    {
      "cell_type": "code",
      "execution_count": null,
      "metadata": {},
      "outputs": [],
      "source": []
    }
  ],
  "metadata": {
    "interpreter": {
      "hash": "17c92ebe4c347de728263208104da506711e9388d419f2667b4726047bdcfa3c"
    },
    "kernel_info": {
      "name": "python3"
    },
    "kernelspec": {
      "display_name": "Python 3.8.5 64-bit ('azureml_py38': virtualenv)",
      "name": "python3"
    },
    "language_info": {
      "codemirror_mode": {
        "name": "ipython",
        "version": 3
      },
      "file_extension": ".py",
      "mimetype": "text/x-python",
      "name": "python",
      "nbconvert_exporter": "python",
      "pygments_lexer": "ipython3",
      "version": "3.8.5"
    },
    "microsoft": {
      "host": {
        "AzureML": {
          "notebookHasBeenCompleted": true
        }
      }
    },
    "nteract": {
      "version": "nteract-front-end@1.0.0"
    }
  },
  "nbformat": 4,
  "nbformat_minor": 2
}