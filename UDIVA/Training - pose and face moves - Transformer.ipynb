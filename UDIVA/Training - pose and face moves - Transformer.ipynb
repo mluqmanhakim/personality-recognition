{
 "cells": [
  {
   "cell_type": "code",
   "execution_count": 1,
   "id": "08538b92",
   "metadata": {},
   "outputs": [
    {
     "name": "stderr",
     "output_type": "stream",
     "text": [
      "/home/luqman/miniconda3/lib/python3.9/site-packages/tqdm/auto.py:22: TqdmWarning: IProgress not found. Please update jupyter and ipywidgets. See https://ipywidgets.readthedocs.io/en/stable/user_install.html\n",
      "  from .autonotebook import tqdm as notebook_tqdm\n"
     ]
    }
   ],
   "source": [
    "import numpy as np\n",
    "import pickle\n",
    "import os\n",
    "import torch\n",
    "from torch.utils.data import TensorDataset, DataLoader\n",
    "import matplotlib.pyplot as plt\n",
    "from scipy import stats"
   ]
  },
  {
   "cell_type": "markdown",
   "id": "0af9c0ac",
   "metadata": {},
   "source": [
    "# Data preparation"
   ]
  },
  {
   "cell_type": "code",
   "execution_count": 2,
   "id": "acd43b79",
   "metadata": {},
   "outputs": [],
   "source": [
    "train_label_path = '/nas/project_data/B1_Behavior/hakim/UDIVA/label/train'\n",
    "val_label_path = '/nas/project_data/B1_Behavior/hakim/UDIVA/label/val'\n",
    "test_label_path = '/nas/project_data/B1_Behavior/hakim/UDIVA/label/test'\n",
    "train_data_path = '/nas/project_data/B1_Behavior/hakim/UDIVA/pose_face_moves/train'\n",
    "val_data_path = '/nas/project_data/B1_Behavior/hakim/UDIVA/pose_face_moves/val'\n",
    "test_data_path = '/nas/project_data/B1_Behavior/hakim/UDIVA/pose_face_moves/test'\n",
    "\n",
    "train_features = []\n",
    "train_labels = []\n",
    "val_features = []\n",
    "val_labels = []\n",
    "test_features = []\n",
    "test_labels = []"
   ]
  },
  {
   "cell_type": "code",
   "execution_count": 3,
   "id": "8b4c6630",
   "metadata": {},
   "outputs": [],
   "source": [
    "def split_feature(feature, size):\n",
    "    p = 0\n",
    "    splitted_feature = []\n",
    "    \n",
    "    for i in range(int(len(feature)/size)):\n",
    "        splitted_feature.append(feature[p:p+size, :])\n",
    "        p += size\n",
    "        \n",
    "    return splitted_feature"
   ]
  },
  {
   "cell_type": "code",
   "execution_count": 4,
   "id": "e741bb88",
   "metadata": {},
   "outputs": [],
   "source": [
    "for item in os.listdir(train_data_path):    \n",
    "    label_path = os.path.join(train_label_path, item)\n",
    "    with open(label_path, 'rb') as f:\n",
    "        label = np.load(f)\n",
    "    \n",
    "    input_path = os.path.join(train_data_path, item)\n",
    "    with open(input_path, 'rb') as f:\n",
    "        feature = np.load(f)    \n",
    "    \n",
    "    splitted_features = split_feature(feature, 450)\n",
    "    \n",
    "    for item in splitted_features:\n",
    "        train_features.append(item)\n",
    "        train_labels.append(label)"
   ]
  },
  {
   "cell_type": "code",
   "execution_count": 5,
   "id": "baac9034",
   "metadata": {},
   "outputs": [],
   "source": [
    "for item in os.listdir(val_data_path):    \n",
    "    input_path = os.path.join(val_data_path, item)\n",
    "    with open(input_path, 'rb') as f:\n",
    "        feature = np.load(f)    \n",
    "    \n",
    "    label_path = os.path.join(val_label_path, item)\n",
    "    with open(label_path, 'rb') as f:\n",
    "        label = np.load(f)\n",
    "    \n",
    "    splitted_features = split_feature(feature, 450)\n",
    "    \n",
    "    for item in splitted_features:\n",
    "        val_features.append(item)\n",
    "        val_labels.append(label)"
   ]
  },
  {
   "cell_type": "code",
   "execution_count": 6,
   "id": "ddca29ee",
   "metadata": {},
   "outputs": [],
   "source": [
    "for item in os.listdir(test_data_path):    \n",
    "    input_path = os.path.join(test_data_path, item)\n",
    "    with open(input_path, 'rb') as f:\n",
    "        feature = np.load(f)\n",
    "     \n",
    "    label_path = os.path.join(test_label_path, item)\n",
    "    with open(label_path, 'rb') as f:\n",
    "        label = np.load(f)\n",
    "    \n",
    "    splitted_features = split_feature(feature, 450)\n",
    "    \n",
    "    for item in splitted_features:\n",
    "        test_features.append(item)\n",
    "        test_labels.append(label)"
   ]
  },
  {
   "cell_type": "code",
   "execution_count": 7,
   "id": "e93c5cd7",
   "metadata": {},
   "outputs": [],
   "source": [
    "BATCH_SIZE = 256\n",
    "train_features = torch.Tensor(np.array(train_features))\n",
    "train_labels = torch.Tensor(np.array(train_labels))\n",
    "val_features = torch.Tensor(np.array(val_features))\n",
    "val_labels = torch.Tensor(np.array(val_labels))\n",
    "test_features = torch.Tensor(np.array(test_features))\n",
    "test_labels = torch.Tensor(np.array(test_labels))\n",
    "\n",
    "train_ds = TensorDataset(train_features, train_labels)\n",
    "val_ds = TensorDataset(val_features, val_labels)\n",
    "test_ds = TensorDataset(test_features, test_labels)\n",
    "\n",
    "train_loader = DataLoader(train_ds, batch_size=BATCH_SIZE, shuffle=True)\n",
    "val_loader = DataLoader(val_ds, batch_size=BATCH_SIZE, shuffle=True)\n",
    "test_loader = DataLoader(test_ds, batch_size=BATCH_SIZE, shuffle=True)"
   ]
  },
  {
   "cell_type": "markdown",
   "id": "5dbb63fd",
   "metadata": {},
   "source": [
    "# Model"
   ]
  },
  {
   "cell_type": "code",
   "execution_count": 8,
   "id": "292f1947",
   "metadata": {},
   "outputs": [],
   "source": [
    "if torch.cuda.is_available():\n",
    "    device = torch.device(\"cuda:1\")\n",
    "else:\n",
    "    device = torch.device(\"cpu\")"
   ]
  },
  {
   "cell_type": "code",
   "execution_count": 9,
   "id": "19507457",
   "metadata": {},
   "outputs": [],
   "source": [
    "class Transformer(torch.nn.Module):\n",
    "    def __init__(self, input_dim=5, output_dim=5):\n",
    "        super(Transformer, self).__init__()\n",
    "        encoder_layer = torch.nn.TransformerEncoderLayer(d_model=input_dim, nhead=1, dropout=0.2, batch_first=True)\n",
    "        self.transformer_encoder = torch.nn.TransformerEncoder(encoder_layer, num_layers=6)\n",
    "        self.fc = torch.nn.Linear(5, output_dim)\n",
    "        self.sigmoid = torch.nn.Sigmoid()\n",
    "        self.relu = torch.nn.ReLU()\n",
    "\n",
    "    def forward(self, x):\n",
    "        out = self.transformer_encoder(x)\n",
    "        out = self.relu(out[:,-1,:])\n",
    "        out = self.fc(out)\n",
    "        out = self.sigmoid(out)\n",
    "        return out"
   ]
  },
  {
   "cell_type": "markdown",
   "id": "3436be9a",
   "metadata": {},
   "source": [
    "# Training"
   ]
  },
  {
   "cell_type": "code",
   "execution_count": 11,
   "id": "334eaa6a",
   "metadata": {},
   "outputs": [],
   "source": [
    "def train(model, train_loader, val_loader, epochs, patience=5):\n",
    "    train_losses = []\n",
    "    val_losses = []\n",
    "    val_maes = []\n",
    "    last_loss = 1e-8\n",
    "    trigger_times = 0\n",
    "\n",
    "    for epoch in range(0, epochs):\n",
    "        model.train()\n",
    "        batch_losses = []\n",
    "\n",
    "        for inputs, targets in train_loader:\n",
    "            preds = model(inputs.to(device))\n",
    "            loss = loss_fn(preds, targets.to(device))\n",
    "            optimizer.zero_grad()\n",
    "            loss.backward()\n",
    "            optimizer.step()\n",
    "            batch_losses.append(loss.item())\n",
    "\n",
    "        train_loss = np.mean(batch_losses)\n",
    "        train_losses.append(train_loss)\n",
    "\n",
    "        model.eval()\n",
    "        with torch.no_grad():\n",
    "            batch_val_losses = []\n",
    "            batch_val_mae = []\n",
    "\n",
    "            for inputs, targets in val_loader:\n",
    "                model.eval()\n",
    "                preds = model(inputs.to(device))\n",
    "                loss = loss_fn(preds, targets.to(device))\n",
    "                batch_val_losses.append(loss.item())\n",
    "                val_mae = mae(preds, targets.to(device))\n",
    "                batch_val_mae.append(val_mae.item())\n",
    "            \n",
    "            val_loss = np.mean(batch_val_losses)\n",
    "            val_mae = np.mean(batch_val_mae)\n",
    "            scheduler.step(val_loss)\n",
    "            val_losses.append(val_loss)\n",
    "            val_maes.append(val_mae)\n",
    "  \n",
    "        print(f'Epoch {epoch} - train loss: {train_loss:.4f} - val loss: {val_loss:.4f} - val 1-mae: {(1-val_mae):.4f}')\n",
    "        \n",
    "        if val_loss > last_loss:\n",
    "            trigger_times += 1\n",
    "            print('Trigger:', trigger_times)\n",
    "            if trigger_times >= patience:\n",
    "                print('Early stop')\n",
    "                break\n",
    "        else:\n",
    "            print('Trigger: 0')\n",
    "            trigger_times = 0\n",
    "        last_loss = val_loss\n",
    "        \n",
    "    return train_losses, val_losses, val_maes"
   ]
  },
  {
   "cell_type": "code",
   "execution_count": 12,
   "id": "75c4352a",
   "metadata": {},
   "outputs": [],
   "source": [
    "LR = 0.001\n",
    "transformer = Transformer()\n",
    "transformer.to(device)\n",
    "optimizer = torch.optim.AdamW(transformer.parameters(), lr=LR, weight_decay=0.01)\n",
    "scheduler = torch.optim.lr_scheduler.ReduceLROnPlateau(optimizer, 'min')\n",
    "loss_fn = torch.nn.MSELoss()\n",
    "mae = torch.nn.L1Loss()"
   ]
  },
  {
   "cell_type": "code",
   "execution_count": 13,
   "id": "8647345d",
   "metadata": {},
   "outputs": [
    {
     "name": "stdout",
     "output_type": "stream",
     "text": [
      "Epoch 0 - train loss: 1.3091 - val loss: 1.3087 - val 1-mae: 0.0922\n",
      "Trigger: 1\n",
      "Epoch 1 - train loss: 1.2639 - val loss: 1.2294 - val 1-mae: 0.1211\n",
      "Trigger: 0\n",
      "Epoch 2 - train loss: 1.2174 - val loss: 1.1975 - val 1-mae: 0.1301\n",
      "Trigger: 0\n",
      "Epoch 3 - train loss: 1.1761 - val loss: 1.1575 - val 1-mae: 0.1434\n",
      "Trigger: 0\n",
      "Epoch 4 - train loss: 1.1459 - val loss: 1.1158 - val 1-mae: 0.1615\n",
      "Trigger: 0\n",
      "Epoch 5 - train loss: 1.1263 - val loss: 1.1099 - val 1-mae: 0.1607\n",
      "Trigger: 0\n",
      "Epoch 6 - train loss: 1.1147 - val loss: 1.0792 - val 1-mae: 0.1732\n",
      "Trigger: 0\n",
      "Epoch 7 - train loss: 1.1079 - val loss: 1.0732 - val 1-mae: 0.1775\n",
      "Trigger: 0\n",
      "Epoch 8 - train loss: 1.1028 - val loss: 1.0669 - val 1-mae: 0.1825\n",
      "Trigger: 0\n",
      "Epoch 9 - train loss: 1.0994 - val loss: 1.0626 - val 1-mae: 0.1810\n",
      "Trigger: 0\n",
      "Epoch 10 - train loss: 1.0970 - val loss: 1.0465 - val 1-mae: 0.1882\n",
      "Trigger: 0\n",
      "Epoch 11 - train loss: 1.0955 - val loss: 1.0658 - val 1-mae: 0.1785\n",
      "Trigger: 1\n",
      "Epoch 12 - train loss: 1.0945 - val loss: 1.0452 - val 1-mae: 0.1861\n",
      "Trigger: 0\n",
      "Epoch 13 - train loss: 1.0929 - val loss: 1.0441 - val 1-mae: 0.1848\n",
      "Trigger: 0\n",
      "Epoch 14 - train loss: 1.0924 - val loss: 1.0622 - val 1-mae: 0.1799\n",
      "Trigger: 1\n",
      "Epoch 15 - train loss: 1.0918 - val loss: 1.0407 - val 1-mae: 0.1897\n",
      "Trigger: 0\n",
      "Epoch 16 - train loss: 1.0914 - val loss: 1.0451 - val 1-mae: 0.1883\n",
      "Trigger: 1\n",
      "Epoch 17 - train loss: 1.0912 - val loss: 1.0385 - val 1-mae: 0.1883\n",
      "Trigger: 0\n",
      "Epoch 18 - train loss: 1.0906 - val loss: 1.0393 - val 1-mae: 0.1923\n",
      "Trigger: 1\n",
      "Epoch 19 - train loss: 1.0903 - val loss: 1.0353 - val 1-mae: 0.1896\n",
      "Trigger: 0\n",
      "Epoch 20 - train loss: 1.0901 - val loss: 1.0526 - val 1-mae: 0.1860\n",
      "Trigger: 1\n",
      "Epoch 21 - train loss: 1.0899 - val loss: 1.0721 - val 1-mae: 0.1750\n",
      "Trigger: 2\n",
      "Epoch 22 - train loss: 1.0898 - val loss: 1.0583 - val 1-mae: 0.1794\n",
      "Trigger: 0\n",
      "Epoch 23 - train loss: 1.0896 - val loss: 1.0448 - val 1-mae: 0.1867\n",
      "Trigger: 0\n",
      "Epoch 24 - train loss: 1.0893 - val loss: 1.0408 - val 1-mae: 0.1881\n",
      "Trigger: 0\n",
      "Epoch 25 - train loss: 1.0894 - val loss: 1.0474 - val 1-mae: 0.1859\n",
      "Trigger: 1\n",
      "Epoch 26 - train loss: 1.0895 - val loss: 1.0319 - val 1-mae: 0.1921\n",
      "Trigger: 0\n",
      "Epoch 27 - train loss: 1.0891 - val loss: 1.0407 - val 1-mae: 0.1887\n",
      "Trigger: 1\n",
      "Epoch 28 - train loss: 1.0881 - val loss: 1.0579 - val 1-mae: 0.1824\n",
      "Trigger: 2\n",
      "Epoch 29 - train loss: 1.0886 - val loss: 1.0495 - val 1-mae: 0.1846\n",
      "Trigger: 0\n",
      "Epoch 30 - train loss: 1.0891 - val loss: 1.0313 - val 1-mae: 0.1918\n",
      "Trigger: 0\n",
      "Epoch 31 - train loss: 1.0889 - val loss: 1.0630 - val 1-mae: 0.1782\n",
      "Trigger: 1\n",
      "Epoch 32 - train loss: 1.0889 - val loss: 1.0475 - val 1-mae: 0.1840\n",
      "Trigger: 0\n",
      "Epoch 33 - train loss: 1.0885 - val loss: 1.0402 - val 1-mae: 0.1889\n",
      "Trigger: 0\n",
      "Epoch 34 - train loss: 1.0889 - val loss: 1.0371 - val 1-mae: 0.1901\n",
      "Trigger: 0\n",
      "Epoch 35 - train loss: 1.0888 - val loss: 1.0473 - val 1-mae: 0.1844\n",
      "Trigger: 1\n",
      "Epoch 36 - train loss: 1.0885 - val loss: 1.0262 - val 1-mae: 0.1945\n",
      "Trigger: 0\n",
      "Epoch 37 - train loss: 1.0887 - val loss: 1.0427 - val 1-mae: 0.1874\n",
      "Trigger: 1\n",
      "Epoch 38 - train loss: 1.0885 - val loss: 1.0352 - val 1-mae: 0.1890\n",
      "Trigger: 0\n",
      "Epoch 39 - train loss: 1.0884 - val loss: 1.0407 - val 1-mae: 0.1859\n",
      "Trigger: 1\n",
      "Epoch 40 - train loss: 1.0888 - val loss: 1.0365 - val 1-mae: 0.1875\n",
      "Trigger: 0\n",
      "Epoch 41 - train loss: 1.0883 - val loss: 1.0389 - val 1-mae: 0.1877\n",
      "Trigger: 1\n",
      "Epoch 42 - train loss: 1.0889 - val loss: 1.0295 - val 1-mae: 0.1917\n",
      "Trigger: 0\n",
      "Epoch 43 - train loss: 1.0883 - val loss: 1.0554 - val 1-mae: 0.1791\n",
      "Trigger: 1\n",
      "Epoch 44 - train loss: 1.0882 - val loss: 1.0597 - val 1-mae: 0.1800\n",
      "Trigger: 2\n",
      "Epoch 45 - train loss: 1.0886 - val loss: 1.0375 - val 1-mae: 0.1891\n",
      "Trigger: 0\n",
      "Epoch 46 - train loss: 1.0886 - val loss: 1.0251 - val 1-mae: 0.1947\n",
      "Trigger: 0\n",
      "Epoch 47 - train loss: 1.0882 - val loss: 1.0486 - val 1-mae: 0.1841\n",
      "Trigger: 1\n",
      "Epoch 48 - train loss: 1.0885 - val loss: 1.0459 - val 1-mae: 0.1863\n",
      "Trigger: 0\n",
      "Epoch 49 - train loss: 1.0884 - val loss: 1.0316 - val 1-mae: 0.1917\n",
      "Trigger: 0\n"
     ]
    }
   ],
   "source": [
    "train_losses, val_losses, val_maes = train(transformer, train_loader, val_loader, epochs=50, patience=5)"
   ]
  },
  {
   "cell_type": "code",
   "execution_count": 14,
   "id": "1ad217f3",
   "metadata": {},
   "outputs": [
    {
     "data": {
      "text/plain": [
       "<matplotlib.legend.Legend at 0x7f51aac49a30>"
      ]
     },
     "execution_count": 14,
     "metadata": {},
     "output_type": "execute_result"
    },
    {
     "data": {
      "image/png": "[encoded data removed]",
      "text/plain": [
       "<Figure size 640x480 with 1 Axes>"
      ]
     },
     "metadata": {},
     "output_type": "display_data"
    }
   ],
   "source": [
    "fig, ax = plt.subplots()\n",
    "ax.plot(train_losses, label='Train loss')\n",
    "ax.plot(val_losses, label='Val loss')\n",
    "ax.plot(val_maes, label='Val MAE')\n",
    "ax.set_xlabel('Epoch')\n",
    "ax.set_ylabel('Loss')\n",
    "plt.title(\"Training result\")\n",
    "plt.legend()"
   ]
  },
  {
   "cell_type": "markdown",
   "id": "9bc68b22",
   "metadata": {},
   "source": [
    "# Testing"
   ]
  },
  {
   "cell_type": "code",
   "execution_count": 15,
   "id": "07dc934e",
   "metadata": {},
   "outputs": [],
   "source": [
    "def test(model, test_loader):\n",
    "    mae = torch.nn.L1Loss()\n",
    "    predictions = np.array([])\n",
    "    labels = np.array([])\n",
    "    model.eval()\n",
    "    with torch.no_grad():\n",
    "        batch_loss_ext = []\n",
    "        batch_loss_neu = []\n",
    "        batch_loss_agr = []\n",
    "        batch_loss_con = []\n",
    "        batch_loss_ope = []\n",
    "\n",
    "        for inputs, targets in test_loader:\n",
    "            batch_preds = model(inputs.to(device))\n",
    "            loss_ext = mae(batch_preds[:,0], targets[:,0].to(device))\n",
    "            loss_neu = mae(batch_preds[:,1], targets[:,1].to(device))\n",
    "            loss_agr = mae(batch_preds[:,2], targets[:,2].to(device))\n",
    "            loss_con = mae(batch_preds[:,3], targets[:,3].to(device))\n",
    "            loss_ope = mae(batch_preds[:,4], targets[:,4].to(device))\n",
    "            batch_loss_ext.append(loss_ext.item())\n",
    "            batch_loss_neu.append(loss_neu.item())\n",
    "            batch_loss_agr.append(loss_agr.item())\n",
    "            batch_loss_con.append(loss_con.item())\n",
    "            batch_loss_ope.append(loss_ope.item())\n",
    "            predictions = np.vstack((predictions, batch_preds.cpu())) if len(predictions) != 0 else batch_preds.cpu()\n",
    "            labels = np.vstack((labels, targets.cpu())) if len(labels) != 0 else targets.cpu()\n",
    "\n",
    "        loss_ext = 1 - np.mean(batch_loss_ext)\n",
    "        loss_neu = 1 - np.mean(batch_loss_neu)\n",
    "        loss_agr = 1 - np.mean(batch_loss_agr)\n",
    "        loss_con = 1 - np.mean(batch_loss_con)\n",
    "        loss_ope = 1 - np.mean(batch_loss_ope)\n",
    "        loss = (loss_ext + loss_neu + loss_agr + loss_con + loss_ope) / 5\n",
    "\n",
    "        print(f'1-MAE: {loss:.4f}')\n",
    "        print(f'1-MAE O: {loss_ope:.4f}')\n",
    "        print(f'1-MAE C: {loss_con:.4f}')\n",
    "        print(f'1-MAE E: {loss_ext:.4f}')\n",
    "        print(f'1-MAE A: {loss_agr:.4f}')\n",
    "        print(f'1-MAE N: {loss_neu:.4f}')\n",
    "        \n",
    "        spearman_r_ext = stats.spearmanr(predictions[:,0], labels[:,0])\n",
    "        spearman_r_neu = stats.spearmanr(predictions[:,1], labels[:,1])\n",
    "        spearman_r_agr = stats.spearmanr(predictions[:,2], labels[:,2])\n",
    "        spearman_r_con = stats.spearmanr(predictions[:,3], labels[:,3])\n",
    "        spearman_r_ope = stats.spearmanr(predictions[:,4], labels[:,4])\n",
    "        print(f'O - R: {spearman_r_ope[0]:.3f} - p: {spearman_r_ope[1]:.3f}')\n",
    "        print(f'C - R: {spearman_r_con[0]:.3f} - p: {spearman_r_con[1]:.3f}')\n",
    "        print(f'E - R: {spearman_r_ext[0]:.3f} - p: {spearman_r_ext[1]:.3f}')\n",
    "        print(f'A - R: {spearman_r_agr[0]:.3f} - p: {spearman_r_agr[1]:.3f}')\n",
    "        print(f'N - R: {spearman_r_neu[0]:.3f} - p: {spearman_r_neu[1]:.3f}')"
   ]
  },
  {
   "cell_type": "code",
   "execution_count": 17,
   "id": "e3596717",
   "metadata": {},
   "outputs": [
    {
     "name": "stdout",
     "output_type": "stream",
     "text": [
      "1-MAE: 0.8812\n",
      "1-MAE O: 0.8839\n",
      "1-MAE C: 0.8732\n",
      "1-MAE E: 0.8784\n",
      "1-MAE A: 0.8939\n",
      "1-MAE N: 0.8765\n",
      "O - R: 0.074 - p: 0.002\n",
      "C - R: 0.032 - p: 0.182\n",
      "E - R: 0.014 - p: 0.568\n",
      "A - R: 0.018 - p: 0.438\n",
      "N - R: 0.034 - p: 0.146\n"
     ]
    }
   ],
   "source": [
    "test(transformer, test_loader)"
   ]
  },
  {
   "cell_type": "code",
   "execution_count": 19,
   "id": "95839f68",
   "metadata": {},
   "outputs": [
    {
     "name": "stdout",
     "output_type": "stream",
     "text": [
      "baseline prior 1-mae: 0.8814377188682556\n"
     ]
    }
   ],
   "source": [
    "prior = test_labels.mean(axis=0)\n",
    "test_prior = torch.from_numpy(np.repeat(np.expand_dims(prior, axis=0), 2000, axis=0))\n",
    "value = mae(test_prior, test_labels)\n",
    "print('baseline prior 1-mae:', 1-value.item())"
   ]
  },
  {
   "cell_type": "code",
   "execution_count": null,
   "id": "e38ce041",
   "metadata": {},
   "outputs": [],
   "source": []
  }
 ],
 "metadata": {
  "kernelspec": {
   "display_name": "base",
   "language": "python",
   "name": "base"
  },
  "language_info": {
   "codemirror_mode": {
    "name": "ipython",
    "version": 3
   },
   "file_extension": ".py",
   "mimetype": "text/x-python",
   "name": "python",
   "nbconvert_exporter": "python",
   "pygments_lexer": "ipython3",
   "version": "3.9.12"
  },
  "vscode": {
   "interpreter": {
    "hash": "91bd7d5b175934679171a1f1e80429250a2d51389ee225c320e74775eefa2d64"
   }
  }
 },
 "nbformat": 4,
 "nbformat_minor": 5
}
