{
 "cells": [
  {
   "cell_type": "code",
   "execution_count": 1,
   "id": "6ed805af",
   "metadata": {},
   "outputs": [],
   "source": [
    "import pandas as pd\n",
    "import h5py\n",
    "import os\n",
    "import numpy as np"
   ]
  },
  {
   "cell_type": "code",
   "execution_count": 2,
   "id": "ad890c44",
   "metadata": {},
   "outputs": [],
   "source": [
    "subset = 'val'\n",
    "# tasks = ['animals', 'ghost', 'lego', 'talk']\n",
    "tasks = ['talk']\n",
    "data_path = f'/nas/project_data/B1_Behavior/hakim/UDIVA/annotation/{subset}'"
   ]
  },
  {
   "cell_type": "code",
   "execution_count": 3,
   "id": "bfd375be",
   "metadata": {},
   "outputs": [],
   "source": [
    "train_session_path = '/nas/database/UDIVA/train/metadata/metadata_train/sessions_train.csv'\n",
    "train_label_path = '/nas/database/UDIVA/train/metadata/metadata_train/parts_train.csv'\n",
    "val_session_path = '/nas/database/UDIVA/val/metadata/metadata_val/sessions_val.csv'\n",
    "val_label_path = '/nas/database/UDIVA/val/metadata/metadata_val_unmasked/parts_val_unmasked.csv'\n",
    "test_session_path = '/nas/database/UDIVA/test/metadata/metadata_test/sessions_test.csv'\n",
    "test_label_path = '/nas/database/UDIVA/test/metadata/metadata_test_unmasked/parts_test_unmasked.csv'\n",
    "\n",
    "session_df = pd.read_csv(val_session_path, index_col='ID', usecols=['ID', 'PART.1', 'PART.2'])\n",
    "\n",
    "label_df = pd.read_csv(val_label_path,\n",
    "                       index_col='ID',\n",
    "                       usecols=['ID', \n",
    "                                'OPENMINDEDNESS_Z', \n",
    "                                'CONSCIENTIOUSNESS_Z', \n",
    "                                'EXTRAVERSION_Z', \n",
    "                                'AGREEABLENESS_Z', \n",
    "                                'NEGATIVEEMOTIONALITY_Z'])"
   ]
  },
  {
   "cell_type": "code",
   "execution_count": 4,
   "id": "69689175",
   "metadata": {},
   "outputs": [],
   "source": [
    "def get_personality(df, participant_id):\n",
    "    personality = []\n",
    "    personality.append(df.loc[participant_id]['OPENMINDEDNESS_Z'])\n",
    "    personality.append(df.loc[participant_id]['CONSCIENTIOUSNESS_Z'])\n",
    "    personality.append(df.loc[participant_id]['EXTRAVERSION_Z'])\n",
    "    personality.append(df.loc[participant_id]['AGREEABLENESS_Z'])\n",
    "    personality.append(df.loc[participant_id]['NEGATIVEEMOTIONALITY_Z'])\n",
    "    return personality"
   ]
  },
  {
   "cell_type": "code",
   "execution_count": 5,
   "id": "62a7ee85",
   "metadata": {},
   "outputs": [],
   "source": [
    "def get_landmarks(task, session, participant, subset):\n",
    "    data_path = f'/nas/project_data/B1_Behavior/hakim/UDIVA/annotation/{subset}'\n",
    "    par_name = 'FC' + str(participant) + '_' + task[0].upper()\n",
    "    if task == 'talk':\n",
    "        annotation_path = os.path.join(data_path, task, session, par_name, 'annotations_cleaned_masked.hdf5')\n",
    "    else:\n",
    "        annotation_path = os.path.join(data_path, task, session, par_name, 'annotations_raw.hdf5')\n",
    "    \n",
    "    landmarks = []\n",
    "    with h5py.File(annotation_path, \"r\") as f:\n",
    "        for frame in f.keys():\n",
    "            try:\n",
    "                landmark = f[frame]['face']['landmarks'][()]\n",
    "                landmarks.append(landmark)\n",
    "            except KeyError:\n",
    "                continue\n",
    "        f.close()\n",
    "    return np.array(landmarks)"
   ]
  },
  {
   "cell_type": "code",
   "execution_count": 6,
   "id": "8cc78423",
   "metadata": {},
   "outputs": [],
   "source": [
    "for task in tasks:\n",
    "    anno_path = os.path.join(data_path, task)\n",
    "    \n",
    "    for session in os.listdir(anno_path):\n",
    "        session_path = os.path.join(anno_path, session)\n",
    "        session_id = int(session)\n",
    "\n",
    "        for par in range(1,3):\n",
    "            if (par == 1):\n",
    "                participant_id = session_df.loc[session_id]['PART.1']\n",
    "            else:\n",
    "                participant_id = session_df.loc[session_id]['PART.2']\n",
    "            \n",
    "            label = get_personality(label_df, participant_id)\n",
    "            landmarks = get_landmarks(task, session, par, subset)\n",
    "        break   \n",
    "    break"
   ]
  },
  {
   "cell_type": "code",
   "execution_count": 6,
   "id": "d2e2d117",
   "metadata": {},
   "outputs": [],
   "source": [
    "l = get_landmarks(\"animals\", \"008105\", 1, 'test')"
   ]
  },
  {
   "cell_type": "code",
   "execution_count": 8,
   "id": "3ce67526",
   "metadata": {},
   "outputs": [
    {
     "data": {
      "text/plain": [
       "(9486, 68, 3)"
      ]
     },
     "execution_count": 8,
     "metadata": {},
     "output_type": "execute_result"
    }
   ],
   "source": [
    "l.shape"
   ]
  },
  {
   "cell_type": "code",
   "execution_count": 9,
   "id": "b0365e3e",
   "metadata": {},
   "outputs": [],
   "source": [
    "m = get_landmarks(\"animals\", \"008105\", 2, 'test')"
   ]
  },
  {
   "cell_type": "code",
   "execution_count": 10,
   "id": "a827a155",
   "metadata": {},
   "outputs": [
    {
     "data": {
      "text/plain": [
       "(9490, 68, 3)"
      ]
     },
     "execution_count": 10,
     "metadata": {},
     "output_type": "execute_result"
    }
   ],
   "source": [
    "m.shape"
   ]
  },
  {
   "cell_type": "code",
   "execution_count": null,
   "id": "785847c4",
   "metadata": {},
   "outputs": [],
   "source": []
  }
 ],
 "metadata": {
  "kernelspec": {
   "display_name": "base",
   "language": "python",
   "name": "base"
  },
  "language_info": {
   "codemirror_mode": {
    "name": "ipython",
    "version": 3
   },
   "file_extension": ".py",
   "mimetype": "text/x-python",
   "name": "python",
   "nbconvert_exporter": "python",
   "pygments_lexer": "ipython3",
   "version": "3.9.12"
  }
 },
 "nbformat": 4,
 "nbformat_minor": 5
}
