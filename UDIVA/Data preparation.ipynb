{
 "cells": [
  {
   "cell_type": "code",
   "execution_count": 1,
   "id": "6ed805af",
   "metadata": {},
   "outputs": [],
   "source": [
    "import pandas as pd\n",
    "import h5py\n",
    "import os\n",
    "import numpy as np"
   ]
  },
  {
   "cell_type": "code",
   "execution_count": 2,
   "id": "ad890c44",
   "metadata": {},
   "outputs": [],
   "source": [
    "subset = 'val'\n",
    "# tasks = ['animals', 'ghost', 'lego', 'talk']\n",
    "tasks = ['talk']\n",
    "data_path = f'/nas/project_data/B1_Behavior/hakim/UDIVA/annotation/{subset}'"
   ]
  },
  {
   "cell_type": "code",
   "execution_count": 3,
   "id": "bfd375be",
   "metadata": {},
   "outputs": [],
   "source": [
    "train_session_path = '/nas/database/UDIVA/train/metadata/metadata_train/sessions_train.csv'\n",
    "train_label_path = '/nas/database/UDIVA/train/metadata/metadata_train/parts_train.csv'\n",
    "val_session_path = '/nas/database/UDIVA/val/metadata/metadata_val/sessions_val.csv'\n",
    "val_label_path = '/nas/database/UDIVA/val/metadata/metadata_val_unmasked/parts_val_unmasked.csv'\n",
    "test_session_path = '/nas/database/UDIVA/test/metadata/metadata_test/sessions_test.csv'\n",
    "test_label_path = '/nas/database/UDIVA/test/metadata/metadata_test_unmasked/parts_test_unmasked.csv'\n",
    "\n",
    "session_df = pd.read_csv(val_session_path, index_col='ID', usecols=['ID', 'PART.1', 'PART.2'])\n",
    "\n",
    "label_df = pd.read_csv(val_label_path,\n",
    "                       index_col='ID',\n",
    "                       usecols=['ID', \n",
    "                                'OPENMINDEDNESS_Z', \n",
    "                                'CONSCIENTIOUSNESS_Z', \n",
    "                                'EXTRAVERSION_Z', \n",
    "                                'AGREEABLENESS_Z', \n",
    "                                'NEGATIVEEMOTIONALITY_Z'])"
   ]
  },
  {
   "cell_type": "code",
   "execution_count": 4,
   "id": "69689175",
   "metadata": {},
   "outputs": [],
   "source": [
    "def get_personality(df, participant_id):\n",
    "    personality = []\n",
    "    personality.append(df.loc[participant_id]['OPENMINDEDNESS_Z'])\n",
    "    personality.append(df.loc[participant_id]['CONSCIENTIOUSNESS_Z'])\n",
    "    personality.append(df.loc[participant_id]['EXTRAVERSION_Z'])\n",
    "    personality.append(df.loc[participant_id]['AGREEABLENESS_Z'])\n",
    "    personality.append(df.loc[participant_id]['NEGATIVEEMOTIONALITY_Z'])\n",
    "    return personality"
   ]
  },
  {
   "cell_type": "code",
   "execution_count": 5,
   "id": "62a7ee85",
   "metadata": {},
   "outputs": [],
   "source": [
    "def get_landmarks(task, session, participant, subset):\n",
    "    data_path = f'/nas/project_data/B1_Behavior/hakim/UDIVA/annotation/{subset}'\n",
    "    par_name = 'FC' + str(participant) + '_' + task[0].upper()\n",
    "    if task == 'talk':\n",
    "        annotation_path = os.path.join(data_path, task, session, par_name, 'annotations_cleaned_masked.hdf5')\n",
    "    else:\n",
    "        annotation_path = os.path.join(data_path, task, session, par_name, 'annotations_raw.hdf5')\n",
    "    \n",
    "    landmarks = []\n",
    "    with h5py.File(annotation_path, \"r\") as f:\n",
    "        for frame in f.keys():\n",
    "            try:\n",
    "                landmark = f[frame]['face']['landmarks'][()]\n",
    "                landmarks.append(landmark)\n",
    "            except KeyError:\n",
    "                continue\n",
    "        f.close()\n",
    "    return np.array(landmarks)"
   ]
  },
  {
   "cell_type": "code",
   "execution_count": null,
   "id": "aea75a19",
   "metadata": {},
   "outputs": [],
   "source": [
    "a = '';"
   ]
  },
  {
   "cell_type": "code",
   "execution_count": 6,
   "id": "8cc78423",
   "metadata": {},
   "outputs": [],
   "source": [
    "for task in tasks:\n",
    "    anno_path = os.path.join(data_path, task)\n",
    "    \n",
    "    for session in os.listdir(anno_path):\n",
    "        session_path = os.path.join(anno_path, session)\n",
    "        session_id = int(session)\n",
    "\n",
    "        for par in range(1,3):\n",
    "            if (par == 1):\n",
    "                participant_id = session_df.loc[session_id]['PART.1']\n",
    "            else:\n",
    "                participant_id = session_df.loc[session_id]['PART.2']\n",
    "            \n",
    "            label = get_personality(label_df, participant_id)\n",
    "            landmarks = get_landmarks(task, session, par, subset)\n",
    "            a = landmarks\n",
    "        break   \n",
    "    break"
   ]
  },
  {
   "cell_type": "code",
   "execution_count": 10,
   "id": "1ce08ba1",
   "metadata": {},
   "outputs": [
    {
     "data": {
      "text/plain": [
       "array([[679, 238,  11],\n",
       "       [680, 255,   7],\n",
       "       [683, 271,   2],\n",
       "       [686, 286,   0],\n",
       "       [691, 304,   3],\n",
       "       [700, 320,  12],\n",
       "       [710, 333,  27],\n",
       "       [724, 344,  41],\n",
       "       [744, 349,  46],\n",
       "       [764, 344,  42],\n",
       "       [779, 334,  29],\n",
       "       [790, 321,  15],\n",
       "       [799, 305,   5],\n",
       "       [804, 287,   3],\n",
       "       [807, 272,   5],\n",
       "       [810, 256,  10],\n",
       "       [811, 239,  14],\n",
       "       [692, 238,  70],\n",
       "       [699, 235,  82],\n",
       "       [708, 236,  90],\n",
       "       [717, 238,  94],\n",
       "       [726, 240,  95],\n",
       "       [760, 240,  96],\n",
       "       [768, 238,  95],\n",
       "       [777, 236,  91],\n",
       "       [787, 235,  84],\n",
       "       [795, 238,  73],\n",
       "       [743, 259,  91],\n",
       "       [743, 272,  95],\n",
       "       [743, 284,  99],\n",
       "       [743, 293,  98],\n",
       "       [732, 296,  77],\n",
       "       [737, 297,  80],\n",
       "       [743, 299,  82],\n",
       "       [749, 297,  81],\n",
       "       [754, 296,  78],\n",
       "       [704, 252,  72],\n",
       "       [710, 251,  80],\n",
       "       [718, 252,  80],\n",
       "       [725, 255,  77],\n",
       "       [718, 257,  78],\n",
       "       [710, 257,  76],\n",
       "       [761, 255,  77],\n",
       "       [768, 252,  81],\n",
       "       [776, 252,  82],\n",
       "       [782, 253,  73],\n",
       "       [776, 257,  77],\n",
       "       [768, 257,  79],\n",
       "       [721, 314,  62],\n",
       "       [728, 312,  73],\n",
       "       [738, 309,  80],\n",
       "       [743, 310,  80],\n",
       "       [748, 310,  80],\n",
       "       [758, 312,  74],\n",
       "       [765, 314,  63],\n",
       "       [757, 319,  70],\n",
       "       [750, 323,  73],\n",
       "       [743, 323,  73],\n",
       "       [736, 322,  73],\n",
       "       [729, 319,  70],\n",
       "       [723, 313,  63],\n",
       "       [736, 314,  73],\n",
       "       [743, 314,  75],\n",
       "       [749, 314,  74],\n",
       "       [764, 313,  64],\n",
       "       [749, 315,  74],\n",
       "       [743, 316,  75],\n",
       "       [737, 315,  74]], dtype=int16)"
      ]
     },
     "execution_count": 10,
     "metadata": {},
     "output_type": "execute_result"
    }
   ],
   "source": [
    "a[0]"
   ]
  },
  {
   "cell_type": "code",
   "execution_count": null,
   "id": "d2e2d117",
   "metadata": {},
   "outputs": [],
   "source": []
  }
 ],
 "metadata": {
  "kernelspec": {
   "display_name": "base",
   "language": "python",
   "name": "base"
  },
  "language_info": {
   "codemirror_mode": {
    "name": "ipython",
    "version": 3
   },
   "file_extension": ".py",
   "mimetype": "text/x-python",
   "name": "python",
   "nbconvert_exporter": "python",
   "pygments_lexer": "ipython3",
   "version": "3.9.12"
  }
 },
 "nbformat": 4,
 "nbformat_minor": 5
}
