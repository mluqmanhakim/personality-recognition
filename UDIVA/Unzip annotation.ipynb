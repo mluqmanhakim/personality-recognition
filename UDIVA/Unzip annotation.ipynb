{
 "cells": [
  {
   "cell_type": "code",
   "execution_count": 4,
   "id": "61ec2fd1",
   "metadata": {},
   "outputs": [],
   "source": [
    "import pandas as pd\n",
    "import h5py\n",
    "import os"
   ]
  },
  {
   "cell_type": "markdown",
   "id": "9931076a",
   "metadata": {},
   "source": [
    "# Unzip annotation"
   ]
  },
  {
   "cell_type": "code",
   "execution_count": 21,
   "id": "324a510b",
   "metadata": {},
   "outputs": [],
   "source": [
    "subset = 'test'\n",
    "tasks = ['animals', 'ghost', 'lego', 'talk']\n",
    "# tasks = ['talk']\n",
    "data_path = f'/nas/database/UDIVA/{subset}/annotations'\n",
    "new_data_path = f'/nas/project_data/B1_Behavior/hakim/UDIVA/annotation/{subset}'"
   ]
  },
  {
   "cell_type": "code",
   "execution_count": null,
   "id": "46a1133c",
   "metadata": {},
   "outputs": [
    {
     "name": "stdout",
     "output_type": "stream",
     "text": [
      "Archive:  /nas/database/UDIVA/test/annotations/animals_annotations_test/008105/FC1_A/annotations_raw.zip\n",
      "  inflating: /nas/project_data/B1_Behavior/hakim/UDIVA/annotation/test/animals/008105/FC1_A/annotations_raw.hdf5  \n",
      "Archive:  /nas/database/UDIVA/test/annotations/animals_annotations_test/008105/FC2_A/annotations_raw.zip\n",
      "  inflating: /nas/project_data/B1_Behavior/hakim/UDIVA/annotation/test/animals/008105/FC2_A/annotations_raw.hdf5  \n",
      "Archive:  /nas/database/UDIVA/test/annotations/animals_annotations_test/056109/FC1_A/annotations_raw.zip\n",
      "  inflating: /nas/project_data/B1_Behavior/hakim/UDIVA/annotation/test/animals/056109/FC1_A/annotations_raw.hdf5  \n",
      "Archive:  /nas/database/UDIVA/test/annotations/animals_annotations_test/056109/FC2_A/annotations_raw.zip\n",
      "  inflating: /nas/project_data/B1_Behavior/hakim/UDIVA/annotation/test/animals/056109/FC2_A/annotations_raw.hdf5  \n",
      "Archive:  /nas/database/UDIVA/test/annotations/animals_annotations_test/066067/FC1_A/annotations_raw.zip\n",
      "  inflating: /nas/project_data/B1_Behavior/hakim/UDIVA/annotation/test/animals/066067/FC1_A/annotations_raw.hdf5  \n",
      "Archive:  /nas/database/UDIVA/test/annotations/animals_annotations_test/066067/FC2_A/annotations_raw.zip\n",
      "  inflating: /nas/project_data/B1_Behavior/hakim/UDIVA/annotation/test/animals/066067/FC2_A/annotations_raw.hdf5  \n",
      "Archive:  /nas/database/UDIVA/test/annotations/animals_annotations_test/086087/FC1_A/annotations_raw.zip\n",
      "  inflating: /nas/project_data/B1_Behavior/hakim/UDIVA/annotation/test/animals/086087/FC1_A/annotations_raw.hdf5  \n",
      "Archive:  /nas/database/UDIVA/test/annotations/animals_annotations_test/086087/FC2_A/annotations_raw.zip\n",
      "  inflating: /nas/project_data/B1_Behavior/hakim/UDIVA/annotation/test/animals/086087/FC2_A/annotations_raw.hdf5  \n",
      "Archive:  /nas/database/UDIVA/test/annotations/animals_annotations_test/086089/FC1_A/annotations_raw.zip\n",
      "  inflating: /nas/project_data/B1_Behavior/hakim/UDIVA/annotation/test/animals/086089/FC1_A/annotations_raw.hdf5  \n",
      "Archive:  /nas/database/UDIVA/test/annotations/animals_annotations_test/086089/FC2_A/annotations_raw.zip\n",
      "  inflating: /nas/project_data/B1_Behavior/hakim/UDIVA/annotation/test/animals/086089/FC2_A/annotations_raw.hdf5  \n",
      "Archive:  /nas/database/UDIVA/test/annotations/animals_annotations_test/087088/FC1_A/annotations_raw.zip\n",
      "  inflating: /nas/project_data/B1_Behavior/hakim/UDIVA/annotation/test/animals/087088/FC1_A/annotations_raw.hdf5  \n",
      "Archive:  /nas/database/UDIVA/test/annotations/animals_annotations_test/087088/FC2_A/annotations_raw.zip\n",
      "  inflating: /nas/project_data/B1_Behavior/hakim/UDIVA/annotation/test/animals/087088/FC2_A/annotations_raw.hdf5  \n",
      "Archive:  /nas/database/UDIVA/test/annotations/animals_annotations_test/087089/FC1_A/annotations_raw.zip\n",
      "  inflating: /nas/project_data/B1_Behavior/hakim/UDIVA/annotation/test/animals/087089/FC1_A/annotations_raw.hdf5  \n",
      "Archive:  /nas/database/UDIVA/test/annotations/animals_annotations_test/087089/FC2_A/annotations_raw.zip\n",
      "  inflating: /nas/project_data/B1_Behavior/hakim/UDIVA/annotation/test/animals/087089/FC2_A/annotations_raw.hdf5  \n",
      "Archive:  /nas/database/UDIVA/test/annotations/animals_annotations_test/088089/FC1_A/annotations_raw.zip\n",
      "  inflating: /nas/project_data/B1_Behavior/hakim/UDIVA/annotation/test/animals/088089/FC1_A/annotations_raw.hdf5  \n",
      "Archive:  /nas/database/UDIVA/test/annotations/animals_annotations_test/088089/FC2_A/annotations_raw.zip\n",
      "  inflating: /nas/project_data/B1_Behavior/hakim/UDIVA/annotation/test/animals/088089/FC2_A/annotations_raw.hdf5  \n",
      "Archive:  /nas/database/UDIVA/test/annotations/animals_annotations_test/105117/FC1_A/annotations_raw.zip\n",
      "  inflating: /nas/project_data/B1_Behavior/hakim/UDIVA/annotation/test/animals/105117/FC1_A/annotations_raw.hdf5  \n",
      "Archive:  /nas/database/UDIVA/test/annotations/animals_annotations_test/105117/FC2_A/annotations_raw.zip\n",
      "  inflating: /nas/project_data/B1_Behavior/hakim/UDIVA/annotation/test/animals/105117/FC2_A/annotations_raw.hdf5  "
     ]
    }
   ],
   "source": [
    "for task in tasks:\n",
    "    task_dir_name = task + f'_annotations_{subset}'\n",
    "    anno_path = os.path.join(data_path, task_dir_name)\n",
    "    \n",
    "    for session in os.listdir(anno_path):\n",
    "        session_path = os.path.join(anno_path, session)\n",
    "        session_id = int(session)\n",
    "\n",
    "        for p in os.listdir(session_path):\n",
    "            annotation_zip = os.path.join(session_path, p, 'annotations_raw.zip')\n",
    "            dest_path = os.path.join(new_data_path, task, session, p)\n",
    "            os.makedirs(dest_path, exist_ok=True)\n",
    "            command = \"unzip \" + annotation_zip + \" -d \" + dest_path\n",
    "            os.system(command)"
   ]
  },
  {
   "cell_type": "code",
   "execution_count": null,
   "id": "fcdfd84f",
   "metadata": {},
   "outputs": [],
   "source": []
  },
  {
   "cell_type": "code",
   "execution_count": null,
   "id": "b1538ac9",
   "metadata": {},
   "outputs": [],
   "source": []
  },
  {
   "cell_type": "code",
   "execution_count": null,
   "id": "c94e4cb6",
   "metadata": {},
   "outputs": [],
   "source": []
  }
 ],
 "metadata": {
  "kernelspec": {
   "display_name": "base",
   "language": "python",
   "name": "base"
  },
  "language_info": {
   "codemirror_mode": {
    "name": "ipython",
    "version": 3
   },
   "file_extension": ".py",
   "mimetype": "text/x-python",
   "name": "python",
   "nbconvert_exporter": "python",
   "pygments_lexer": "ipython3",
   "version": "3.9.12"
  }
 },
 "nbformat": 4,
 "nbformat_minor": 5
}
