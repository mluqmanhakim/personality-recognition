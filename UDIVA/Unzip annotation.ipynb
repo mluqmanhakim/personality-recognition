{
 "cells": [
  {
   "cell_type": "code",
   "execution_count": 1,
   "id": "61ec2fd1",
   "metadata": {},
   "outputs": [],
   "source": [
    "import pandas as pd\n",
    "import h5py\n",
    "import os"
   ]
  },
  {
   "cell_type": "markdown",
   "id": "9931076a",
   "metadata": {},
   "source": [
    "# Unzip annotation"
   ]
  },
  {
   "cell_type": "code",
   "execution_count": 7,
   "id": "324a510b",
   "metadata": {},
   "outputs": [],
   "source": [
    "subset = 'val'\n",
    "# tasks = ['animals', 'ghost', 'lego', 'talk']\n",
    "tasks = ['talk']\n",
    "data_path = f'/nas/database/UDIVA/{subset}/annotations'\n",
    "new_data_path = f'/nas/project_data/B1_Behavior/hakim/UDIVA/annotation/{subset}'"
   ]
  },
  {
   "cell_type": "code",
   "execution_count": 8,
   "id": "46a1133c",
   "metadata": {},
   "outputs": [
    {
     "name": "stdout",
     "output_type": "stream",
     "text": [
      "Archive:  /nas/database/UDIVA/val/annotations/talk_annotations_val/001080/FC1_T/annotations_raw_unmasked.zip\n",
      "  inflating: /nas/project_data/B1_Behavior/hakim/UDIVA/annotation/val/talk/001080/FC1_T/annotations_raw.hdf5  \n",
      "Archive:  /nas/database/UDIVA/val/annotations/talk_annotations_val/001080/FC2_T/annotations_raw_unmasked.zip\n",
      "  inflating: /nas/project_data/B1_Behavior/hakim/UDIVA/annotation/val/talk/001080/FC2_T/annotations_raw.hdf5  \n",
      "Archive:  /nas/database/UDIVA/val/annotations/talk_annotations_val/001081/FC1_T/annotations_raw_unmasked.zip\n",
      "  inflating: /nas/project_data/B1_Behavior/hakim/UDIVA/annotation/val/talk/001081/FC1_T/annotations_raw.hdf5  \n",
      "Archive:  /nas/database/UDIVA/val/annotations/talk_annotations_val/001081/FC2_T/annotations_raw_unmasked.zip\n",
      "  inflating: /nas/project_data/B1_Behavior/hakim/UDIVA/annotation/val/talk/001081/FC2_T/annotations_raw.hdf5  \n",
      "Archive:  /nas/database/UDIVA/val/annotations/talk_annotations_val/038039/FC1_T/annotations_raw_unmasked.zip\n",
      "  inflating: /nas/project_data/B1_Behavior/hakim/UDIVA/annotation/val/talk/038039/FC1_T/annotations_raw.hdf5  \n",
      "Archive:  /nas/database/UDIVA/val/annotations/talk_annotations_val/038039/FC2_T/annotations_raw_unmasked.zip\n",
      "  inflating: /nas/project_data/B1_Behavior/hakim/UDIVA/annotation/val/talk/038039/FC2_T/annotations_raw.hdf5  \n",
      "Archive:  /nas/database/UDIVA/val/annotations/talk_annotations_val/052057/FC1_T/annotations_raw_unmasked.zip\n",
      "  inflating: /nas/project_data/B1_Behavior/hakim/UDIVA/annotation/val/talk/052057/FC1_T/annotations_raw.hdf5  \n",
      "Archive:  /nas/database/UDIVA/val/annotations/talk_annotations_val/052057/FC2_T/annotations_raw_unmasked.zip\n",
      "  inflating: /nas/project_data/B1_Behavior/hakim/UDIVA/annotation/val/talk/052057/FC2_T/annotations_raw.hdf5  \n",
      "Archive:  /nas/database/UDIVA/val/annotations/talk_annotations_val/080081/FC1_T/annotations_raw_unmasked.zip\n",
      "  inflating: /nas/project_data/B1_Behavior/hakim/UDIVA/annotation/val/talk/080081/FC1_T/annotations_raw.hdf5  \n",
      "Archive:  /nas/database/UDIVA/val/annotations/talk_annotations_val/080081/FC2_T/annotations_raw_unmasked.zip\n",
      "  inflating: /nas/project_data/B1_Behavior/hakim/UDIVA/annotation/val/talk/080081/FC2_T/annotations_raw.hdf5  \n",
      "Archive:  /nas/database/UDIVA/val/annotations/talk_annotations_val/085186/FC1_T/annotations_raw_unmasked.zip\n",
      "  inflating: /nas/project_data/B1_Behavior/hakim/UDIVA/annotation/val/talk/085186/FC1_T/annotations_raw.hdf5  \n",
      "Archive:  /nas/database/UDIVA/val/annotations/talk_annotations_val/085186/FC2_T/annotations_raw_unmasked.zip\n",
      "  inflating: /nas/project_data/B1_Behavior/hakim/UDIVA/annotation/val/talk/085186/FC2_T/annotations_raw.hdf5  \n",
      "Archive:  /nas/database/UDIVA/val/annotations/talk_annotations_val/085190/FC1_T/annotations_raw_unmasked.zip\n",
      "  inflating: /nas/project_data/B1_Behavior/hakim/UDIVA/annotation/val/talk/085190/FC1_T/annotations_raw.hdf5  \n",
      "Archive:  /nas/database/UDIVA/val/annotations/talk_annotations_val/085190/FC2_T/annotations_raw_unmasked.zip\n",
      "  inflating: /nas/project_data/B1_Behavior/hakim/UDIVA/annotation/val/talk/085190/FC2_T/annotations_raw.hdf5  \n",
      "Archive:  /nas/database/UDIVA/val/annotations/talk_annotations_val/119124/FC1_T/annotations_raw_unmasked.zip\n",
      "  inflating: /nas/project_data/B1_Behavior/hakim/UDIVA/annotation/val/talk/119124/FC1_T/annotations_raw.hdf5  \n",
      "Archive:  /nas/database/UDIVA/val/annotations/talk_annotations_val/119124/FC2_T/annotations_raw_unmasked.zip\n",
      "  inflating: /nas/project_data/B1_Behavior/hakim/UDIVA/annotation/val/talk/119124/FC2_T/annotations_raw.hdf5  \n",
      "Archive:  /nas/database/UDIVA/val/annotations/talk_annotations_val/119145/FC1_T/annotations_raw_unmasked.zip\n",
      "  inflating: /nas/project_data/B1_Behavior/hakim/UDIVA/annotation/val/talk/119145/FC1_T/annotations_raw.hdf5  \n",
      "Archive:  /nas/database/UDIVA/val/annotations/talk_annotations_val/119145/FC2_T/annotations_raw_unmasked.zip\n",
      "  inflating: /nas/project_data/B1_Behavior/hakim/UDIVA/annotation/val/talk/119145/FC2_T/annotations_raw.hdf5  \n",
      "Archive:  /nas/database/UDIVA/val/annotations/talk_annotations_val/119190/FC1_T/annotations_raw_unmasked.zip\n",
      "  inflating: /nas/project_data/B1_Behavior/hakim/UDIVA/annotation/val/talk/119190/FC1_T/annotations_raw.hdf5  \n",
      "Archive:  /nas/database/UDIVA/val/annotations/talk_annotations_val/119190/FC2_T/annotations_raw_unmasked.zip\n",
      "  inflating: /nas/project_data/B1_Behavior/hakim/UDIVA/annotation/val/talk/119190/FC2_T/annotations_raw.hdf5  \n",
      "Archive:  /nas/database/UDIVA/val/annotations/talk_annotations_val/124145/FC1_T/annotations_raw_unmasked.zip\n",
      "  inflating: /nas/project_data/B1_Behavior/hakim/UDIVA/annotation/val/talk/124145/FC1_T/annotations_raw.hdf5  \n",
      "Archive:  /nas/database/UDIVA/val/annotations/talk_annotations_val/124145/FC2_T/annotations_raw_unmasked.zip\n",
      "  inflating: /nas/project_data/B1_Behavior/hakim/UDIVA/annotation/val/talk/124145/FC2_T/annotations_raw.hdf5  \n",
      "Archive:  /nas/database/UDIVA/val/annotations/talk_annotations_val/141182/FC1_T/annotations_raw_unmasked.zip\n",
      "  inflating: /nas/project_data/B1_Behavior/hakim/UDIVA/annotation/val/talk/141182/FC1_T/annotations_raw.hdf5  \n",
      "Archive:  /nas/database/UDIVA/val/annotations/talk_annotations_val/141182/FC2_T/annotations_raw_unmasked.zip\n",
      "  inflating: /nas/project_data/B1_Behavior/hakim/UDIVA/annotation/val/talk/141182/FC2_T/annotations_raw.hdf5  \n",
      "Archive:  /nas/database/UDIVA/val/annotations/talk_annotations_val/141183/FC1_T/annotations_raw_unmasked.zip\n",
      "  inflating: /nas/project_data/B1_Behavior/hakim/UDIVA/annotation/val/talk/141183/FC1_T/annotations_raw.hdf5  \n",
      "Archive:  /nas/database/UDIVA/val/annotations/talk_annotations_val/141183/FC2_T/annotations_raw_unmasked.zip\n",
      "  inflating: /nas/project_data/B1_Behavior/hakim/UDIVA/annotation/val/talk/141183/FC2_T/annotations_raw.hdf5  \n",
      "Archive:  /nas/database/UDIVA/val/annotations/talk_annotations_val/146147/FC1_T/annotations_raw_unmasked.zip\n",
      "  inflating: /nas/project_data/B1_Behavior/hakim/UDIVA/annotation/val/talk/146147/FC1_T/annotations_raw.hdf5  \n",
      "Archive:  /nas/database/UDIVA/val/annotations/talk_annotations_val/146147/FC2_T/annotations_raw_unmasked.zip\n",
      "  inflating: /nas/project_data/B1_Behavior/hakim/UDIVA/annotation/val/talk/146147/FC2_T/annotations_raw.hdf5  \n",
      "Archive:  /nas/database/UDIVA/val/annotations/talk_annotations_val/180181/FC1_T/annotations_raw_unmasked.zip\n",
      "  inflating: /nas/project_data/B1_Behavior/hakim/UDIVA/annotation/val/talk/180181/FC1_T/annotations_raw.hdf5  \n",
      "Archive:  /nas/database/UDIVA/val/annotations/talk_annotations_val/180181/FC2_T/annotations_raw_unmasked.zip\n",
      "  inflating: /nas/project_data/B1_Behavior/hakim/UDIVA/annotation/val/talk/180181/FC2_T/annotations_raw.hdf5  \n",
      "Archive:  /nas/database/UDIVA/val/annotations/talk_annotations_val/181182/FC1_T/annotations_raw_unmasked.zip\n",
      "  inflating: /nas/project_data/B1_Behavior/hakim/UDIVA/annotation/val/talk/181182/FC1_T/annotations_raw.hdf5  \n",
      "Archive:  /nas/database/UDIVA/val/annotations/talk_annotations_val/181182/FC2_T/annotations_raw_unmasked.zip\n",
      "  inflating: /nas/project_data/B1_Behavior/hakim/UDIVA/annotation/val/talk/181182/FC2_T/annotations_raw.hdf5  \n",
      "Archive:  /nas/database/UDIVA/val/annotations/talk_annotations_val/182183/FC1_T/annotations_raw_unmasked.zip\n",
      "  inflating: /nas/project_data/B1_Behavior/hakim/UDIVA/annotation/val/talk/182183/FC1_T/annotations_raw.hdf5  \n",
      "Archive:  /nas/database/UDIVA/val/annotations/talk_annotations_val/182183/FC2_T/annotations_raw_unmasked.zip\n",
      "  inflating: /nas/project_data/B1_Behavior/hakim/UDIVA/annotation/val/talk/182183/FC2_T/annotations_raw.hdf5  \n",
      "Archive:  /nas/database/UDIVA/val/annotations/talk_annotations_val/183186/FC1_T/annotations_raw_unmasked.zip\n",
      "  inflating: /nas/project_data/B1_Behavior/hakim/UDIVA/annotation/val/talk/183186/FC1_T/annotations_raw.hdf5  \n",
      "Archive:  /nas/database/UDIVA/val/annotations/talk_annotations_val/183186/FC2_T/annotations_raw_unmasked.zip\n",
      "  inflating: /nas/project_data/B1_Behavior/hakim/UDIVA/annotation/val/talk/183186/FC2_T/annotations_raw.hdf5  \n"
     ]
    }
   ],
   "source": [
    "for task in tasks:\n",
    "    task_dir_name = task + f'_annotations_{subset}'\n",
    "    anno_path = os.path.join(data_path, task_dir_name)\n",
    "    \n",
    "    for session in os.listdir(anno_path):\n",
    "        session_path = os.path.join(anno_path, session)\n",
    "\n",
    "        for par in os.listdir(session_path):\n",
    "            annotation_zip = os.path.join(session_path, par, 'annotations_raw_unmasked.zip')\n",
    "            dest_path = os.path.join(new_data_path, task, session, par)\n",
    "            os.makedirs(dest_path, exist_ok=True)\n",
    "            command = \"unzip \" + annotation_zip + \" -d \" + dest_path\n",
    "            os.system(command)"
   ]
  },
  {
   "cell_type": "code",
   "execution_count": null,
   "id": "fcdfd84f",
   "metadata": {},
   "outputs": [],
   "source": []
  },
  {
   "cell_type": "code",
   "execution_count": null,
   "id": "b1538ac9",
   "metadata": {},
   "outputs": [],
   "source": []
  },
  {
   "cell_type": "code",
   "execution_count": null,
   "id": "c94e4cb6",
   "metadata": {},
   "outputs": [],
   "source": []
  }
 ],
 "metadata": {
  "kernelspec": {
   "display_name": "base",
   "language": "python",
   "name": "base"
  },
  "language_info": {
   "codemirror_mode": {
    "name": "ipython",
    "version": 3
   },
   "file_extension": ".py",
   "mimetype": "text/x-python",
   "name": "python",
   "nbconvert_exporter": "python",
   "pygments_lexer": "ipython3",
   "version": "3.9.12"
  }
 },
 "nbformat": 4,
 "nbformat_minor": 5
}
