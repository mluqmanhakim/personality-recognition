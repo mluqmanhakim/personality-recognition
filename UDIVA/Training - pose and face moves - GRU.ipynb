{
 "cells": [
  {
   "cell_type": "code",
   "execution_count": 1,
   "id": "08538b92",
   "metadata": {},
   "outputs": [
    {
     "name": "stderr",
     "output_type": "stream",
     "text": [
      "/home/luqman/miniconda3/lib/python3.9/site-packages/tqdm/auto.py:22: TqdmWarning: IProgress not found. Please update jupyter and ipywidgets. See https://ipywidgets.readthedocs.io/en/stable/user_install.html\n",
      "  from .autonotebook import tqdm as notebook_tqdm\n"
     ]
    }
   ],
   "source": [
    "import numpy as np\n",
    "import pickle\n",
    "import os\n",
    "import torch\n",
    "from torch.utils.data import TensorDataset, DataLoader\n",
    "import matplotlib.pyplot as plt\n",
    "from scipy import stats"
   ]
  },
  {
   "cell_type": "markdown",
   "id": "0af9c0ac",
   "metadata": {},
   "source": [
    "# Data preparation"
   ]
  },
  {
   "cell_type": "code",
   "execution_count": 2,
   "id": "fe3e0733",
   "metadata": {},
   "outputs": [],
   "source": [
    "train_label_path = '/nas/project_data/B1_Behavior/hakim/UDIVA/label/train'\n",
    "val_label_path = '/nas/project_data/B1_Behavior/hakim/UDIVA/label/val'\n",
    "test_label_path = '/nas/project_data/B1_Behavior/hakim/UDIVA/label/test'\n",
    "train_data_path = '/nas/project_data/B1_Behavior/hakim/UDIVA/pose_face_moves/train'\n",
    "val_data_path = '/nas/project_data/B1_Behavior/hakim/UDIVA/pose_face_moves/val'\n",
    "test_data_path = '/nas/project_data/B1_Behavior/hakim/UDIVA/pose_face_moves/test'\n",
    "\n",
    "train_features = []\n",
    "train_labels = []\n",
    "val_features = []\n",
    "val_labels = []\n",
    "test_features = []\n",
    "test_labels = []"
   ]
  },
  {
   "cell_type": "code",
   "execution_count": 3,
   "id": "2c06ca53",
   "metadata": {},
   "outputs": [],
   "source": [
    "def split_feature(feature, size):\n",
    "    p = 0\n",
    "    splitted_feature = []\n",
    "    \n",
    "    for i in range(int(len(feature)/size)):\n",
    "        splitted_feature.append(feature[p:p+size, :])\n",
    "        p += size\n",
    "        \n",
    "    return splitted_feature"
   ]
  },
  {
   "cell_type": "code",
   "execution_count": 4,
   "id": "d935fb92",
   "metadata": {},
   "outputs": [],
   "source": [
    "SPLIT_SIZE = 450"
   ]
  },
  {
   "cell_type": "code",
   "execution_count": 5,
   "id": "d3cb1cd6",
   "metadata": {},
   "outputs": [],
   "source": [
    "for item in os.listdir(train_data_path):    \n",
    "    label_path = os.path.join(train_label_path, item)\n",
    "    with open(label_path, 'rb') as f:\n",
    "        label = np.load(f)\n",
    "    \n",
    "    input_path = os.path.join(train_data_path, item)\n",
    "    with open(input_path, 'rb') as f:\n",
    "        feature = np.load(f)    \n",
    "    \n",
    "    splitted_features = split_feature(feature, SPLIT_SIZE)\n",
    "    \n",
    "    for item in splitted_features:\n",
    "        train_features.append(item)\n",
    "        train_labels.append(label)"
   ]
  },
  {
   "cell_type": "code",
   "execution_count": 6,
   "id": "7c158c96",
   "metadata": {},
   "outputs": [],
   "source": [
    "for item in os.listdir(val_data_path):    \n",
    "    input_path = os.path.join(val_data_path, item)\n",
    "    with open(input_path, 'rb') as f:\n",
    "        feature = np.load(f)    \n",
    "    \n",
    "    label_path = os.path.join(val_label_path, item)\n",
    "    with open(label_path, 'rb') as f:\n",
    "        label = np.load(f)\n",
    "    \n",
    "    splitted_features = split_feature(feature, SPLIT_SIZE)\n",
    "    \n",
    "    for item in splitted_features:\n",
    "        val_features.append(item)\n",
    "        val_labels.append(label)"
   ]
  },
  {
   "cell_type": "code",
   "execution_count": 7,
   "id": "2dbc809f",
   "metadata": {},
   "outputs": [],
   "source": [
    "for item in os.listdir(test_data_path):    \n",
    "    input_path = os.path.join(test_data_path, item)\n",
    "    with open(input_path, 'rb') as f:\n",
    "        feature = np.load(f)\n",
    "     \n",
    "    label_path = os.path.join(test_label_path, item)\n",
    "    with open(label_path, 'rb') as f:\n",
    "        label = np.load(f)\n",
    "    \n",
    "    splitted_features = split_feature(feature, SPLIT_SIZE)\n",
    "    \n",
    "    for item in splitted_features:\n",
    "        test_features.append(item)\n",
    "        test_labels.append(label)"
   ]
  },
  {
   "cell_type": "code",
   "execution_count": 8,
   "id": "1067f6ea",
   "metadata": {},
   "outputs": [
    {
     "name": "stdout",
     "output_type": "stream",
     "text": [
      "19653\n",
      "3358\n",
      "1446\n"
     ]
    }
   ],
   "source": [
    "print(len(train_features))\n",
    "print(len(val_features))\n",
    "print(len(test_features))"
   ]
  },
  {
   "cell_type": "code",
   "execution_count": 9,
   "id": "ab64d34e",
   "metadata": {},
   "outputs": [],
   "source": [
    "BATCH_SIZE = 128\n",
    "train_features = torch.Tensor(np.array(train_features))\n",
    "train_labels = torch.Tensor(np.array(train_labels))\n",
    "val_features = torch.Tensor(np.array(val_features))\n",
    "val_labels = torch.Tensor(np.array(val_labels))\n",
    "test_features = torch.Tensor(np.array(test_features))\n",
    "test_labels = torch.Tensor(np.array(test_labels))"
   ]
  },
  {
   "cell_type": "code",
   "execution_count": 10,
   "id": "a1c89fac",
   "metadata": {},
   "outputs": [],
   "source": [
    "train_ds = TensorDataset(train_features, train_labels)\n",
    "val_ds = TensorDataset(val_features, val_labels)\n",
    "test_ds = TensorDataset(test_features, test_labels)\n",
    "\n",
    "train_loader = DataLoader(train_ds, batch_size=BATCH_SIZE, shuffle=True)\n",
    "val_loader = DataLoader(val_ds, batch_size=BATCH_SIZE, shuffle=True)\n",
    "test_loader = DataLoader(test_ds, batch_size=BATCH_SIZE, shuffle=True)"
   ]
  },
  {
   "cell_type": "markdown",
   "id": "5dbb63fd",
   "metadata": {},
   "source": [
    "# Model"
   ]
  },
  {
   "cell_type": "code",
   "execution_count": 11,
   "id": "292f1947",
   "metadata": {},
   "outputs": [],
   "source": [
    "if torch.cuda.is_available():\n",
    "    device = torch.device(\"cuda\")\n",
    "else:\n",
    "    device = torch.device(\"cpu\")"
   ]
  },
  {
   "cell_type": "code",
   "execution_count": 12,
   "id": "e335c49a",
   "metadata": {},
   "outputs": [],
   "source": [
    "class GRU(torch.nn.Module):\n",
    "    def __init__(self, input_size, hidden_size, bidirectional, output_dim, dropout, num_layers, batch_size):\n",
    "        super(GRU, self).__init__()\n",
    "        self.num_layers = num_layers\n",
    "        self.input_size = input_size\n",
    "        self.hidden_size = hidden_size\n",
    "        self.batch_size = batch_size\n",
    "        self.dropout = dropout\n",
    "        self.gru = torch.nn.GRU(input_size=self.input_size, \n",
    "                                hidden_size=self.hidden_size,\n",
    "                                num_layers=self.num_layers,\n",
    "                                dropout=self.dropout,\n",
    "                                bidirectional=bidirectional,\n",
    "                                batch_first=True)\n",
    "        self.fc = torch.nn.Linear(hidden_size if not bidirectional else hidden_size * 2, output_dim)\n",
    "        self.relu = torch.nn.ReLU()\n",
    "        self.sigmoid = torch.nn.Sigmoid()\n",
    "\n",
    "    def forward(self, x):\n",
    "        out, h = self.gru(x)\n",
    "        out = self.relu(out[:,-1,:])\n",
    "        out = self.fc(out)\n",
    "        out = self.sigmoid(out)\n",
    "        return out"
   ]
  },
  {
   "cell_type": "markdown",
   "id": "3436be9a",
   "metadata": {},
   "source": [
    "# Training"
   ]
  },
  {
   "cell_type": "code",
   "execution_count": 13,
   "id": "334eaa6a",
   "metadata": {},
   "outputs": [],
   "source": [
    "def train(model, train_loader, val_loader, epochs, patience=5):\n",
    "    train_losses = []\n",
    "    val_losses = []\n",
    "    val_maes = []\n",
    "    last_loss = 1e-8\n",
    "    trigger_times = 0\n",
    "\n",
    "    for epoch in range(0, epochs):\n",
    "        model.train()\n",
    "        batch_losses = []\n",
    "\n",
    "        for inputs, targets in train_loader:\n",
    "            preds = model(inputs.to(device))\n",
    "            loss = loss_fn(preds, targets.to(device))\n",
    "            optimizer.zero_grad()\n",
    "            loss.backward()\n",
    "            torch.nn.utils.clip_grad_norm_(model.parameters(), max_norm=2.0, norm_type=2)\n",
    "            optimizer.step()\n",
    "            batch_losses.append(loss.item())\n",
    "\n",
    "        train_loss = np.mean(batch_losses)\n",
    "        train_losses.append(train_loss)\n",
    "\n",
    "        model.eval()\n",
    "        with torch.no_grad():\n",
    "            batch_val_losses = []\n",
    "            batch_val_mae = []\n",
    "\n",
    "            for inputs, targets in val_loader:\n",
    "                preds = model(inputs.to(device))\n",
    "                loss = loss_fn(preds, targets.to(device))\n",
    "                batch_val_losses.append(loss.item())\n",
    "                val_mae = mae(preds, targets.to(device))\n",
    "                batch_val_mae.append(val_mae.item())\n",
    "            \n",
    "            val_loss = np.mean(batch_val_losses)\n",
    "            val_mae = np.mean(batch_val_mae)\n",
    "            scheduler.step(val_loss)\n",
    "            val_losses.append(val_loss)\n",
    "            val_maes.append(val_mae)\n",
    "  \n",
    "        print(f'Epoch {epoch} - train loss: {train_loss:.4f} - val loss: {val_loss:.4f} - val 1-mae: {(1-val_mae):.4f}')\n",
    "        \n",
    "        if val_loss > last_loss:\n",
    "            trigger_times += 1\n",
    "            print('Trigger:', trigger_times)\n",
    "            if trigger_times >= patience:\n",
    "                print('Early stop')\n",
    "                break\n",
    "        else:\n",
    "            print('Trigger: 0')\n",
    "            trigger_times = 0\n",
    "        last_loss = val_loss\n",
    "        \n",
    "    return train_losses, val_losses, val_maes"
   ]
  },
  {
   "cell_type": "code",
   "execution_count": 17,
   "id": "869cd309",
   "metadata": {},
   "outputs": [],
   "source": [
    "LR = 0.001\n",
    "gru = GRU(input_size=5, hidden_size=128, \n",
    "          bidirectional=True, output_dim=5, dropout=0.3, \n",
    "          num_layers=2, batch_size=BATCH_SIZE)\n",
    "gru.to(device)\n",
    "optimizer = torch.optim.AdamW(gru.parameters(), lr=LR, weight_decay=0.001)\n",
    "scheduler = torch.optim.lr_scheduler.ReduceLROnPlateau(optimizer, 'min')\n",
    "loss_fn = torch.nn.MSELoss()\n",
    "# loss_fn = torch.nn.L1Loss()\n",
    "mae = torch.nn.L1Loss()"
   ]
  },
  {
   "cell_type": "code",
   "execution_count": 18,
   "id": "518ccdfa",
   "metadata": {},
   "outputs": [
    {
     "name": "stdout",
     "output_type": "stream",
     "text": [
      "Epoch 0 - train loss: 1.0981 - val loss: 1.0503 - val 1-mae: 0.1808\n",
      "Trigger: 1\n",
      "Epoch 1 - train loss: 1.0804 - val loss: 1.0509 - val 1-mae: 0.1833\n",
      "Trigger: 2\n",
      "Epoch 2 - train loss: 1.0746 - val loss: 1.0519 - val 1-mae: 0.1840\n",
      "Trigger: 3\n",
      "Epoch 3 - train loss: 1.0703 - val loss: 1.0464 - val 1-mae: 0.1894\n",
      "Trigger: 0\n",
      "Epoch 4 - train loss: 1.0664 - val loss: 1.0685 - val 1-mae: 0.1812\n",
      "Trigger: 1\n",
      "Epoch 5 - train loss: 1.0621 - val loss: 1.0652 - val 1-mae: 0.1785\n",
      "Trigger: 0\n",
      "Epoch 6 - train loss: 1.0572 - val loss: 1.0500 - val 1-mae: 0.1905\n",
      "Trigger: 0\n",
      "Epoch 7 - train loss: 1.0515 - val loss: 1.0494 - val 1-mae: 0.1882\n",
      "Trigger: 0\n",
      "Epoch 8 - train loss: 1.0472 - val loss: 1.0595 - val 1-mae: 0.1830\n",
      "Trigger: 1\n",
      "Epoch 9 - train loss: 1.0423 - val loss: 1.0629 - val 1-mae: 0.1824\n",
      "Trigger: 2\n",
      "Epoch 10 - train loss: 1.0372 - val loss: 1.0843 - val 1-mae: 0.1745\n",
      "Trigger: 3\n",
      "Epoch 11 - train loss: 1.0309 - val loss: 1.0559 - val 1-mae: 0.1854\n",
      "Trigger: 0\n",
      "Epoch 12 - train loss: 1.0282 - val loss: 1.0816 - val 1-mae: 0.1732\n",
      "Trigger: 1\n",
      "Epoch 13 - train loss: 1.0224 - val loss: 1.0859 - val 1-mae: 0.1775\n",
      "Trigger: 2\n",
      "Epoch 14 - train loss: 1.0180 - val loss: 1.0603 - val 1-mae: 0.1787\n",
      "Trigger: 0\n",
      "Epoch 15 - train loss: 1.0057 - val loss: 1.0682 - val 1-mae: 0.1838\n",
      "Trigger: 1\n",
      "Epoch 16 - train loss: 0.9988 - val loss: 1.0929 - val 1-mae: 0.1724\n",
      "Trigger: 2\n",
      "Epoch 17 - train loss: 0.9958 - val loss: 1.0851 - val 1-mae: 0.1749\n",
      "Trigger: 0\n",
      "Epoch 18 - train loss: 0.9934 - val loss: 1.0823 - val 1-mae: 0.1772\n",
      "Trigger: 0\n",
      "Epoch 19 - train loss: 0.9913 - val loss: 1.0869 - val 1-mae: 0.1752\n",
      "Trigger: 1\n",
      "Epoch 20 - train loss: 0.9896 - val loss: 1.0954 - val 1-mae: 0.1731\n",
      "Trigger: 2\n",
      "Epoch 21 - train loss: 0.9887 - val loss: 1.0924 - val 1-mae: 0.1742\n",
      "Trigger: 0\n",
      "Epoch 22 - train loss: 0.9866 - val loss: 1.0973 - val 1-mae: 0.1730\n",
      "Trigger: 1\n",
      "Epoch 23 - train loss: 0.9859 - val loss: 1.0923 - val 1-mae: 0.1747\n",
      "Trigger: 0\n",
      "Epoch 24 - train loss: 0.9836 - val loss: 1.0955 - val 1-mae: 0.1735\n",
      "Trigger: 1\n",
      "Epoch 25 - train loss: 0.9822 - val loss: 1.0959 - val 1-mae: 0.1727\n",
      "Trigger: 2\n",
      "Epoch 26 - train loss: 0.9797 - val loss: 1.0917 - val 1-mae: 0.1749\n",
      "Trigger: 0\n",
      "Epoch 27 - train loss: 0.9798 - val loss: 1.0977 - val 1-mae: 0.1724\n",
      "Trigger: 1\n",
      "Epoch 28 - train loss: 0.9789 - val loss: 1.0952 - val 1-mae: 0.1724\n",
      "Trigger: 0\n",
      "Epoch 29 - train loss: 0.9787 - val loss: 1.0918 - val 1-mae: 0.1743\n",
      "Trigger: 0\n",
      "Epoch 30 - train loss: 0.9787 - val loss: 1.0879 - val 1-mae: 0.1763\n",
      "Trigger: 0\n",
      "Epoch 31 - train loss: 0.9784 - val loss: 1.0958 - val 1-mae: 0.1729\n",
      "Trigger: 1\n",
      "Epoch 32 - train loss: 0.9784 - val loss: 1.1024 - val 1-mae: 0.1704\n",
      "Trigger: 2\n",
      "Epoch 33 - train loss: 0.9780 - val loss: 1.0961 - val 1-mae: 0.1724\n",
      "Trigger: 0\n",
      "Epoch 34 - train loss: 0.9778 - val loss: 1.0904 - val 1-mae: 0.1755\n",
      "Trigger: 0\n",
      "Epoch 35 - train loss: 0.9781 - val loss: 1.0896 - val 1-mae: 0.1764\n",
      "Trigger: 0\n",
      "Epoch 36 - train loss: 0.9776 - val loss: 1.1019 - val 1-mae: 0.1707\n",
      "Trigger: 1\n",
      "Epoch 37 - train loss: 0.9777 - val loss: 1.1009 - val 1-mae: 0.1711\n",
      "Trigger: 0\n",
      "Epoch 38 - train loss: 0.9775 - val loss: 1.0924 - val 1-mae: 0.1751\n",
      "Trigger: 0\n",
      "Epoch 39 - train loss: 0.9779 - val loss: 1.0966 - val 1-mae: 0.1728\n",
      "Trigger: 1\n",
      "Epoch 40 - train loss: 0.9769 - val loss: 1.0908 - val 1-mae: 0.1749\n",
      "Trigger: 0\n",
      "Epoch 41 - train loss: 0.9772 - val loss: 1.0958 - val 1-mae: 0.1730\n",
      "Trigger: 1\n",
      "Epoch 42 - train loss: 0.9771 - val loss: 1.0926 - val 1-mae: 0.1743\n",
      "Trigger: 0\n",
      "Epoch 43 - train loss: 0.9772 - val loss: 1.0976 - val 1-mae: 0.1722\n",
      "Trigger: 1\n",
      "Epoch 44 - train loss: 0.9777 - val loss: 1.0937 - val 1-mae: 0.1739\n",
      "Trigger: 0\n",
      "Epoch 45 - train loss: 0.9768 - val loss: 1.0938 - val 1-mae: 0.1735\n",
      "Trigger: 1\n",
      "Epoch 46 - train loss: 0.9782 - val loss: 1.0891 - val 1-mae: 0.1757\n",
      "Trigger: 0\n",
      "Epoch 47 - train loss: 0.9768 - val loss: 1.0926 - val 1-mae: 0.1749\n",
      "Trigger: 1\n",
      "Epoch 48 - train loss: 0.9771 - val loss: 1.0895 - val 1-mae: 0.1752\n",
      "Trigger: 0\n",
      "Epoch 49 - train loss: 0.9769 - val loss: 1.0900 - val 1-mae: 0.1750\n",
      "Trigger: 1\n"
     ]
    }
   ],
   "source": [
    "train_losses, val_losses, val_maes = train(gru, train_loader, val_loader, epochs=50, patience=5)"
   ]
  },
  {
   "cell_type": "code",
   "execution_count": 19,
   "id": "5d40309a",
   "metadata": {},
   "outputs": [
    {
     "data": {
      "text/plain": [
       "<matplotlib.legend.Legend at 0x7f5295dfe040>"
      ]
     },
     "execution_count": 19,
     "metadata": {},
     "output_type": "execute_result"
    },
    {
     "data": {
      "image/png": "[encoded data removed]",
      "text/plain": [
       "<Figure size 640x480 with 1 Axes>"
      ]
     },
     "metadata": {},
     "output_type": "display_data"
    }
   ],
   "source": [
    "fig, ax = plt.subplots()\n",
    "ax.plot(train_losses, label='Train loss')\n",
    "ax.plot(val_losses, label='Val loss')\n",
    "ax.plot(val_maes, label='Val MAE')\n",
    "ax.set_xlabel('Epoch')\n",
    "ax.set_ylabel('Loss')\n",
    "plt.title(\"Training result\")\n",
    "plt.legend()"
   ]
  },
  {
   "cell_type": "markdown",
   "id": "9bc68b22",
   "metadata": {},
   "source": [
    "# Testing"
   ]
  },
  {
   "cell_type": "code",
   "execution_count": 20,
   "id": "07dc934e",
   "metadata": {},
   "outputs": [],
   "source": [
    "def test(model, test_loader):\n",
    "    mae = torch.nn.L1Loss()\n",
    "    predictions = np.array([])\n",
    "    labels = np.array([])\n",
    "    model.eval()\n",
    "    with torch.no_grad():\n",
    "        batch_loss_ext = []\n",
    "        batch_loss_neu = []\n",
    "        batch_loss_agr = []\n",
    "        batch_loss_con = []\n",
    "        batch_loss_ope = []\n",
    "\n",
    "        for inputs, targets in test_loader:\n",
    "            batch_preds = model(inputs.to(device))\n",
    "            loss_ext = mae(batch_preds[:,0], targets[:,0].to(device))\n",
    "            loss_neu = mae(batch_preds[:,1], targets[:,1].to(device))\n",
    "            loss_agr = mae(batch_preds[:,2], targets[:,2].to(device))\n",
    "            loss_con = mae(batch_preds[:,3], targets[:,3].to(device))\n",
    "            loss_ope = mae(batch_preds[:,4], targets[:,4].to(device))\n",
    "            batch_loss_ext.append(loss_ext.item())\n",
    "            batch_loss_neu.append(loss_neu.item())\n",
    "            batch_loss_agr.append(loss_agr.item())\n",
    "            batch_loss_con.append(loss_con.item())\n",
    "            batch_loss_ope.append(loss_ope.item())\n",
    "            predictions = np.vstack((predictions, batch_preds.cpu())) if len(predictions) != 0 else batch_preds.cpu()\n",
    "            labels = np.vstack((labels, targets.cpu())) if len(labels) != 0 else targets.cpu()\n",
    "\n",
    "        loss_ext = 1 - np.mean(batch_loss_ext)\n",
    "        loss_neu = 1 - np.mean(batch_loss_neu)\n",
    "        loss_agr = 1 - np.mean(batch_loss_agr)\n",
    "        loss_con = 1 - np.mean(batch_loss_con)\n",
    "        loss_ope = 1 - np.mean(batch_loss_ope)\n",
    "        loss = (loss_ext + loss_neu + loss_agr + loss_con + loss_ope) / 5\n",
    "\n",
    "        print(f'1-MAE: {loss:.4f}')\n",
    "        print(f'1-MAE O: {loss_ope:.4f}')\n",
    "        print(f'1-MAE C: {loss_con:.4f}')\n",
    "        print(f'1-MAE E: {loss_ext:.4f}')\n",
    "        print(f'1-MAE A: {loss_agr:.4f}')\n",
    "        print(f'1-MAE N: {loss_neu:.4f}')\n",
    "        \n",
    "        spearman_r_ext = stats.spearmanr(predictions[:,0], labels[:,0])\n",
    "        spearman_r_neu = stats.spearmanr(predictions[:,1], labels[:,1])\n",
    "        spearman_r_agr = stats.spearmanr(predictions[:,2], labels[:,2])\n",
    "        spearman_r_con = stats.spearmanr(predictions[:,3], labels[:,3])\n",
    "        spearman_r_ope = stats.spearmanr(predictions[:,4], labels[:,4])\n",
    "        print(f'O - R: {spearman_r_ope[0]:.3f} - p: {spearman_r_ope[1]:.3f}')\n",
    "        print(f'C - R: {spearman_r_con[0]:.3f} - p: {spearman_r_con[1]:.3f}')\n",
    "        print(f'E - R: {spearman_r_ext[0]:.3f} - p: {spearman_r_ext[1]:.3f}')\n",
    "        print(f'A - R: {spearman_r_agr[0]:.3f} - p: {spearman_r_agr[1]:.3f}')\n",
    "        print(f'N - R: {spearman_r_neu[0]:.3f} - p: {spearman_r_neu[1]:.3f}')"
   ]
  },
  {
   "cell_type": "code",
   "execution_count": 21,
   "id": "a9779d9f",
   "metadata": {},
   "outputs": [
    {
     "name": "stdout",
     "output_type": "stream",
     "text": [
      "1-MAE: 0.1679\n",
      "1-MAE O: 0.0401\n",
      "1-MAE C: 0.2110\n",
      "1-MAE E: 0.2552\n",
      "1-MAE A: 0.0712\n",
      "1-MAE N: 0.2621\n",
      "O - R: -0.074 - p: 0.005\n",
      "C - R: -0.309 - p: 0.000\n",
      "E - R: -0.044 - p: 0.098\n",
      "A - R: 0.083 - p: 0.002\n",
      "N - R: -0.094 - p: 0.000\n"
     ]
    }
   ],
   "source": [
    "test(gru, test_loader)"
   ]
  },
  {
   "cell_type": "code",
   "execution_count": 23,
   "id": "f1397d6c",
   "metadata": {},
   "outputs": [
    {
     "name": "stdout",
     "output_type": "stream",
     "text": [
      "baseline prior 1-mae: 0.22982025146484375\n"
     ]
    }
   ],
   "source": [
    "prior = test_labels.mean(axis=0)\n",
    "test_prior = torch.from_numpy(np.repeat(np.expand_dims(prior, axis=0), len(test_features), axis=0))\n",
    "value = mae(test_prior, test_labels)\n",
    "print('baseline prior 1-mae:', 1-value.item())"
   ]
  },
  {
   "cell_type": "code",
   "execution_count": null,
   "id": "3ab1b360",
   "metadata": {},
   "outputs": [],
   "source": []
  }
 ],
 "metadata": {
  "kernelspec": {
   "display_name": "base",
   "language": "python",
   "name": "base"
  },
  "language_info": {
   "codemirror_mode": {
    "name": "ipython",
    "version": 3
   },
   "file_extension": ".py",
   "mimetype": "text/x-python",
   "name": "python",
   "nbconvert_exporter": "python",
   "pygments_lexer": "ipython3",
   "version": "3.9.12"
  },
  "vscode": {
   "interpreter": {
    "hash": "91bd7d5b175934679171a1f1e80429250a2d51389ee225c320e74775eefa2d64"
   }
  }
 },
 "nbformat": 4,
 "nbformat_minor": 5
}
