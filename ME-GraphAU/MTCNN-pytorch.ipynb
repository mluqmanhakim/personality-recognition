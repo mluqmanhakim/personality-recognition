{
 "cells": [
  {
   "cell_type": "code",
   "execution_count": null,
   "id": "bf360166",
   "metadata": {},
   "outputs": [],
   "source": [
    "from facenet_pytorch import MTCNN\n",
    "import cv2\n",
    "from PIL import Image\n",
    "import numpy as np\n",
    "from matplotlib import pyplot as plt\n",
    "import os\n",
    "import pickle\n",
    "import time"
   ]
  },
  {
   "cell_type": "code",
   "execution_count": null,
   "id": "1e0cbdc5",
   "metadata": {},
   "outputs": [],
   "source": [
    "# bbox has 4 elements, 1st and 2nd elements are top left x,y coordinates \n",
    "# 3rd and 4th elements are top bottom x,y coordinates\n",
    "def show_img(img_path, bbox):\n",
    "    img = cv2.cvtColor(cv2.imread(img_path), cv2.COLOR_BGR2RGB)\n",
    "    cv_img = np.array(img)\n",
    "    x1 = int(bbox[0])\n",
    "    y1 = int(bbox[1])\n",
    "    x2 = int(bbox[2])\n",
    "    y2 = int(bbox[3])\n",
    "    cv2.rectangle(cv_img, (x1, y1), (x2, y2), (0,255,0), 3)\n",
    "    plt.imshow(cv_img)\n",
    "    plt.show()"
   ]
  },
  {
   "cell_type": "code",
   "execution_count": null,
   "id": "e9c937f9",
   "metadata": {},
   "outputs": [],
   "source": [
    "def rescale_box(box, scale):\n",
    "    w = box[2] - box[0]\n",
    "    h = box[3] - box[1]\n",
    "    cx = box[0] + int(w/2)\n",
    "    cy = box[1] + int(h/2)\n",
    "    max_len = max(w, h)\n",
    "    new_w = int(max_len * scale / 2)\n",
    "    x1 = cx - new_w\n",
    "    y1 = cy - new_w\n",
    "    x2 = cx + new_w\n",
    "    y2 = cy + new_w\n",
    "    new_box = [x1,y1,x2,y2]\n",
    "    return new_box\n",
    "\n",
    "# crop image and resize to 224x224\n",
    "def crop_img(img_path, coords, out_path):\n",
    "    image_obj = Image.open(img_path)\n",
    "    cropped_image = image_obj.crop(coords)\n",
    "    img = cropped_image.resize((224,224))\n",
    "    img.save(out_path)"
   ]
  },
  {
   "cell_type": "markdown",
   "id": "43b82987",
   "metadata": {},
   "source": [
    "# Test on a single image"
   ]
  },
  {
   "cell_type": "code",
   "execution_count": null,
   "id": "46710b4a",
   "metadata": {},
   "outputs": [],
   "source": [
    "img_path = \"/home/luqman/ME-GraphAU/data/DISFA/img/SN009/1760.png\"\n",
    "img = cv2.cvtColor(cv2.imread(img_path), cv2.COLOR_BGR2RGB)\n",
    "frame = Image.fromarray(img)\n",
    "mtcnn = MTCNN(keep_all=True, device='cuda:0')\n",
    "boxes, probs = mtcnn.detect(frame)"
   ]
  },
  {
   "cell_type": "code",
   "execution_count": null,
   "id": "edfbfcff",
   "metadata": {},
   "outputs": [],
   "source": [
    "show_img(img_path, boxes[0])"
   ]
  },
  {
   "cell_type": "code",
   "execution_count": null,
   "id": "dc97b249",
   "metadata": {},
   "outputs": [],
   "source": [
    "s_box = rescale_box(list(boxes[0]), 1.3)\n",
    "show_img(img_path, s_box)"
   ]
  },
  {
   "cell_type": "markdown",
   "id": "47b95d8a",
   "metadata": {},
   "source": [
    "# Crop image"
   ]
  },
  {
   "cell_type": "code",
   "execution_count": null,
   "id": "ecd5d3ca",
   "metadata": {},
   "outputs": [],
   "source": []
  },
  {
   "cell_type": "code",
   "execution_count": null,
   "id": "d6a8b24d",
   "metadata": {},
   "outputs": [],
   "source": [
    "start_time = time.time()\n",
    "video_names = ['SN009']\n",
    "\n",
    "box_path = '/nas/project_data/B1_Behavior/hakim/ME-GraphAU/data/DISFA/mtcnn'\n",
    "input_dir = '/home/luqman/ME-GraphAU/data/DISFA/img'\n",
    "output_path = '/nas/project_data/B1_Behavior/hakim/ME-GraphAU/data/DISFA/img'\n",
    "\n",
    "for v in video_names:\n",
    "    f_path = box_path + \"/\" + v + \".pickle\"\n",
    "    boxes = pickle.load(open(f_path, \"rb\"))\n",
    "    img_dir = os.path.join(input_dir, v)\n",
    "    \n",
    "    out_dir = os.path.join(output_path, v)\n",
    "    os.makedirs(out_dir, exist_ok=True)\n",
    "    \n",
    "    for i, box in enumerate(boxes):\n",
    "        in_filename = str(i+1) + \".png\"\n",
    "        img_path = os.path.join(img_dir, in_filename)\n",
    "        out_filename = str(i) + \".png\"\n",
    "        out_img_path = os.path.join(out_dir, out_filename)\n",
    "        \n",
    "        if (box is None):\n",
    "            command = \"cp \" + img_path + \" \" + out_img_path  \n",
    "            os.system(command)\n",
    "        else:\n",
    "            s_box = rescale_box(box[0], 1.3)\n",
    "            crop_img(img_path, s_box, out_img_path)\n",
    "            \n",
    "print(\"--- %s seconds ---\" % (time.time() - start_time))"
   ]
  },
  {
   "cell_type": "markdown",
   "id": "ca11c6e8",
   "metadata": {},
   "source": [
    "# Count file in directory"
   ]
  },
  {
   "cell_type": "code",
   "execution_count": 47,
   "id": "0e985024",
   "metadata": {},
   "outputs": [
    {
     "name": "stdout",
     "output_type": "stream",
     "text": [
      "SN018 - 4845\n",
      "1\n",
      "SN008 - 4845\n",
      "2\n",
      "SN016 - 4845\n",
      "3\n",
      "SN001 - 4845\n",
      "4\n",
      "SN027 - 4845\n",
      "5\n",
      "SN031 - 4845\n",
      "6\n",
      "SN026 - 4845\n",
      "7\n",
      "SN032 - 4845\n",
      "8\n",
      "SN011 - 4845\n",
      "9\n",
      "SN003 - 4845\n",
      "10\n",
      "SN025 - 4845\n",
      "11\n",
      "SN004 - 4845\n",
      "12\n",
      "SN017 - 4845\n",
      "13\n",
      "SN028 - 4845\n",
      "14\n",
      "SN013 - 4845\n",
      "15\n",
      "SN012 - 4845\n",
      "16\n",
      "SN029 - 4845\n",
      "17\n",
      "SN021 - 4845\n",
      "18\n",
      "SN007 - 4845\n",
      "19\n",
      "SN024 - 4845\n",
      "20\n",
      "SN009 - 4845\n",
      "21\n",
      "SN010 - 4844\n",
      "22\n",
      "SN002 - 4845\n",
      "23\n",
      "SN006 - 4845\n",
      "24\n",
      "SN005 - 4845\n",
      "25\n",
      "SN023 - 4845\n",
      "26\n",
      "SN030 - 4845\n",
      "27\n"
     ]
    }
   ],
   "source": [
    "DIR = '/nas/project_data/B1_Behavior/hakim/ME-GraphAU/data/DISFA/frames'\n",
    "c = 0\n",
    "for d in os.listdir(DIR):\n",
    "    img_dir = os.path.join(DIR, d)\n",
    "    l = len([name for name in os.listdir(img_dir)])\n",
    "    print(f'{d} - {l}')\n",
    "    c += 1\n",
    "    print(c)"
   ]
  },
  {
   "cell_type": "code",
   "execution_count": null,
   "id": "a342e64e",
   "metadata": {},
   "outputs": [],
   "source": [
    "DIR = '/nas/project_data/B1_Behavior/hakim/ME-GraphAU/data/DISFA/mtcnn' \n",
    "for f in os.listdir(DIR):\n",
    "    box_path = os.path.join(DIR, f)\n",
    "    boxes = pickle.load(open(box_path, \"rb\"))\n",
    "    print(f'{f} - {len(boxes)}')"
   ]
  },
  {
   "cell_type": "code",
   "execution_count": null,
   "id": "caac2c73",
   "metadata": {},
   "outputs": [],
   "source": [
    "path = '/nas/project_data/B1_Behavior/hakim/ME-GraphAU/data/DISFA/mtcnn/SN009.pickle' \n",
    "boxes = pickle.load(open(path, \"rb\"))\n",
    "counter = 0\n",
    "for i, box in enumerate(boxes):\n",
    "    if (box is None):\n",
    "        counter += 1\n",
    "        print(i)\n",
    "print(counter)"
   ]
  },
  {
   "cell_type": "code",
   "execution_count": null,
   "id": "966d64f3",
   "metadata": {},
   "outputs": [],
   "source": []
  },
  {
   "cell_type": "markdown",
   "id": "633364c0",
   "metadata": {},
   "source": [
    "# Run MTCNN"
   ]
  },
  {
   "cell_type": "code",
   "execution_count": null,
   "id": "821779bb",
   "metadata": {},
   "outputs": [],
   "source": [
    "start_time = time.time()\n",
    "video_names = ['SN009']\n",
    "input_dir = \"/home/luqman/ME-GraphAU/data/DISFA/img\"\n",
    "batch_size = 32\n",
    "mtcnn = MTCNN(keep_all=True, device='cuda:0')\n",
    "\n",
    "for v in video_names:\n",
    "    print(f'Processing {v}')\n",
    "    frames = []\n",
    "    boxes = []\n",
    "    img_dir = os.path.join(input_dir, v)\n",
    "    files_count = len([name for name in os.listdir(img_dir)])\n",
    "    \n",
    "    for i in range(files_count):\n",
    "        filename = str(i+1) + '.png'\n",
    "        img_path = os.path.join(img_dir, filename)\n",
    "        img = cv2.cvtColor(cv2.imread(img_path), cv2.COLOR_BGR2RGB)\n",
    "        frame = Image.fromarray(img)\n",
    "        frames.append(frame)\n",
    "\n",
    "        if (len(frames) == batch_size or (i+1 == files_count)):\n",
    "            batch_boxes, _ = mtcnn.detect(frames)\n",
    "            boxes.extend(batch_boxes)\n",
    "            frames = []\n",
    "                \n",
    "    out_filename = v + \".pickle\"\n",
    "    out_path = os.path.join('/nas/project_data/B1_Behavior/hakim/ME-GraphAU/data/DISFA/mtcnn', out_filename)\n",
    "    outfile = open(out_path, 'wb')\n",
    "    pickle.dump(boxes, outfile)\n",
    "    outfile.close()\n",
    "    print(f'output is saved on {out_path}')\n",
    "  \n",
    "print(\"--- %s seconds ---\" % (time.time() - start_time))"
   ]
  },
  {
   "cell_type": "code",
   "execution_count": null,
   "id": "3afcdf78",
   "metadata": {},
   "outputs": [],
   "source": [
    "start_time = time.time()\n",
    "v_cap = cv2.VideoCapture('/nas/database/DISFA_Database/Videos_LeftCamera/LeftVideoSN009_comp.avi')\n",
    "v_len = int(v_cap.get(cv2.CAP_PROP_FRAME_COUNT))\n",
    "batch_size = 32\n",
    "frames = []\n",
    "boxes = []\n",
    "\n",
    "for i in range(v_len):    \n",
    "    success, frame = v_cap.read()\n",
    "    if not success:\n",
    "        continue\n",
    "        \n",
    "    # Add to batch, resizing for speed\n",
    "    frame = cv2.cvtColor(frame, cv2.COLOR_BGR2RGB)\n",
    "    frame = Image.fromarray(frame)\n",
    "    frames.append(frame)\n",
    "    \n",
    "    # When batch is full, detect faces and reset batch list\n",
    "    if len(frames) == batch_size or i == v_len:\n",
    "        batch_boxes, _ = mtcnn.detect(frames)\n",
    "        boxes.extend(batch_boxes)\n",
    "        frames = []\n",
    "        \n",
    "print(\"--- %s seconds ---\" % (time.time() - start_time))"
   ]
  },
  {
   "cell_type": "code",
   "execution_count": null,
   "id": "ffafa1ae",
   "metadata": {},
   "outputs": [],
   "source": [
    "boxes[1740]"
   ]
  },
  {
   "cell_type": "code",
   "execution_count": null,
   "id": "bd32ffc3",
   "metadata": {},
   "outputs": [],
   "source": []
  }
 ],
 "metadata": {
  "kernelspec": {
   "display_name": "ME-GraphAU",
   "language": "python",
   "name": "me-graphau"
  },
  "language_info": {
   "codemirror_mode": {
    "name": "ipython",
    "version": 3
   },
   "file_extension": ".py",
   "mimetype": "text/x-python",
   "name": "python",
   "nbconvert_exporter": "python",
   "pygments_lexer": "ipython3",
   "version": "3.8.10"
  }
 },
 "nbformat": 4,
 "nbformat_minor": 5
}
