{
 "cells": [
  {
   "cell_type": "code",
   "execution_count": 1,
   "id": "08dfbf3e",
   "metadata": {},
   "outputs": [
    {
     "name": "stderr",
     "output_type": "stream",
     "text": [
      "/home/luqman/.local/share/virtualenvs/ME-GraphAU-NHAhuV8b/lib/python3.8/site-packages/tqdm/auto.py:22: TqdmWarning: IProgress not found. Please update jupyter and ipywidgets. See https://ipywidgets.readthedocs.io/en/stable/user_install.html\n",
      "  from .autonotebook import tqdm as notebook_tqdm\n"
     ]
    }
   ],
   "source": [
    "import os\n",
    "import numpy as np\n",
    "import torch\n",
    "import torch.nn as nn\n",
    "from torch.utils.data import DataLoader\n",
    "from tqdm import tqdm\n",
    "import logging\n",
    "from model.MEFL import MEFARG\n",
    "from dataset import *\n",
    "from utils import *\n",
    "from conf import get_config,set_logger,set_outdir,set_env\n",
    "from PIL import Image\n",
    "import cv2"
   ]
  },
  {
   "cell_type": "code",
   "execution_count": 2,
   "id": "09c15483",
   "metadata": {},
   "outputs": [],
   "source": [
    "DIR = '/home/luqman/images'\n",
    "data = []\n",
    "for f in os.listdir(DIR):\n",
    "    img_path = os.path.join(DIR, f)\n",
    "    img = cv2.cvtColor(cv2.imread(img_path), cv2.COLOR_BGR2RGB)\n",
    "    data.append(img)"
   ]
  },
  {
   "cell_type": "code",
   "execution_count": 3,
   "id": "51c45298",
   "metadata": {},
   "outputs": [
    {
     "data": {
      "text/plain": [
       "torch.Size([5, 3, 224, 224])"
      ]
     },
     "execution_count": 3,
     "metadata": {},
     "output_type": "execute_result"
    }
   ],
   "source": [
    "data = np.array(data)\n",
    "inputs = torch.tensor(data, dtype=torch.float32)\n",
    "inputs = inputs.permute(0,3,1,2)\n",
    "inputs.shape"
   ]
  },
  {
   "cell_type": "code",
   "execution_count": 4,
   "id": "f7fc5a2d",
   "metadata": {},
   "outputs": [
    {
     "name": "stderr",
     "output_type": "stream",
     "text": [
      "/home/luqman/.local/share/virtualenvs/ME-GraphAU-NHAhuV8b/lib/python3.8/site-packages/torch/functional.py:478: UserWarning: torch.meshgrid: in an upcoming release, it will be required to pass the indexing argument. (Triggered internally at  ../aten/src/ATen/native/TensorShape.cpp:2895.)\n",
      "  return _VF.meshgrid(tensors, **kwargs)  # type: ignore[attr-defined]\n"
     ]
    }
   ],
   "source": [
    "net = MEFARG(num_classes=12, backbone=\"swin_transformer_base\")\n",
    "net_fold1 = load_state_dict(net, \"/nas/project_data/B1_Behavior/hakim/ME-GraphAU/pretrained/swin/MEFARG_swin_base_BP4D_fold1.pth\")\n",
    "net_fold2 = load_state_dict(net, \"/nas/project_data/B1_Behavior/hakim/ME-GraphAU/pretrained/swin/MEFARG_swin_base_BP4D_fold2.pth\")\n",
    "net_fold3 = load_state_dict(net, \"/nas/project_data/B1_Behavior/hakim/ME-GraphAU/pretrained/swin/MEFARG_swin_base_BP4D_fold3.pth\")\n",
    "\n",
    "if torch.cuda.is_available():\n",
    "    net_fold1 = nn.DataParallel(net_fold1).cuda()\n",
    "    net_fold2 = nn.DataParallel(net_fold2).cuda()\n",
    "    net_fold3 = nn.DataParallel(net_fold3).cuda()"
   ]
  },
  {
   "cell_type": "code",
   "execution_count": 5,
   "id": "33e57aaf",
   "metadata": {},
   "outputs": [],
   "source": [
    "# input = torch.randn(1,3,224,224)"
   ]
  },
  {
   "cell_type": "code",
   "execution_count": 6,
   "id": "e44297dc",
   "metadata": {},
   "outputs": [],
   "source": [
    "outputs_fold1, _ = net_fold1(inputs)\n",
    "outputs_fold2, _ = net_fold2(inputs)\n",
    "outputs_fold3, _ = net_fold3(inputs)"
   ]
  },
  {
   "cell_type": "code",
   "execution_count": 7,
   "id": "ba25d95b",
   "metadata": {},
   "outputs": [],
   "source": [
    "outputs = (outputs_fold1 + outputs_fold2 + outputs_fold3) / 3"
   ]
  },
  {
   "cell_type": "code",
   "execution_count": 8,
   "id": "a18c1803",
   "metadata": {},
   "outputs": [
    {
     "data": {
      "text/plain": [
       "tensor([[0.5154, 0.4615, 0.5323, 0.5475, 0.5435, 0.4841, 0.5294, 0.5528, 0.4867,\n",
       "         0.5254, 0.4639, 0.4579],\n",
       "        [0.4950, 0.5039, 0.4722, 0.5186, 0.5167, 0.4796, 0.5363, 0.5002, 0.4182,\n",
       "         0.5214, 0.4967, 0.5010],\n",
       "        [0.4759, 0.4312, 0.4867, 0.5492, 0.5154, 0.5741, 0.5011, 0.5314, 0.5342,\n",
       "         0.5258, 0.4693, 0.4772],\n",
       "        [0.5056, 0.4446, 0.5021, 0.5415, 0.5333, 0.5081, 0.5627, 0.5688, 0.5023,\n",
       "         0.5673, 0.5538, 0.5687],\n",
       "        [0.5213, 0.5294, 0.5058, 0.5513, 0.5483, 0.5427, 0.5039, 0.5225, 0.4966,\n",
       "         0.5131, 0.4299, 0.4118]], device='cuda:0', grad_fn=<DivBackward0>)"
      ]
     },
     "execution_count": 8,
     "metadata": {},
     "output_type": "execute_result"
    }
   ],
   "source": [
    "outputs"
   ]
  },
  {
   "cell_type": "markdown",
   "id": "605ade7a",
   "metadata": {},
   "source": [
    "# Labels"
   ]
  },
  {
   "cell_type": "code",
   "execution_count": 19,
   "id": "097cf07d",
   "metadata": {},
   "outputs": [],
   "source": [
    "import pandas as pd"
   ]
  },
  {
   "cell_type": "code",
   "execution_count": 20,
   "id": "58c9cace",
   "metadata": {},
   "outputs": [],
   "source": [
    "path_label = '/nas/project_data/B1_Behavior/hakim/ME-GraphAU/data/BP4D/AU_labels/F001_T1.csv'\n",
    "usecols = ['0', '1', '2', '4', '6', '7', '10', '12', '14', '15', '17', '23', '24']\n",
    "df = pd.read_csv(path_label, header=0, index_col=0, usecols=usecols)"
   ]
  },
  {
   "cell_type": "code",
   "execution_count": 21,
   "id": "6fbf8c20",
   "metadata": {},
   "outputs": [
    {
     "data": {
      "text/html": [
       "<div>\n",
       "<style scoped>\n",
       "    .dataframe tbody tr th:only-of-type {\n",
       "        vertical-align: middle;\n",
       "    }\n",
       "\n",
       "    .dataframe tbody tr th {\n",
       "        vertical-align: top;\n",
       "    }\n",
       "\n",
       "    .dataframe thead th {\n",
       "        text-align: right;\n",
       "    }\n",
       "</style>\n",
       "<table border=\"1\" class=\"dataframe\">\n",
       "  <thead>\n",
       "    <tr style=\"text-align: right;\">\n",
       "      <th></th>\n",
       "      <th>1</th>\n",
       "      <th>2</th>\n",
       "      <th>4</th>\n",
       "      <th>6</th>\n",
       "      <th>7</th>\n",
       "      <th>10</th>\n",
       "      <th>12</th>\n",
       "      <th>14</th>\n",
       "      <th>15</th>\n",
       "      <th>17</th>\n",
       "      <th>23</th>\n",
       "      <th>24</th>\n",
       "    </tr>\n",
       "    <tr>\n",
       "      <th>0</th>\n",
       "      <th></th>\n",
       "      <th></th>\n",
       "      <th></th>\n",
       "      <th></th>\n",
       "      <th></th>\n",
       "      <th></th>\n",
       "      <th></th>\n",
       "      <th></th>\n",
       "      <th></th>\n",
       "      <th></th>\n",
       "      <th></th>\n",
       "      <th></th>\n",
       "    </tr>\n",
       "  </thead>\n",
       "  <tbody>\n",
       "    <tr>\n",
       "      <th>2440</th>\n",
       "      <td>0</td>\n",
       "      <td>0</td>\n",
       "      <td>0</td>\n",
       "      <td>0</td>\n",
       "      <td>0</td>\n",
       "      <td>1</td>\n",
       "      <td>1</td>\n",
       "      <td>0</td>\n",
       "      <td>0</td>\n",
       "      <td>0</td>\n",
       "      <td>0</td>\n",
       "      <td>0</td>\n",
       "    </tr>\n",
       "    <tr>\n",
       "      <th>2441</th>\n",
       "      <td>0</td>\n",
       "      <td>0</td>\n",
       "      <td>0</td>\n",
       "      <td>0</td>\n",
       "      <td>0</td>\n",
       "      <td>1</td>\n",
       "      <td>1</td>\n",
       "      <td>0</td>\n",
       "      <td>0</td>\n",
       "      <td>0</td>\n",
       "      <td>0</td>\n",
       "      <td>0</td>\n",
       "    </tr>\n",
       "    <tr>\n",
       "      <th>2442</th>\n",
       "      <td>0</td>\n",
       "      <td>0</td>\n",
       "      <td>0</td>\n",
       "      <td>0</td>\n",
       "      <td>0</td>\n",
       "      <td>1</td>\n",
       "      <td>1</td>\n",
       "      <td>0</td>\n",
       "      <td>0</td>\n",
       "      <td>0</td>\n",
       "      <td>0</td>\n",
       "      <td>0</td>\n",
       "    </tr>\n",
       "    <tr>\n",
       "      <th>2443</th>\n",
       "      <td>0</td>\n",
       "      <td>0</td>\n",
       "      <td>0</td>\n",
       "      <td>0</td>\n",
       "      <td>0</td>\n",
       "      <td>1</td>\n",
       "      <td>1</td>\n",
       "      <td>0</td>\n",
       "      <td>0</td>\n",
       "      <td>0</td>\n",
       "      <td>0</td>\n",
       "      <td>0</td>\n",
       "    </tr>\n",
       "    <tr>\n",
       "      <th>2444</th>\n",
       "      <td>0</td>\n",
       "      <td>0</td>\n",
       "      <td>0</td>\n",
       "      <td>0</td>\n",
       "      <td>0</td>\n",
       "      <td>1</td>\n",
       "      <td>1</td>\n",
       "      <td>0</td>\n",
       "      <td>0</td>\n",
       "      <td>0</td>\n",
       "      <td>0</td>\n",
       "      <td>0</td>\n",
       "    </tr>\n",
       "  </tbody>\n",
       "</table>\n",
       "</div>"
      ],
      "text/plain": [
       "      1  2  4  6  7  10  12  14  15  17  23  24\n",
       "0                                              \n",
       "2440  0  0  0  0  0   1   1   0   0   0   0   0\n",
       "2441  0  0  0  0  0   1   1   0   0   0   0   0\n",
       "2442  0  0  0  0  0   1   1   0   0   0   0   0\n",
       "2443  0  0  0  0  0   1   1   0   0   0   0   0\n",
       "2444  0  0  0  0  0   1   1   0   0   0   0   0"
      ]
     },
     "execution_count": 21,
     "metadata": {},
     "output_type": "execute_result"
    }
   ],
   "source": [
    "df.head()"
   ]
  },
  {
   "cell_type": "code",
   "execution_count": null,
   "id": "0a73ecba",
   "metadata": {},
   "outputs": [],
   "source": []
  }
 ],
 "metadata": {
  "kernelspec": {
   "display_name": "ME-GraphAU",
   "language": "python",
   "name": "me-graphau"
  },
  "language_info": {
   "codemirror_mode": {
    "name": "ipython",
    "version": 3
   },
   "file_extension": ".py",
   "mimetype": "text/x-python",
   "name": "python",
   "nbconvert_exporter": "python",
   "pygments_lexer": "ipython3",
   "version": "3.8.10"
  }
 },
 "nbformat": 4,
 "nbformat_minor": 5
}
