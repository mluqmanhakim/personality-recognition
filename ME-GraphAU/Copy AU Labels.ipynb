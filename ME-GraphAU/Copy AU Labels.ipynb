{
 "cells": [
  {
   "cell_type": "code",
   "execution_count": 1,
   "id": "24eb825a",
   "metadata": {},
   "outputs": [],
   "source": [
    "import os"
   ]
  },
  {
   "cell_type": "code",
   "execution_count": 11,
   "id": "912bee51",
   "metadata": {},
   "outputs": [
    {
     "name": "stdout",
     "output_type": "stream",
     "text": [
      "Done\n"
     ]
    }
   ],
   "source": [
    "input_dir = '/nas/project_data/B1_Behavior/hakim/ME-GraphAU/data/BP4D/FACS'\n",
    "output_dir = '/nas/project_data/B1_Behavior/hakim/ME-GraphAU/data/BP4D/AU_labels'\n",
    "\n",
    "for f in os.listdir(input_dir):\n",
    "#     check csv file only\n",
    "    in_path = os.path.join(input_dir, f)\n",
    "    arr = f.split('_')\n",
    "    task = {\n",
    "        \"01\": \"T1\",\n",
    "        \"03\": \"T2\",\n",
    "        \"07\": \"T3\",\n",
    "        \"08\": \"T4\",\n",
    "        \"09\": \"T5\",\n",
    "        \"10\": \"T6\",\n",
    "        \"11\": \"T7\",\n",
    "        \"13\": \"T8\",\n",
    "    }\n",
    "    new_filename = arr[0][1] + '0' + arr[0][2:] + \"_\" + task[arr[1]] + \".csv\"\n",
    "    out_path = os.path.join(output_dir, new_filename)\n",
    "    command = \"cp \" + in_path + \" \" + out_path\n",
    "    os.system(command)\n",
    "\n",
    "    \n",
    "print(\"Done\")"
   ]
  },
  {
   "cell_type": "code",
   "execution_count": null,
   "id": "75b3500c",
   "metadata": {},
   "outputs": [],
   "source": []
  }
 ],
 "metadata": {
  "kernelspec": {
   "display_name": "base",
   "language": "python",
   "name": "base"
  },
  "language_info": {
   "codemirror_mode": {
    "name": "ipython",
    "version": 3
   },
   "file_extension": ".py",
   "mimetype": "text/x-python",
   "name": "python",
   "nbconvert_exporter": "python",
   "pygments_lexer": "ipython3",
   "version": "3.9.12"
  }
 },
 "nbformat": 4,
 "nbformat_minor": 5
}
