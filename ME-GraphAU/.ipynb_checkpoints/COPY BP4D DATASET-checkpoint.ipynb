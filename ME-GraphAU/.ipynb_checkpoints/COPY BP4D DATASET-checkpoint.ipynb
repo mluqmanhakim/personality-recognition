{
 "cells": [
  {
   "cell_type": "code",
   "execution_count": null,
   "id": "2598fcef",
   "metadata": {},
   "outputs": [],
   "source": [
    "import os\n",
    "import time"
   ]
  },
  {
   "cell_type": "code",
   "execution_count": 32,
   "id": "90cb0d90",
   "metadata": {},
   "outputs": [],
   "source": [
    "data_list_path = '/nas/database/BP-4DSFE/ImageAnd3D_data/list.txt'\n",
    "data_dir = '/nas/database/BP-4DSFE/ImageAnd3D_data'\n",
    "output_dir = '/nas/project_data/B1_Behavior/hakim/ME-GraphAU/data/BP4D/img'\n",
    "\n",
    "with open(data_list_path) as f:\n",
    "    lines = f.readlines()"
   ]
  },
  {
   "cell_type": "code",
   "execution_count": null,
   "id": "5373d998",
   "metadata": {},
   "outputs": [],
   "source": [
    "start_time = time.time()\n",
    "for line in lines:\n",
    "    arr = line.strip('\\n').split('\\\\')\n",
    "    dir_1 = os.path.join(output_dir, arr[2])\n",
    "    dir_2 = os.path.join(dir_1, arr[3])\n",
    "    os.makedirs(dir_1, exist_ok=True)\n",
    "    os.makedirs(dir_2, exist_ok=True)\n",
    "    img_path = os.path.join(data_dir, arr[2], arr[3], arr[4])\n",
    "    out_path = os.path.join(dir_2, arr[4])\n",
    "    command = \"cp \" + img_path + \" \" + out_path\n",
    "    os.system(command)\n",
    "    \n",
    "print(\"--- %s seconds ---\" % (time.time() - start_time))"
   ]
  },
  {
   "cell_type": "code",
   "execution_count": null,
   "id": "ee64e4ec",
   "metadata": {},
   "outputs": [],
   "source": []
  }
 ],
 "metadata": {
  "kernelspec": {
   "display_name": "ME-GraphAU",
   "language": "python",
   "name": "me-graphau"
  },
  "language_info": {
   "codemirror_mode": {
    "name": "ipython",
    "version": 3
   },
   "file_extension": ".py",
   "mimetype": "text/x-python",
   "name": "python",
   "nbconvert_exporter": "python",
   "pygments_lexer": "ipython3",
   "version": "3.8.10"
  }
 },
 "nbformat": 4,
 "nbformat_minor": 5
}
