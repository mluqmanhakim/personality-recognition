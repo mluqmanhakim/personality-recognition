{
 "cells": [
  {
   "cell_type": "code",
   "execution_count": 5,
   "id": "2598fcef",
   "metadata": {},
   "outputs": [],
   "source": [
    "import os\n",
    "import time"
   ]
  },
  {
   "cell_type": "code",
   "execution_count": null,
   "id": "90cb0d90",
   "metadata": {},
   "outputs": [],
   "source": [
    "data_list_path = '/nas/database/BP-4DSFE/ImageAnd3D_data/list.txt'\n",
    "data_dir = '/nas/database/BP-4DSFE/ImageAnd3D_data'\n",
    "output_dir = '/nas/project_data/B1_Behavior/hakim/ME-GraphAU/data/BP4D/img'\n",
    "\n",
    "with open(data_list_path) as f:\n",
    "    lines = f.readlines()"
   ]
  },
  {
   "cell_type": "code",
   "execution_count": null,
   "id": "5373d998",
   "metadata": {},
   "outputs": [],
   "source": [
    "start_time = time.time()\n",
    "for line in lines:\n",
    "    arr = line.strip('\\n').split('\\\\')\n",
    "    dir_1 = os.path.join(output_dir, arr[2])\n",
    "    dir_2 = os.path.join(dir_1, arr[3])\n",
    "    os.makedirs(dir_1, exist_ok=True)\n",
    "    os.makedirs(dir_2, exist_ok=True)\n",
    "    img_path = os.path.join(data_dir, arr[2], arr[3], arr[4])\n",
    "    out_path = os.path.join(dir_2, arr[4])\n",
    "    command = \"cp \" + img_path + \" \" + out_path\n",
    "    os.system(command)\n",
    "    \n",
    "print(\"--- %s seconds ---\" % (time.time() - start_time))"
   ]
  },
  {
   "cell_type": "markdown",
   "id": "7e06a869",
   "metadata": {},
   "source": [
    "# Rename file"
   ]
  },
  {
   "cell_type": "markdown",
   "id": "6400c51b",
   "metadata": {},
   "source": [
    "Remove 00 in the front. e.g. 0001.jpg -> 1.jpg"
   ]
  },
  {
   "cell_type": "code",
   "execution_count": null,
   "id": "8af516dc",
   "metadata": {},
   "outputs": [],
   "source": [
    "path = '/nas/project_data/B1_Behavior/hakim/ME-GraphAU/data/BP4D/img'"
   ]
  },
  {
   "cell_type": "code",
   "execution_count": null,
   "id": "78ec7cd7",
   "metadata": {},
   "outputs": [],
   "source": [
    "start_time = time.time()\n",
    "for d in os.listdir(path):\n",
    "    print(f'Processing {d}')\n",
    "    sub_dir = os.path.join(path, d)\n",
    "    for d2 in os.listdir(sub_dir):\n",
    "        sub_dir2 = os.path.join(sub_dir, d2)\n",
    "        for f in os.listdir(sub_dir2):\n",
    "            img_path = os.path.join(sub_dir2, f)\n",
    "            filename = int(f.split('.')[0])\n",
    "            if filename < 1000:\n",
    "                new_filename = str(filename) + '.jpg'\n",
    "                out_img_path = os.path.join(sub_dir2, new_filename)\n",
    "                command = \"mv \" + img_path + \" \" + out_img_path\n",
    "                os.system(command)\n",
    "                \n",
    "print(\"--- %s seconds ---\" % (time.time() - start_time))"
   ]
  },
  {
   "cell_type": "markdown",
   "id": "d19c3f89",
   "metadata": {},
   "source": [
    "Rename file on F020/T3"
   ]
  },
  {
   "cell_type": "code",
   "execution_count": 7,
   "id": "fd4229db",
   "metadata": {},
   "outputs": [],
   "source": [
    "DIR = '/nas/project_data/B1_Behavior/hakim/ME-GraphAU/data/BP4D/img/F020/T3'\n",
    "OUT_DIR = '/nas/project_data/B1_Behavior/hakim/ME-GraphAU/img/T3'"
   ]
  },
  {
   "cell_type": "code",
   "execution_count": 9,
   "id": "d74ee15c",
   "metadata": {},
   "outputs": [
    {
     "name": "stdout",
     "output_type": "stream",
     "text": [
      "Done\n"
     ]
    }
   ],
   "source": [
    "for i in range(0,330):\n",
    "    filename = str(i) + '.jpg'\n",
    "    img_path = os.path.join(DIR, filename)\n",
    "    new_filename = str(i+1) + '.jpg'\n",
    "    new_img_path = os.path.join(OUT_DIR, new_filename)\n",
    "    command = \"cp \" + img_path + \" \" + new_img_path\n",
    "    os.system(command)\n",
    "print('Done')"
   ]
  },
  {
   "cell_type": "code",
   "execution_count": null,
   "id": "f5211f1e",
   "metadata": {},
   "outputs": [],
   "source": []
  }
 ],
 "metadata": {
  "kernelspec": {
   "display_name": "base",
   "language": "python",
   "name": "base"
  },
  "language_info": {
   "codemirror_mode": {
    "name": "ipython",
    "version": 3
   },
   "file_extension": ".py",
   "mimetype": "text/x-python",
   "name": "python",
   "nbconvert_exporter": "python",
   "pygments_lexer": "ipython3",
   "version": "3.9.12"
  }
 },
 "nbformat": 4,
 "nbformat_minor": 5
}
