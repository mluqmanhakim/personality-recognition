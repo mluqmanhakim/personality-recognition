{
 "cells": [
  {
   "cell_type": "code",
   "execution_count": null,
   "id": "770e3cbc",
   "metadata": {},
   "outputs": [],
   "source": [
    "from mtcnn import MTCNN\n",
    "import cv2\n",
    "import numpy as np\n",
    "from matplotlib import pyplot as plt\n",
    "from PIL import Image\n",
    "import os\n",
    "import time"
   ]
  },
  {
   "cell_type": "code",
   "execution_count": null,
   "id": "c7cfc80c",
   "metadata": {},
   "outputs": [],
   "source": [
    "import tensorflow as tf\n",
    "print(tf.config.list_physical_devices('GPU'))"
   ]
  },
  {
   "cell_type": "code",
   "execution_count": null,
   "id": "bb5f2a92",
   "metadata": {},
   "outputs": [],
   "source": [
    "def get_box_face(img_path):\n",
    "    img = cv2.cvtColor(cv2.imread(img_path), cv2.COLOR_BGR2RGB)\n",
    "    detector = MTCNN()\n",
    "    out = detector.detect_faces(img)\n",
    "    return out\n",
    "\n",
    "# crop image and resize to 224x224\n",
    "def crop_img(img_path, coords, out_path):\n",
    "    image_obj = Image.open(img_path)\n",
    "    cropped_image = image_obj.crop(coords)\n",
    "    img = cropped_image.resize((224,224))\n",
    "    img.save(out_path)\n",
    "    \n",
    "# bbox has 4 elements, 1st and 2nd elements are top left x,y coordinates\n",
    "# 3rd and 4th elements are width and length\n",
    "def show_img(img_path, bbox):\n",
    "    img = cv2.cvtColor(cv2.imread(img_path), cv2.COLOR_BGR2RGB)\n",
    "    cv_img = np.array(img)\n",
    "    x1 = int(bbox[0])\n",
    "    y1 = int(bbox[1])\n",
    "    x2 = int(bbox[0]) + int(bbox[2])\n",
    "    y2 = int(bbox[1]) + int(bbox[3])\n",
    "    cv2.rectangle(cv_img, (x1, y1), (x2, y2), (0,255,0), 3)\n",
    "    plt.imshow(cv_img)\n",
    "    plt.show()\n",
    "    \n",
    "def rescale_box(box, scale):\n",
    "    cx = box[0] + int(box[2]/2)\n",
    "    cy = box[1] + int(box[3]/2)\n",
    "    w_max = max(box[2], box[3])\n",
    "    w = int(w_max * scale)\n",
    "    x = cx - int(w/2)\n",
    "    y = cy - int(w/2)\n",
    "    box = [x,y,w,w]\n",
    "    return box"
   ]
  },
  {
   "cell_type": "markdown",
   "id": "34369863",
   "metadata": {},
   "source": [
    "# Test on single image"
   ]
  },
  {
   "cell_type": "code",
   "execution_count": null,
   "id": "0e7ddbd8",
   "metadata": {},
   "outputs": [],
   "source": [
    "img_path = \"/home/luqman/ME-GraphAU/data/DISFA/img/SN009/1742.png\"\n",
    "box = get_box_face(img_path)\n",
    "box"
   ]
  },
  {
   "cell_type": "code",
   "execution_count": null,
   "id": "b3a45b1b",
   "metadata": {},
   "outputs": [],
   "source": [
    "show_img(img_path, box)"
   ]
  },
  {
   "cell_type": "code",
   "execution_count": null,
   "id": "d637f95e",
   "metadata": {},
   "outputs": [],
   "source": [
    "s_box = rescale_box(box, 1.4)"
   ]
  },
  {
   "cell_type": "code",
   "execution_count": null,
   "id": "5f28cb14",
   "metadata": {},
   "outputs": [],
   "source": [
    "show_img(img_path, s_box)"
   ]
  },
  {
   "cell_type": "code",
   "execution_count": null,
   "id": "63084285",
   "metadata": {},
   "outputs": [],
   "source": [
    "coords = (s_box[0], s_box[1], s_box[0]+s_box[2], s_box[1]+s_box[3])\n",
    "out_path = \"/home/luqman/img.png\"\n",
    "crop_img(img_path, coords, out_path)"
   ]
  },
  {
   "cell_type": "markdown",
   "id": "c756f29c",
   "metadata": {},
   "source": [
    "# Run MTCNN"
   ]
  },
  {
   "cell_type": "code",
   "execution_count": null,
   "id": "c20a3c89",
   "metadata": {},
   "outputs": [],
   "source": [
    "start_time = time.time()\n",
    "input_dir = \"/home/luqman/ME-GraphAU/data/DISFA/img\"\n",
    "video_names = ['SN009']\n",
    "\n",
    "for v in video_names:\n",
    "    print(f'Processing {v}')\n",
    "    boxes = []\n",
    "    img_dir = os.path.join(input_dir, v)\n",
    "    frame_count = len([frame for frame in os.listdir(img_dir)])\n",
    "    \n",
    "    for i in range(frame_count):\n",
    "        filename = str(i+1) + '.png'\n",
    "        img_path = os.path.join(img_dir, filename)\n",
    "        box = get_box_face(img_path)\n",
    "        boxes.append(box)\n",
    "\n",
    "    out_filename = v + \".pickle\"\n",
    "    out_path = os.path.join('/nas/project_data/B1_Behavior/hakim/ME-GraphAU/data/DISFA/', out_filename)\n",
    "    outfile = open(out_path, 'wb')\n",
    "    pickle.dump(boxes, outfile)\n",
    "    outfile.close()\n",
    "print(\"--- %s seconds ---\" % (time.time() - start_time))"
   ]
  },
  {
   "cell_type": "code",
   "execution_count": null,
   "id": "96f54c0a",
   "metadata": {},
   "outputs": [],
   "source": [
    "(boxes[1742])"
   ]
  },
  {
   "cell_type": "code",
   "execution_count": null,
   "id": "fc346773",
   "metadata": {},
   "outputs": [],
   "source": [
    "from tensorflow.python.client import device_lib\n",
    "print(device_lib.list_local_devices())"
   ]
  },
  {
   "cell_type": "markdown",
   "id": "fa9571fc",
   "metadata": {},
   "source": [
    "# Write new file"
   ]
  },
  {
   "cell_type": "code",
   "execution_count": null,
   "id": "0de89de0",
   "metadata": {},
   "outputs": [],
   "source": [
    "f = open(\"log_crop_img.txt\", \"w\")\n",
    "f.write(\"All good!\")\n",
    "f.close()"
   ]
  },
  {
   "cell_type": "markdown",
   "id": "4a69a4bf",
   "metadata": {},
   "source": [
    "# Convert video to frames"
   ]
  },
  {
   "cell_type": "code",
   "execution_count": null,
   "id": "68001caa",
   "metadata": {},
   "outputs": [],
   "source": [
    "start_time = time.time()\n",
    "video_path = \"/nas/database/DISFA_Database/Videos_LeftCamera/LeftVideoSN010_comp.avi\"\n",
    "out_path = \"/nas/project_data/B1_Behavior/hakim/ME-GraphAU/data/DISFA/SN010_frames\"\n",
    "\n",
    "command = \"ffmpeg -i \" + video_path + \" \" + os.path.join(out_path, \"%d.png\") \n",
    "os.system(command)\n",
    "print(\"--- %s seconds ---\" % (time.time() - start_time))"
   ]
  },
  {
   "cell_type": "code",
   "execution_count": null,
   "id": "df42e5bd",
   "metadata": {},
   "outputs": [],
   "source": []
  }
 ],
 "metadata": {
  "kernelspec": {
   "display_name": "ME-GraphAU",
   "language": "python",
   "name": "me-graphau"
  },
  "language_info": {
   "codemirror_mode": {
    "name": "ipython",
    "version": 3
   },
   "file_extension": ".py",
   "mimetype": "text/x-python",
   "name": "python",
   "nbconvert_exporter": "python",
   "pygments_lexer": "ipython3",
   "version": "3.8.10"
  }
 },
 "nbformat": 4,
 "nbformat_minor": 5
}
