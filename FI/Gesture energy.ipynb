{
 "cells": [
  {
   "cell_type": "code",
   "execution_count": 1,
   "id": "e9f96532",
   "metadata": {},
   "outputs": [],
   "source": [
    "import numpy as np\n",
    "import os\n",
    "import pickle"
   ]
  },
  {
   "cell_type": "code",
   "execution_count": 2,
   "id": "b7608a8e",
   "metadata": {},
   "outputs": [],
   "source": [
    "train_annotation_path = '/nas/database/Big5/gt/annotation_training.pkl'\n",
    "valid_annotation_path = '/nas/database/Big5/gt/annotation_validation.pkl'\n",
    "test_annotation_path = '/nas/database/Big5/gt/annotation_test.pkl'\n",
    "\n",
    "train_energy_dir = '/home/xiaowei/nipg-mask_cluster_rcnn/Big5_out_train/'\n",
    "valid_energy_dir = '/home/xiaowei/nipg-mask_cluster_rcnn/Big5_out_valid/'\n",
    "test_energy_dir = '/home/xiaowei/nipg-mask_cluster_rcnn/Big5_out_test/'\n",
    "\n",
    "train_output_dir = '/home/luqman/FI_GESTURE_ENERGY/train'\n",
    "valid_output_dir = '/home/luqman/FI_GESTURE_ENERGY/valid'\n",
    "test_output_dir = '/home/luqman/FI_GESTURE_ENERGY/test'"
   ]
  },
  {
   "cell_type": "code",
   "execution_count": 10,
   "id": "fbcddd85",
   "metadata": {},
   "outputs": [
    {
     "name": "stdout",
     "output_type": "stream",
     "text": [
      "nmZRXxKPPuQ.004.mp4\n"
     ]
    }
   ],
   "source": [
    "with open(test_annotation_path, 'rb') as f:\n",
    "    annotation = pickle.load(f, encoding='latin1')\n",
    "videos = list(annotation['extraversion'].keys())\n",
    "\n",
    "for i, video in enumerate(videos):\n",
    "    in_name = video.rsplit(\".\")[0] + video.rsplit(\".\")[1]\n",
    "    energy_left_hand_path = os.path.join(test_energy_dir, in_name, 'energy_left_hand.npy')\n",
    "    energy_right_hand_path = os.path.join(test_energy_dir, in_name, 'energy_right_hand.npy')\n",
    "    energy_body_path = os.path.join(test_energy_dir, in_name, 'energy_body.npy')\n",
    "    energy_head_path = os.path.join(test_energy_dir, in_name, 'energy_head.npy')\n",
    "    \n",
    "    with open(energy_left_hand_path, 'rb') as f:\n",
    "        energy_left_hand = np.load(f)\n",
    "    with open(energy_right_hand_path, 'rb') as f:\n",
    "        energy_right_hand = np.load(f)\n",
    "    with open(energy_body_path, 'rb') as f:\n",
    "        energy_body = np.load(f)\n",
    "    with open(energy_head_path, 'rb') as f:\n",
    "        energy_head = np.load(f)\n",
    "    \n",
    "    concat = np.concatenate((energy_head, energy_body, energy_left_hand, energy_right_hand))\n",
    "    energy = concat.T\n",
    "    output_name = video.rsplit(\".\")[0] + '.' + video.rsplit(\".\")[1] + '.npy'\n",
    "    output_path = os.path.join(test_output_dir, output_name)\n",
    "    \n",
    "    with open(output_path, 'wb') as f:\n",
    "        np.save(f, energy)"
   ]
  },
  {
   "cell_type": "code",
   "execution_count": null,
   "id": "5052a25e",
   "metadata": {},
   "outputs": [],
   "source": []
  }
 ],
 "metadata": {
  "kernelspec": {
   "display_name": "Python 3",
   "language": "python",
   "name": "python3"
  },
  "language_info": {
   "codemirror_mode": {
    "name": "ipython",
    "version": 3
   },
   "file_extension": ".py",
   "mimetype": "text/x-python",
   "name": "python",
   "nbconvert_exporter": "python",
   "pygments_lexer": "ipython3",
   "version": "3.8.10"
  }
 },
 "nbformat": 4,
 "nbformat_minor": 5
}
