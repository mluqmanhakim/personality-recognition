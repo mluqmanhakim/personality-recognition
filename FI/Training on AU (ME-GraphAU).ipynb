{
 "cells": [
  {
   "cell_type": "code",
   "execution_count": 9,
   "id": "08538b92",
   "metadata": {},
   "outputs": [],
   "source": [
    "import numpy as np\n",
    "import pickle\n",
    "import os\n",
    "import torch\n",
    "from torch.utils.data import TensorDataset, DataLoader\n",
    "import matplotlib.pyplot as plt\n",
    "from scipy.stats import pearsonr"
   ]
  },
  {
   "cell_type": "markdown",
   "id": "0af9c0ac",
   "metadata": {},
   "source": [
    "# Data preparation"
   ]
  },
  {
   "cell_type": "code",
   "execution_count": 2,
   "id": "0b46320d",
   "metadata": {},
   "outputs": [],
   "source": [
    "train_annotation_path = '/nas/database/Big5/gt/annotation_training.pkl'\n",
    "val_annotation_path = '/nas/database/Big5/gt/annotation_validation.pkl'\n",
    "test_annotation_path = '/nas/database/Big5/gt/annotation_test.pkl'\n",
    "\n",
    "with open(train_annotation_path, 'rb') as f:\n",
    "    train_annotation = pickle.load(f, encoding='latin1')\n",
    "train_videos = list(train_annotation['extraversion'].keys())\n",
    "\n",
    "with open(val_annotation_path, 'rb') as f:\n",
    "    val_annotation = pickle.load(f, encoding='latin1')\n",
    "val_videos = list(val_annotation['extraversion'].keys())\n",
    "\n",
    "with open(test_annotation_path, 'rb') as f:\n",
    "    test_annotation = pickle.load(f, encoding='latin1')\n",
    "test_videos = list(test_annotation['extraversion'].keys())\n",
    "\n",
    "with open('/home/luqman/FI_AU/mean_std.npy', 'rb') as f:\n",
    "    mean_std_au = np.load(f)"
   ]
  },
  {
   "cell_type": "code",
   "execution_count": 3,
   "id": "8fa7f412",
   "metadata": {},
   "outputs": [],
   "source": [
    "train_features = []\n",
    "train_labels = []\n",
    "val_features = []\n",
    "val_labels = []\n",
    "test_features = []\n",
    "test_labels = []\n",
    "train_data_path = '/home/luqman/FI_AU/train_npy'\n",
    "val_data_path = '/home/luqman/FI_AU/valid_npy'\n",
    "test_data_path = '/home/luqman/FI_AU/test_npy'"
   ]
  },
  {
   "cell_type": "code",
   "execution_count": 4,
   "id": "5a3717a2",
   "metadata": {},
   "outputs": [],
   "source": [
    "for i, video in enumerate(train_videos):\n",
    "    video_name = video.rsplit(\".\")[0] + '.' + video.rsplit(\".\")[1]\n",
    "    input_name = video_name + '.npy'\n",
    "    input_path = os.path.join(train_data_path, input_name)\n",
    "    with open(input_path, 'rb') as f:\n",
    "        au = np.load(f)\n",
    "        au = (au - mean_std_au[:,0]) / mean_std_au[:,1]\n",
    "        if au.shape[0] < 450:\n",
    "            au = np.pad(au, ((0,450-au.shape[0]),(0,0)), 'constant', constant_values=0)\n",
    "    train_features.append(au)\n",
    "    \n",
    "    label = np.array([train_annotation['extraversion'][video],\n",
    "                     train_annotation['neuroticism'][video],\n",
    "                     train_annotation['agreeableness'][video],\n",
    "                     train_annotation['conscientiousness'][video],\n",
    "                     train_annotation['openness'][video]])\n",
    "    train_labels.append(label)\n",
    "    \n",
    "for i, video in enumerate(val_videos):\n",
    "    video_name = video.rsplit(\".\")[0] + '.' + video.rsplit(\".\")[1]\n",
    "    input_name = video_name + '.npy'\n",
    "    input_path = os.path.join(val_data_path, input_name)\n",
    "    with open(input_path, 'rb') as f:\n",
    "        au = np.load(f)\n",
    "        au = (au - mean_std_au[:,0]) / mean_std_au[:,1]\n",
    "        if au.shape[0] < 450:\n",
    "            au = np.pad(au, ((0,450-au.shape[0]),(0,0)), 'constant', constant_values=0)\n",
    "    val_features.append(au)\n",
    "    \n",
    "    label = np.array([val_annotation['extraversion'][video],\n",
    "                     val_annotation['neuroticism'][video],\n",
    "                     val_annotation['agreeableness'][video],\n",
    "                     val_annotation['conscientiousness'][video],\n",
    "                     val_annotation['openness'][video]])\n",
    "    val_labels.append(label)\n",
    "    \n",
    "for i, video in enumerate(test_videos):\n",
    "    video_name = video.rsplit(\".\")[0] + '.' + video.rsplit(\".\")[1]\n",
    "    input_name = video_name + '.npy'\n",
    "    input_path = os.path.join(test_data_path, input_name)\n",
    "    with open(input_path, 'rb') as f:\n",
    "        au = np.load(f)\n",
    "        au = (au - mean_std_au[:,0]) / mean_std_au[:,1]\n",
    "        if au.shape[0] < 450:\n",
    "            au = np.pad(au, ((0,450-au.shape[0]),(0,0)), 'constant', constant_values=0)\n",
    "    test_features.append(au)\n",
    "    \n",
    "    label = np.array([test_annotation['extraversion'][video],\n",
    "                     test_annotation['neuroticism'][video],\n",
    "                     test_annotation['agreeableness'][video],\n",
    "                     test_annotation['conscientiousness'][video],\n",
    "                     test_annotation['openness'][video]])\n",
    "    test_labels.append(label)"
   ]
  },
  {
   "cell_type": "code",
   "execution_count": 5,
   "id": "ab64d34e",
   "metadata": {},
   "outputs": [],
   "source": [
    "train_features = torch.Tensor(np.array(train_features))\n",
    "train_labels = torch.Tensor(np.array(train_labels))\n",
    "val_features = torch.Tensor(np.array(val_features))\n",
    "val_labels = torch.Tensor(np.array(val_labels))\n",
    "test_features = torch.Tensor(np.array(test_features))\n",
    "test_labels = torch.Tensor(np.array(test_labels))\n",
    "\n",
    "BATCH_SIZE = 512\n",
    "train = TensorDataset(train_features, train_labels)\n",
    "val = TensorDataset(val_features, val_labels)\n",
    "test = TensorDataset(test_features, test_labels)\n",
    "train_loader = DataLoader(train, batch_size=BATCH_SIZE, shuffle=True, drop_last=True)\n",
    "val_loader = DataLoader(val, batch_size=BATCH_SIZE, shuffle=True, drop_last=True)\n",
    "test_loader = DataLoader(test, batch_size=BATCH_SIZE, shuffle=True, drop_last=True)"
   ]
  },
  {
   "cell_type": "markdown",
   "id": "5dbb63fd",
   "metadata": {},
   "source": [
    "# Model"
   ]
  },
  {
   "cell_type": "code",
   "execution_count": 6,
   "id": "292f1947",
   "metadata": {},
   "outputs": [],
   "source": [
    "if torch.cuda.is_available():\n",
    "    device = torch.device(\"cuda\")\n",
    "else:\n",
    "    device = torch.device(\"cpu\")"
   ]
  },
  {
   "cell_type": "code",
   "execution_count": 7,
   "id": "e335c49a",
   "metadata": {},
   "outputs": [],
   "source": [
    "class GRU_model(torch.nn.Module):\n",
    "    def __init__(self, input_size=12, hidden_size=256, output_dim=5, dropout=0, num_layers=2, batch_size=64):\n",
    "        super(GRU_model, self).__init__()\n",
    "        self.num_layers = num_layers\n",
    "        self.input_size = input_size\n",
    "        self.hidden_size = hidden_size\n",
    "        self.batch_size = batch_size\n",
    "        self.dropout = dropout\n",
    "        self.gru = torch.nn.GRU(input_size=self.input_size, \n",
    "                                hidden_size=self.hidden_size,\n",
    "                                num_layers=self.num_layers,\n",
    "                                dropout=self.dropout,\n",
    "                                batch_first=True)\n",
    "        self.fc = torch.nn.Linear(hidden_size, output_dim)\n",
    "        self.relu = torch.nn.ReLU()\n",
    "\n",
    "    def forward(self, x, h):\n",
    "        out, h = self.gru(x, h)\n",
    "        out = self.relu(out[:,-1])\n",
    "        out = self.fc(out)\n",
    "        return out, h\n",
    "    \n",
    "    def init_hidden(self, batch_size):\n",
    "        weight = next(self.parameters()).data\n",
    "        hidden = weight.new(self.num_layers, batch_size, self.hidden_size).zero_().to(device)\n",
    "        return hidden"
   ]
  },
  {
   "cell_type": "code",
   "execution_count": 8,
   "id": "6af5f73e",
   "metadata": {},
   "outputs": [],
   "source": [
    "LR = 0.001\n",
    "EPOCHS = 100\n",
    "CHECKPOINT_PATH = \"/home/luqman/model/checkpoint_new_au.ckpt\"\n",
    "\n",
    "model = GRU_model(batch_size=BATCH_SIZE)\n",
    "model.to(device)\n",
    "optimizer = torch.optim.Adam(model.parameters(), lr=LR)\n",
    "loss_fn = torch.nn.L1Loss()\n",
    "\n",
    "checkpoint = torch.load(CHECKPOINT_PATH)\n",
    "model.load_state_dict(checkpoint['model_state_dict'])\n",
    "optimizer.load_state_dict(checkpoint['optimizer_state_dict'])"
   ]
  },
  {
   "cell_type": "markdown",
   "id": "3436be9a",
   "metadata": {},
   "source": [
    "# Training"
   ]
  },
  {
   "cell_type": "code",
   "execution_count": 26,
   "id": "334eaa6a",
   "metadata": {},
   "outputs": [
    {
     "name": "stdout",
     "output_type": "stream",
     "text": [
      "Epoch 0 - train loss: 0.14641345909205816 - val loss: 0.11674382705842296\n",
      "Epoch 10 - train loss: 0.11159254890936678 - val loss: 0.11273074702870461\n",
      "Epoch 20 - train loss: 0.08609831781797511 - val loss: 0.12121210872165618\n",
      "Epoch 30 - train loss: 0.05063067977466891 - val loss: 0.12724512166553928\n",
      "Epoch 40 - train loss: 0.0360049796440909 - val loss: 0.12929584254180232\n",
      "Epoch 50 - train loss: 0.026958647694799207 - val loss: 0.12940827877290786\n",
      "Epoch 60 - train loss: 0.02321793157006464 - val loss: 0.12806490328042738\n",
      "Epoch 70 - train loss: 0.02102773850883848 - val loss: 0.12774641403267462\n",
      "Epoch 80 - train loss: 0.019582369194556307 - val loss: 0.12618986372986146\n",
      "Epoch 90 - train loss: 0.01850958464927571 - val loss: 0.12504035426724341\n"
     ]
    }
   ],
   "source": [
    "train_losses = []\n",
    "val_losses = []\n",
    "\n",
    "for epoch in range(0, EPOCHS):\n",
    "    model.train()\n",
    "    batch_losses = []\n",
    "    h = model.init_hidden(BATCH_SIZE)\n",
    "    \n",
    "    for inputs, targets in train_loader:\n",
    "        h = h.data\n",
    "        preds, h = model(inputs.to(device), h)\n",
    "        loss = loss_fn(preds, targets.to(device))\n",
    "        \n",
    "        optimizer.zero_grad()\n",
    "        loss.backward()\n",
    "        optimizer.step()\n",
    "        \n",
    "        batch_losses.append(loss.item())\n",
    "        \n",
    "    train_loss = np.mean(batch_losses)\n",
    "    train_losses.append(train_loss)\n",
    "    \n",
    "    model.eval()\n",
    "    with torch.no_grad():\n",
    "        batch_val_losses = []\n",
    "        h = model.init_hidden(BATCH_SIZE)\n",
    "        \n",
    "        for inputs, targets in val_loader:\n",
    "            model.eval()\n",
    "            h = h.data\n",
    "            preds, h = model(inputs.to(device), h)\n",
    "            loss = loss_fn(preds, targets.to(device))\n",
    "            batch_val_losses.append(loss.item())\n",
    "        val_loss = np.mean(batch_val_losses)\n",
    "        val_losses.append(val_loss)\n",
    "    \n",
    "    if epoch % 10 == 0:    \n",
    "        print(f'Epoch {epoch} - train loss: {train_loss} - val loss: {val_loss}')"
   ]
  },
  {
   "cell_type": "code",
   "execution_count": 27,
   "id": "e26dcc80",
   "metadata": {},
   "outputs": [],
   "source": [
    "torch.save({\n",
    "            'epoch': EPOCHS,\n",
    "            'model_state_dict': model.state_dict(),\n",
    "            'optimizer_state_dict': optimizer.state_dict(),\n",
    "            'train_loss': train_losses[-1],\n",
    "            'val_loss': val_losses[-1]\n",
    "            }, CHECKPOINT_PATH)"
   ]
  },
  {
   "cell_type": "markdown",
   "id": "077fce27",
   "metadata": {},
   "source": [
    "# Plot"
   ]
  },
  {
   "cell_type": "code",
   "execution_count": 22,
   "id": "5d40309a",
   "metadata": {},
   "outputs": [
    {
     "data": {
      "text/plain": [
       "<matplotlib.legend.Legend at 0x7f0bd41b90a0>"
      ]
     },
     "execution_count": 22,
     "metadata": {},
     "output_type": "execute_result"
    },
    {
     "data": {
      "image/png": "[encoded data removed]",
      "text/plain": [
       "<Figure size 640x480 with 1 Axes>"
      ]
     },
     "metadata": {},
     "output_type": "display_data"
    }
   ],
   "source": [
    "fig, ax = plt.subplots()\n",
    "ax.plot(train_losses, label='Train loss')\n",
    "ax.plot(val_losses, label='Val. loss')\n",
    "ax.set_xlabel('Epoch')\n",
    "ax.set_ylabel('MAE')\n",
    "plt.title(\"Training result\")\n",
    "plt.legend()"
   ]
  },
  {
   "cell_type": "markdown",
   "id": "9bc68b22",
   "metadata": {},
   "source": [
    "# Testing"
   ]
  },
  {
   "cell_type": "code",
   "execution_count": 34,
   "id": "454d0113",
   "metadata": {},
   "outputs": [],
   "source": []
  },
  {
   "cell_type": "code",
   "execution_count": 17,
   "id": "07dc934e",
   "metadata": {},
   "outputs": [
    {
     "name": "stdout",
     "output_type": "stream",
     "text": [
      "1-MAE: 0.8760231693585714\n",
      "1-MAE Extraversion: 0.8764475484689077\n",
      "1-MAE Neuroticism: 0.8764475484689077\n",
      "1-MAE Agreeableness: 0.8764475484689077\n",
      "1-MAE Conscientiousness: 0.8764475484689077\n",
      "1-MAE Openness: 0.8764475484689077\n",
      "r_extraversion: 0.2591714911296334\n",
      "r_neuroticism: 0.23224004179810645\n",
      "r_agreeableness: 0.08839599301897233\n",
      "r_conscientiousness: 0.2138569061140961\n",
      "r_openness: 0.2557311796164193\n",
      "r: 0.20987912233544553\n"
     ]
    }
   ],
   "source": [
    "model.eval()\n",
    "with torch.no_grad():\n",
    "    batch_loss_ext = []\n",
    "    batch_loss_neu = []\n",
    "    batch_loss_agr = []\n",
    "    batch_loss_con = []\n",
    "    batch_loss_ope = []\n",
    "\n",
    "    batch_r_ext = []\n",
    "    batch_r_neu = []\n",
    "    batch_r_agr = []\n",
    "    batch_r_con = []\n",
    "    batch_r_ope = []\n",
    "\n",
    "    h = model.init_hidden(BATCH_SIZE)\n",
    "\n",
    "    for inputs, targets in test_loader:\n",
    "        model.eval()\n",
    "        h = h.data\n",
    "        preds, h = model(inputs.to(device), h)\n",
    "        \n",
    "        loss_ext = loss_fn(preds[:,0], targets[:,0].to(device))\n",
    "        loss_neu = loss_fn(preds[:,1], targets[:,1].to(device))\n",
    "        loss_agr = loss_fn(preds[:,2], targets[:,2].to(device))\n",
    "        loss_con = loss_fn(preds[:,3], targets[:,3].to(device))\n",
    "        loss_ope = loss_fn(preds[:,4], targets[:,4].to(device))\n",
    "        batch_loss_ext.append(loss_ext.item())\n",
    "        batch_loss_neu.append(loss_neu.item())\n",
    "        batch_loss_agr.append(loss_agr.item())\n",
    "        batch_loss_con.append(loss_con.item())\n",
    "        batch_loss_ope.append(loss_ope.item())\n",
    "        \n",
    "        r_ext = pearsonr(preds.cpu()[:,0], targets[:,0])\n",
    "        r_neu = pearsonr(preds.cpu()[:,1], targets[:,1])\n",
    "        r_agr = pearsonr(preds.cpu()[:,2], targets[:,2])\n",
    "        r_con = pearsonr(preds.cpu()[:,3], targets[:,3])\n",
    "        r_ope = pearsonr(preds.cpu()[:,4], targets[:,4])\n",
    "        batch_r_ext.append(r_ext)\n",
    "        batch_r_neu.append(r_neu)\n",
    "        batch_r_agr.append(r_agr)\n",
    "        batch_r_con.append(r_con)\n",
    "        batch_r_ope.append(r_ope)\n",
    "        \n",
    "    loss_ext = 1 - np.mean(batch_loss_ext)\n",
    "    loss_neu = 1 - np.mean(batch_loss_neu)\n",
    "    loss_agr = 1 - np.mean(batch_loss_agr)\n",
    "    loss_con = 1 - np.mean(batch_loss_con)\n",
    "    loss_ope = 1 - np.mean(batch_loss_ope)\n",
    "    loss = (loss_ext + loss_neu + loss_agr + loss_con + loss_ope) / 5\n",
    "    \n",
    "    r_ext = np.array(batch_r_ext)[:,0].mean()\n",
    "    r_neu = np.array(batch_r_neu)[:,0].mean()\n",
    "    r_agr = np.array(batch_r_agr)[:,0].mean()\n",
    "    r_con = np.array(batch_r_con)[:,0].mean()\n",
    "    r_ope = np.array(batch_r_ope)[:,0].mean()\n",
    "    r = (r_ext + r_neu + r_agr + r_con + r_ope) / 5\n",
    "    \n",
    "    print(f'1-MAE: {loss}')\n",
    "    print(f'1-MAE Extraversion: {loss_ext}')\n",
    "    print(f'1-MAE Neuroticism: {loss_ext}')\n",
    "    print(f'1-MAE Agreeableness: {loss_ext}')\n",
    "    print(f'1-MAE Conscientiousness: {loss_ext}')\n",
    "    print(f'1-MAE Openness: {loss_ext}')\n",
    "    print(f'r_extraversion: {r_ext}')\n",
    "    print(f'r_neuroticism: {r_neu}')\n",
    "    print(f'r_agreeableness: {r_agr}')\n",
    "    print(f'r_conscientiousness: {r_con}')\n",
    "    print(f'r_openness: {r_ope}')\n",
    "    print(f'r: {r}')"
   ]
  },
  {
   "cell_type": "code",
   "execution_count": null,
   "id": "f5681366",
   "metadata": {},
   "outputs": [],
   "source": []
  }
 ],
 "metadata": {
  "kernelspec": {
   "display_name": "base",
   "language": "python",
   "name": "base"
  },
  "language_info": {
   "codemirror_mode": {
    "name": "ipython",
    "version": 3
   },
   "file_extension": ".py",
   "mimetype": "text/x-python",
   "name": "python",
   "nbconvert_exporter": "python",
   "pygments_lexer": "ipython3",
   "version": "3.9.12"
  }
 },
 "nbformat": 4,
 "nbformat_minor": 5
}
