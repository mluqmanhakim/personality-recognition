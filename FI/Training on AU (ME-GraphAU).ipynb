{
 "cells": [
  {
   "cell_type": "code",
   "execution_count": 1,
   "id": "08538b92",
   "metadata": {},
   "outputs": [
    {
     "name": "stderr",
     "output_type": "stream",
     "text": [
      "/home/luqman/miniconda3/lib/python3.9/site-packages/tqdm/auto.py:22: TqdmWarning: IProgress not found. Please update jupyter and ipywidgets. See https://ipywidgets.readthedocs.io/en/stable/user_install.html\n",
      "  from .autonotebook import tqdm as notebook_tqdm\n"
     ]
    }
   ],
   "source": [
    "import numpy as np\n",
    "import pickle\n",
    "import os\n",
    "import torch\n",
    "from torch.utils.data import TensorDataset, DataLoader\n",
    "import matplotlib.pyplot as plt\n",
    "from sklearn.metrics import r2_score"
   ]
  },
  {
   "cell_type": "markdown",
   "id": "0af9c0ac",
   "metadata": {},
   "source": [
    "# Data preparation"
   ]
  },
  {
   "cell_type": "code",
   "execution_count": 6,
   "id": "0b46320d",
   "metadata": {},
   "outputs": [],
   "source": [
    "train_annotation_path = '/nas/database/Big5/gt/annotation_training.pkl'\n",
    "val_annotation_path = '/nas/database/Big5/gt/annotation_validation.pkl'\n",
    "test_annotation_path = '/nas/database/Big5/gt/annotation_test.pkl'\n",
    "\n",
    "with open(train_annotation_path, 'rb') as f:\n",
    "    train_annotation = pickle.load(f, encoding='latin1')\n",
    "train_videos = list(train_annotation['extraversion'].keys())\n",
    "\n",
    "with open(val_annotation_path, 'rb') as f:\n",
    "    val_annotation = pickle.load(f, encoding='latin1')\n",
    "val_videos = list(val_annotation['extraversion'].keys())\n",
    "\n",
    "with open(test_annotation_path, 'rb') as f:\n",
    "    test_annotation = pickle.load(f, encoding='latin1')\n",
    "test_videos = list(test_annotation['extraversion'].keys())\n",
    "\n",
    "with open('/home/luqman/FI_AU/mean_std.npy', 'rb') as f:\n",
    "    mean_std_au = np.load(f)"
   ]
  },
  {
   "cell_type": "code",
   "execution_count": 7,
   "id": "8fa7f412",
   "metadata": {},
   "outputs": [],
   "source": [
    "train_features = []\n",
    "train_labels = []\n",
    "val_features = []\n",
    "val_labels = []\n",
    "test_features = []\n",
    "test_labels = []\n",
    "train_data_path = '/home/luqman/FI_AU/train_npy'\n",
    "val_data_path = '/home/luqman/FI_AU/valid_npy'\n",
    "test_data_path = '/home/luqman/FI_AU/test_npy'"
   ]
  },
  {
   "cell_type": "code",
   "execution_count": 8,
   "id": "5a3717a2",
   "metadata": {},
   "outputs": [],
   "source": [
    "for i, video in enumerate(train_videos):\n",
    "    video_name = video.rsplit(\".\")[0] + '.' + video.rsplit(\".\")[1]\n",
    "    input_name = video_name + '.npy'\n",
    "    input_path = os.path.join(train_data_path, input_name)\n",
    "    with open(input_path, 'rb') as f:\n",
    "        au = np.load(f)\n",
    "        au = (au - mean_std_au[:,0]) / mean_std_au[:,1]\n",
    "        if au.shape[0] < 450:\n",
    "            au = np.pad(au, ((0,450-au.shape[0]),(0,0)), 'constant', constant_values=0)\n",
    "\n",
    "    # Include only 11 AU\n",
    "    au = au[:,:11]\n",
    "    train_features.append(au)\n",
    "    \n",
    "    label = np.array([train_annotation['extraversion'][video],\n",
    "                     train_annotation['neuroticism'][video],\n",
    "                     train_annotation['agreeableness'][video],\n",
    "                     train_annotation['conscientiousness'][video],\n",
    "                     train_annotation['openness'][video]])\n",
    "    train_labels.append(label)\n",
    "    \n",
    "for i, video in enumerate(val_videos):\n",
    "    video_name = video.rsplit(\".\")[0] + '.' + video.rsplit(\".\")[1]\n",
    "    input_name = video_name + '.npy'\n",
    "    input_path = os.path.join(val_data_path, input_name)\n",
    "    with open(input_path, 'rb') as f:\n",
    "        au = np.load(f)\n",
    "        au = (au - mean_std_au[:,0]) / mean_std_au[:,1]\n",
    "        if au.shape[0] < 450:\n",
    "            au = np.pad(au, ((0,450-au.shape[0]),(0,0)), 'constant', constant_values=0)\n",
    "    \n",
    "    # Include only 11 AU\n",
    "    au = au[:,:11]\n",
    "    val_features.append(au)\n",
    "    \n",
    "    label = np.array([val_annotation['extraversion'][video],\n",
    "                     val_annotation['neuroticism'][video],\n",
    "                     val_annotation['agreeableness'][video],\n",
    "                     val_annotation['conscientiousness'][video],\n",
    "                     val_annotation['openness'][video]])\n",
    "    val_labels.append(label)\n",
    "    \n",
    "for i, video in enumerate(test_videos):\n",
    "    video_name = video.rsplit(\".\")[0] + '.' + video.rsplit(\".\")[1]\n",
    "    input_name = video_name + '.npy'\n",
    "    input_path = os.path.join(test_data_path, input_name)\n",
    "    with open(input_path, 'rb') as f:\n",
    "        au = np.load(f)\n",
    "        au = (au - mean_std_au[:,0]) / mean_std_au[:,1]\n",
    "        if au.shape[0] < 450:\n",
    "            au = np.pad(au, ((0,450-au.shape[0]),(0,0)), 'constant', constant_values=0)\n",
    "    # Include only 11 AU\n",
    "    au = au[:,:11]\n",
    "    test_features.append(au)\n",
    "    \n",
    "    label = np.array([test_annotation['extraversion'][video],\n",
    "                     test_annotation['neuroticism'][video],\n",
    "                     test_annotation['agreeableness'][video],\n",
    "                     test_annotation['conscientiousness'][video],\n",
    "                     test_annotation['openness'][video]])\n",
    "    test_labels.append(label)"
   ]
  },
  {
   "cell_type": "code",
   "execution_count": 9,
   "id": "ab64d34e",
   "metadata": {},
   "outputs": [],
   "source": [
    "train_features = torch.Tensor(np.array(train_features))\n",
    "train_labels = torch.Tensor(np.array(train_labels))\n",
    "val_features = torch.Tensor(np.array(val_features))\n",
    "val_labels = torch.Tensor(np.array(val_labels))\n",
    "test_features = torch.Tensor(np.array(test_features))\n",
    "test_labels = torch.Tensor(np.array(test_labels))\n",
    "\n",
    "BATCH_SIZE = 256\n",
    "train = TensorDataset(train_features, train_labels)\n",
    "val = TensorDataset(val_features, val_labels)\n",
    "test = TensorDataset(test_features, test_labels)\n",
    "train_loader = DataLoader(train, batch_size=BATCH_SIZE, shuffle=True, drop_last=True)\n",
    "val_loader = DataLoader(val, batch_size=BATCH_SIZE, shuffle=True, drop_last=True)\n",
    "test_loader = DataLoader(test, batch_size=BATCH_SIZE, shuffle=True, drop_last=True)"
   ]
  },
  {
   "cell_type": "markdown",
   "id": "5dbb63fd",
   "metadata": {},
   "source": [
    "# Model"
   ]
  },
  {
   "cell_type": "code",
   "execution_count": 10,
   "id": "292f1947",
   "metadata": {},
   "outputs": [],
   "source": [
    "if torch.cuda.is_available():\n",
    "    device = torch.device(\"cuda\")\n",
    "else:\n",
    "    device = torch.device(\"cpu\")"
   ]
  },
  {
   "cell_type": "markdown",
   "id": "dbd200f9",
   "metadata": {},
   "source": [
    "# GRU"
   ]
  },
  {
   "cell_type": "code",
   "execution_count": 39,
   "id": "e335c49a",
   "metadata": {},
   "outputs": [],
   "source": [
    "class GRU_model(torch.nn.Module):\n",
    "    def __init__(self, input_size, hidden_size, bidirectional, output_dim, dropout, num_layers, batch_size):\n",
    "        super(GRU_model, self).__init__()\n",
    "        self.num_layers = num_layers\n",
    "        self.input_size = input_size\n",
    "        self.hidden_size = hidden_size\n",
    "        self.batch_size = batch_size\n",
    "        self.dropout = dropout\n",
    "        self.gru = torch.nn.GRU(input_size=self.input_size, \n",
    "                                hidden_size=self.hidden_size,\n",
    "                                num_layers=self.num_layers,\n",
    "                                dropout=self.dropout,\n",
    "                                bidirectional=bidirectional,\n",
    "                                batch_first=True)\n",
    "        self.fc = torch.nn.Linear(hidden_size if not bidirectional else hidden_size * 2, output_dim)\n",
    "        self.relu = torch.nn.ReLU()\n",
    "        self.sigmoid = torch.nn.Sigmoid()\n",
    "\n",
    "    def forward(self, x):\n",
    "        out, h = self.gru(x)\n",
    "        out = self.relu(out[:,-1,:])\n",
    "        out = self.fc(out)\n",
    "        out = self.sigmoid(out)\n",
    "        return out"
   ]
  },
  {
   "cell_type": "code",
   "execution_count": 57,
   "id": "650e5115",
   "metadata": {},
   "outputs": [],
   "source": [
    "LR = 0.0001\n",
    "CHECKPOINT_PATH = \"/home/luqman/model/checkpoint_gru_new_au.ckpt\""
   ]
  },
  {
   "cell_type": "code",
   "execution_count": 55,
   "id": "6af5f73e",
   "metadata": {},
   "outputs": [],
   "source": [
    "model = GRU_model(input_size=11, \n",
    "                  hidden_size=256, \n",
    "                  bidirectional=True, \n",
    "                  output_dim=5, \n",
    "                  dropout=0.2, \n",
    "                  num_layers=2, \n",
    "                  batch_size=BATCH_SIZE)\n",
    "model.to(device)\n",
    "optimizer = torch.optim.AdamW(model.parameters(), lr=LR, weight_decay=0.001)\n",
    "scheduler = torch.optim.lr_scheduler.ReduceLROnPlateau(optimizer, 'min')\n",
    "loss_fn = torch.nn.MSELoss()\n",
    "mae = torch.nn.L1Loss()"
   ]
  },
  {
   "cell_type": "code",
   "execution_count": 56,
   "id": "f917660d",
   "metadata": {},
   "outputs": [],
   "source": [
    "# checkpoint = torch.load(CHECKPOINT_PATH)\n",
    "# model.load_state_dict(checkpoint['model_state_dict'])\n",
    "# optimizer.load_state_dict(checkpoint['optimizer_state_dict'])"
   ]
  },
  {
   "cell_type": "markdown",
   "id": "b92e8aa9",
   "metadata": {},
   "source": [
    "# LSTM"
   ]
  },
  {
   "cell_type": "code",
   "execution_count": 24,
   "id": "b4b9afd9",
   "metadata": {},
   "outputs": [],
   "source": [
    "class LSTM_model(torch.nn.Module):\n",
    "    def __init__(self, input_size, hidden_size, output_dim, dropout, num_layers, bidirectional, batch_size):\n",
    "        super(LSTM_model, self).__init__()\n",
    "        self.num_layers = num_layers\n",
    "        self.input_size = input_size\n",
    "        self.hidden_size = hidden_size\n",
    "        self.batch_size = batch_size\n",
    "        self.dropout = dropout\n",
    "        self.lstm = torch.nn.LSTM(input_size=self.input_size, \n",
    "                                hidden_size=self.hidden_size,\n",
    "                                num_layers=self.num_layers,\n",
    "                                dropout=self.dropout,\n",
    "                                bidirectional=False,\n",
    "                                batch_first=True)\n",
    "        self.fc = torch.nn.Linear(hidden_size*2 if bidirectional else hidden_size, output_dim)\n",
    "        self.relu = torch.nn.ReLU()\n",
    "        self.sigmoid = torch.nn.Sigmoid()\n",
    "\n",
    "    def forward(self, x):\n",
    "        out, (hn, cn) = self.lstm(x)\n",
    "        # out[:, -1, :] --> 100, 100 --> just want last time step hidden states!\n",
    "        out = self.relu(out[:, -1, :])\n",
    "        out = self.fc(out)\n",
    "        out = self.sigmoid(out)\n",
    "        return out"
   ]
  },
  {
   "cell_type": "code",
   "execution_count": 25,
   "id": "82ac97ce",
   "metadata": {},
   "outputs": [],
   "source": [
    "LR = 0.001\n",
    "CHECKPOINT_PATH = \"/home/luqman/model/checkpoint_lstm_new_au.ckpt\""
   ]
  },
  {
   "cell_type": "code",
   "execution_count": 26,
   "id": "e48fbb94",
   "metadata": {},
   "outputs": [],
   "source": [
    "model = LSTM_model(input_size=11, \n",
    "                   hidden_size=256, \n",
    "                   output_dim=5, \n",
    "                   dropout=0.1, \n",
    "                   num_layers=2,\n",
    "                   bidirectional=False,\n",
    "                   batch_size=BATCH_SIZE)\n",
    "model.to(device)\n",
    "optimizer = torch.optim.AdamW(model.parameters(), lr=LR, weight_decay=0.01)\n",
    "scheduler = torch.optim.lr_scheduler.ReduceLROnPlateau(optimizer, 'min')\n",
    "loss_fn = torch.nn.MSELoss()\n",
    "mae = torch.nn.L1Loss()"
   ]
  },
  {
   "cell_type": "markdown",
   "id": "3436be9a",
   "metadata": {},
   "source": [
    "# Training"
   ]
  },
  {
   "cell_type": "code",
   "execution_count": 58,
   "id": "334eaa6a",
   "metadata": {},
   "outputs": [],
   "source": [
    "def train(model, train_loader, val_loader, epochs, patience=5):\n",
    "    train_losses = []\n",
    "    val_losses = []\n",
    "    val_maes = []\n",
    "\n",
    "    the_last_loss = 1e6\n",
    "    trigger_times = 0\n",
    "\n",
    "    for epoch in range(0, epochs):\n",
    "        model.train()\n",
    "        batch_losses = []\n",
    "\n",
    "        for inputs, targets in train_loader:\n",
    "            preds = model(inputs.to(device))\n",
    "            loss = loss_fn(preds, targets.to(device))\n",
    "            optimizer.zero_grad()\n",
    "            loss.backward()\n",
    "            torch.nn.utils.clip_grad_norm_(model.parameters(), max_norm=2.0, norm_type=2)\n",
    "            optimizer.step()\n",
    "            batch_losses.append(loss.item())\n",
    "\n",
    "        train_loss = np.mean(batch_losses)\n",
    "        train_losses.append(train_loss)\n",
    "\n",
    "        model.eval()\n",
    "        with torch.no_grad():\n",
    "            batch_val_losses = []\n",
    "            batch_val_mae = []\n",
    "\n",
    "            for inputs, targets in val_loader:\n",
    "                model.eval()\n",
    "                preds = model(inputs.to(device))\n",
    "                loss = loss_fn(preds, targets.to(device))\n",
    "                batch_val_losses.append(loss.item())\n",
    "                val_mae = mae(preds, targets.to(device))\n",
    "                batch_val_mae.append(val_mae.item())\n",
    "            val_loss = np.mean(batch_val_losses)\n",
    "            val_mae = np.mean(batch_val_mae)\n",
    "            scheduler.step(val_loss)\n",
    "            val_losses.append(val_loss)\n",
    "            val_maes.append(val_mae)\n",
    "\n",
    "        if epoch % 5 == 0:    \n",
    "            print(f'Epoch {epoch} - train loss: {train_loss} - val loss: {val_loss} - val 1-mae: {1-val_mae}')\n",
    "        \n",
    "        # early stopping\n",
    "        if val_loss > the_last_loss:\n",
    "            trigger_times += 1\n",
    "            print('Trigger Times:', trigger_times)\n",
    "            if trigger_times >= patience:\n",
    "                print('Early Stopping!')\n",
    "                break\n",
    "        else:\n",
    "            print('Trigger Times: 0')\n",
    "            trigger_times = 0\n",
    "        the_last_loss = val_loss\n",
    "            \n",
    "    return train_losses, val_losses, val_maes"
   ]
  },
  {
   "cell_type": "code",
   "execution_count": 59,
   "id": "518ccdfa",
   "metadata": {},
   "outputs": [
    {
     "name": "stdout",
     "output_type": "stream",
     "text": [
      "Epoch 0 - train loss: 0.023192766243996826 - val loss: 0.021208911069801877 - val 1-mae: 0.8827184683510235\n",
      "Trigger Times: 0\n",
      "Trigger Times: 0\n",
      "Trigger Times: 0\n",
      "Trigger Times: 1\n",
      "Trigger Times: 2\n",
      "Epoch 5 - train loss: 0.02204282306458639 - val loss: 0.020647880754300525 - val 1-mae: 0.8844441452196666\n",
      "Trigger Times: 0\n",
      "Trigger Times: 1\n",
      "Trigger Times: 2\n",
      "Trigger Times: 0\n",
      "Trigger Times: 0\n",
      "Epoch 10 - train loss: 0.02174324064475039 - val loss: 0.020834109878965786 - val 1-mae: 0.8840790699635234\n",
      "Trigger Times: 1\n",
      "Trigger Times: 2\n",
      "Trigger Times: 0\n",
      "Trigger Times: 1\n",
      "Trigger Times: 0\n",
      "Epoch 15 - train loss: 0.021423063362422196 - val loss: 0.020278123606528555 - val 1-mae: 0.8857554420828819\n",
      "Trigger Times: 0\n",
      "Trigger Times: 0\n",
      "Trigger Times: 1\n",
      "Trigger Times: 0\n",
      "Trigger Times: 1\n",
      "Epoch 20 - train loss: 0.020945471104072487 - val loss: 0.01971327220754964 - val 1-mae: 0.887212298810482\n",
      "Trigger Times: 0\n",
      "Trigger Times: 1\n",
      "Trigger Times: 2\n",
      "Trigger Times: 0\n",
      "Trigger Times: 1\n",
      "Epoch 25 - train loss: 0.020304626420788143 - val loss: 0.020130866872412816 - val 1-mae: 0.8856780635459083\n",
      "Trigger Times: 2\n",
      "Trigger Times: 0\n",
      "Trigger Times: 1\n",
      "Trigger Times: 0\n",
      "Trigger Times: 0\n",
      "Epoch 30 - train loss: 0.019842250839523647 - val loss: 0.019592101020472392 - val 1-mae: 0.8880969509482384\n",
      "Trigger Times: 1\n",
      "Trigger Times: 2\n",
      "Trigger Times: 0\n",
      "Trigger Times: 1\n",
      "Trigger Times: 0\n",
      "Epoch 35 - train loss: 0.019617904625509098 - val loss: 0.019433808379939625 - val 1-mae: 0.8883470307503428\n",
      "Trigger Times: 0\n",
      "Trigger Times: 1\n",
      "Trigger Times: 2\n",
      "Trigger Times: 0\n",
      "Trigger Times: 0\n",
      "Epoch 40 - train loss: 0.01929366102685099 - val loss: 0.019511244126728604 - val 1-mae: 0.8876897352082389\n",
      "Trigger Times: 1\n",
      "Trigger Times: 0\n",
      "Trigger Times: 1\n",
      "Trigger Times: 2\n",
      "Trigger Times: 0\n",
      "Epoch 45 - train loss: 0.019343165923719822 - val loss: 0.019378386171800748 - val 1-mae: 0.8886357780013766\n",
      "Trigger Times: 1\n",
      "Trigger Times: 2\n",
      "Trigger Times: 0\n",
      "Trigger Times: 1\n",
      "Trigger Times: 0\n"
     ]
    }
   ],
   "source": [
    "train_losses, val_losses, val_maes = train(model, train_loader, val_loader, epochs=50, patience=4)"
   ]
  },
  {
   "cell_type": "markdown",
   "id": "077fce27",
   "metadata": {},
   "source": [
    "# Plot"
   ]
  },
  {
   "cell_type": "code",
   "execution_count": 29,
   "id": "5d40309a",
   "metadata": {},
   "outputs": [
    {
     "data": {
      "text/plain": [
       "<matplotlib.legend.Legend at 0x7f33ee3ddb80>"
      ]
     },
     "execution_count": 29,
     "metadata": {},
     "output_type": "execute_result"
    },
    {
     "data": {
      "image/png": "[encoded data removed]",
      "text/plain": [
       "<Figure size 640x480 with 1 Axes>"
      ]
     },
     "metadata": {},
     "output_type": "display_data"
    }
   ],
   "source": [
    "fig, ax = plt.subplots()\n",
    "ax.plot(train_losses, label='Train loss')\n",
    "ax.plot(val_losses, label='Val. loss')\n",
    "ax.set_xlabel('Epoch')\n",
    "ax.set_ylabel('Loss')\n",
    "plt.title(\"Training result\")\n",
    "plt.legend()"
   ]
  },
  {
   "cell_type": "markdown",
   "id": "492a0470",
   "metadata": {},
   "source": [
    "# Save model"
   ]
  },
  {
   "cell_type": "code",
   "execution_count": 61,
   "id": "e26dcc80",
   "metadata": {},
   "outputs": [],
   "source": [
    "torch.save({\n",
    "    'model_state_dict': model.state_dict(),\n",
    "    'optimizer_state_dict': optimizer.state_dict(),\n",
    "}, CHECKPOINT_PATH)"
   ]
  },
  {
   "cell_type": "code",
   "execution_count": 62,
   "id": "208ad6d9",
   "metadata": {},
   "outputs": [
    {
     "data": {
      "text/plain": [
       "GRU_model(\n",
       "  (gru): GRU(11, 256, num_layers=2, batch_first=True, dropout=0.2, bidirectional=True)\n",
       "  (fc): Linear(in_features=512, out_features=5, bias=True)\n",
       "  (relu): ReLU()\n",
       "  (sigmoid): Sigmoid()\n",
       ")"
      ]
     },
     "execution_count": 62,
     "metadata": {},
     "output_type": "execute_result"
    }
   ],
   "source": [
    "model"
   ]
  },
  {
   "cell_type": "markdown",
   "id": "9bc68b22",
   "metadata": {},
   "source": [
    "# Testing"
   ]
  },
  {
   "cell_type": "code",
   "execution_count": 60,
   "id": "07dc934e",
   "metadata": {},
   "outputs": [
    {
     "name": "stdout",
     "output_type": "stream",
     "text": [
      "1-MAE: 0.8878489085606166\n",
      "1-MAE Extraversion: 0.8875636862857001\n",
      "1-MAE Neuroticism: 0.8835576740758759\n",
      "1-MAE Agreeableness: 0.8952643179467746\n",
      "1-MAE Conscientiousness: 0.8815985832895551\n",
      "1-MAE Openness: 0.8912602812051773\n",
      "r2_extraversion: -3.960207695436781\n",
      "r2_neuroticism: -6.337265329354374\n",
      "r2_agreeableness: -13.898933810299537\n",
      "r2_conscientiousness: -7.435785418309358\n",
      "r2_openness: -5.044475121471685\n",
      "r2: -7.335333474974346\n"
     ]
    }
   ],
   "source": [
    "mae = torch.nn.L1Loss()\n",
    "model.eval()\n",
    "with torch.no_grad():\n",
    "    batch_loss_ext = []\n",
    "    batch_loss_neu = []\n",
    "    batch_loss_agr = []\n",
    "    batch_loss_con = []\n",
    "    batch_loss_ope = []\n",
    "\n",
    "    batch_r2_ext = []\n",
    "    batch_r2_neu = []\n",
    "    batch_r2_agr = []\n",
    "    batch_r2_con = []\n",
    "    batch_r2_ope = []\n",
    "\n",
    "    for inputs, targets in test_loader:\n",
    "        model.eval()\n",
    "        preds = model(inputs.to(device))\n",
    "        \n",
    "        loss_ext = mae(preds[:,0], targets[:,0].to(device))\n",
    "        loss_neu = mae(preds[:,1], targets[:,1].to(device))\n",
    "        loss_agr = mae(preds[:,2], targets[:,2].to(device))\n",
    "        loss_con = mae(preds[:,3], targets[:,3].to(device))\n",
    "        loss_ope = mae(preds[:,4], targets[:,4].to(device))\n",
    "        batch_loss_ext.append(loss_ext.item())\n",
    "        batch_loss_neu.append(loss_neu.item())\n",
    "        batch_loss_agr.append(loss_agr.item())\n",
    "        batch_loss_con.append(loss_con.item())\n",
    "        batch_loss_ope.append(loss_ope.item())\n",
    "        \n",
    "        r2_ext = r2_score(preds.cpu()[:,0], targets[:,0])\n",
    "        r2_neu = r2_score(preds.cpu()[:,1], targets[:,1])\n",
    "        r2_agr = r2_score(preds.cpu()[:,2], targets[:,2])\n",
    "        r2_con = r2_score(preds.cpu()[:,3], targets[:,3])\n",
    "        r2_ope = r2_score(preds.cpu()[:,4], targets[:,4])\n",
    "        batch_r2_ext.append(r2_ext)\n",
    "        batch_r2_neu.append(r2_neu)\n",
    "        batch_r2_agr.append(r2_agr)\n",
    "        batch_r2_con.append(r2_con)\n",
    "        batch_r2_ope.append(r2_ope)\n",
    "        \n",
    "    loss_ext = 1 - np.mean(batch_loss_ext)\n",
    "    loss_neu = 1 - np.mean(batch_loss_neu)\n",
    "    loss_agr = 1 - np.mean(batch_loss_agr)\n",
    "    loss_con = 1 - np.mean(batch_loss_con)\n",
    "    loss_ope = 1 - np.mean(batch_loss_ope)\n",
    "    loss = (loss_ext + loss_neu + loss_agr + loss_con + loss_ope) / 5\n",
    "    \n",
    "    r2_ext = np.array(batch_r2_ext).mean()\n",
    "    r2_neu = np.array(batch_r2_neu).mean()\n",
    "    r2_agr = np.array(batch_r2_agr).mean()\n",
    "    r2_con = np.array(batch_r2_con).mean()\n",
    "    r2_ope = np.array(batch_r2_ope).mean()\n",
    "    r2 = (r2_ext + r2_neu + r2_agr + r2_con + r2_ope) / 5\n",
    "    \n",
    "    print(f'1-MAE: {loss}')\n",
    "    print(f'1-MAE Extraversion: {loss_ext}')\n",
    "    print(f'1-MAE Neuroticism: {loss_neu}')\n",
    "    print(f'1-MAE Agreeableness: {loss_agr}')\n",
    "    print(f'1-MAE Conscientiousness: {loss_con}')\n",
    "    print(f'1-MAE Openness: {loss_ope}')\n",
    "    print(f'r2_extraversion: {r2_ext}')\n",
    "    print(f'r2_neuroticism: {r2_neu}')\n",
    "    print(f'r2_agreeableness: {r2_agr}')\n",
    "    print(f'r2_conscientiousness: {r2_con}')\n",
    "    print(f'r2_openness: {r2_ope}')\n",
    "    print(f'r2: {r2}')"
   ]
  },
  {
   "cell_type": "code",
   "execution_count": 57,
   "id": "95839f68",
   "metadata": {},
   "outputs": [
    {
     "name": "stdout",
     "output_type": "stream",
     "text": [
      "baseline prior 1-mae: 0.8814377188682556\n"
     ]
    }
   ],
   "source": [
    "prior = test_labels.mean(axis=0)\n",
    "test_prior = torch.from_numpy(np.repeat(np.expand_dims(prior, axis=0), 2000, axis=0))\n",
    "value = mae(test_prior, test_labels)\n",
    "print('baseline prior 1-mae:', 1-value.item())"
   ]
  },
  {
   "cell_type": "code",
   "execution_count": 63,
   "id": "5160b826",
   "metadata": {},
   "outputs": [
    {
     "ename": "SyntaxError",
     "evalue": "illegal target for annotation (1607834233.py, line 2)",
     "output_type": "error",
     "traceback": [
      "\u001b[0;36m  Cell \u001b[0;32mIn [63], line 2\u001b[0;36m\u001b[0m\n\u001b[0;31m    1-MAE: 0.8878489085606166\u001b[0m\n\u001b[0m    ^\u001b[0m\n\u001b[0;31mSyntaxError\u001b[0m\u001b[0;31m:\u001b[0m illegal target for annotation\n"
     ]
    }
   ],
   "source": [
    "# GRU\n",
    "1-MAE: 0.8878489085606166\n",
    "1-MAE Extraversion: 0.8875636862857001\n",
    "1-MAE Neuroticism: 0.8835576740758759\n",
    "1-MAE Agreeableness: 0.8952643179467746\n",
    "1-MAE Conscientiousness: 0.8815985832895551\n",
    "1-MAE Openness: 0.8912602812051773\n",
    "r2_extraversion: -3.960207695436781\n",
    "r2_neuroticism: -6.337265329354374\n",
    "r2_agreeableness: -13.898933810299537\n",
    "r2_conscientiousness: -7.435785418309358\n",
    "r2_openness: -5.044475121471685\n",
    "r2: -7.335333474974346"
   ]
  },
  {
   "cell_type": "code",
   "execution_count": 31,
   "id": "e5ee3f5f",
   "metadata": {},
   "outputs": [
    {
     "ename": "SyntaxError",
     "evalue": "illegal target for annotation (3588810775.py, line 2)",
     "output_type": "error",
     "traceback": [
      "\u001b[0;36m  Cell \u001b[0;32mIn [31], line 2\u001b[0;36m\u001b[0m\n\u001b[0;31m    1-MAE: 0.8846668679799352\u001b[0m\n\u001b[0m    ^\u001b[0m\n\u001b[0;31mSyntaxError\u001b[0m\u001b[0;31m:\u001b[0m illegal target for annotation\n"
     ]
    }
   ],
   "source": [
    "# LSTM\n",
    "1-MAE: 0.8846668679799352\n",
    "1-MAE Extraversion: 0.8829332089849881\n",
    "1-MAE Neuroticism: 0.8804318138531276\n",
    "1-MAE Agreeableness: 0.8935465908476284\n",
    "1-MAE Conscientiousness: 0.8786243328026363\n",
    "1-MAE Openness: 0.8877983934112957\n",
    "r2_extraversion: -14.463878261990958\n",
    "r2_neuroticism: -21.23584167611054\n",
    "r2_agreeableness: -45.186388483300725\n",
    "r2_conscientiousness: -18.97587649304386\n",
    "r2_openness: -13.751183730572063\n",
    "r2: -22.722633729003626"
   ]
  },
  {
   "cell_type": "code",
   "execution_count": null,
   "id": "f4c32c40",
   "metadata": {},
   "outputs": [],
   "source": []
  }
 ],
 "metadata": {
  "kernelspec": {
   "display_name": "base",
   "language": "python",
   "name": "base"
  },
  "language_info": {
   "codemirror_mode": {
    "name": "ipython",
    "version": 3
   },
   "file_extension": ".py",
   "mimetype": "text/x-python",
   "name": "python",
   "nbconvert_exporter": "python",
   "pygments_lexer": "ipython3",
   "version": "3.9.12"
  },
  "vscode": {
   "interpreter": {
    "hash": "91bd7d5b175934679171a1f1e80429250a2d51389ee225c320e74775eefa2d64"
   }
  }
 },
 "nbformat": 4,
 "nbformat_minor": 5
}
