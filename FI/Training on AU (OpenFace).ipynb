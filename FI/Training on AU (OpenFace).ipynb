{
 "cells": [
  {
   "cell_type": "code",
   "execution_count": 2,
   "id": "08538b92",
   "metadata": {},
   "outputs": [
    {
     "name": "stderr",
     "output_type": "stream",
     "text": [
      "/home/luqman/miniconda3/lib/python3.9/site-packages/tqdm/auto.py:22: TqdmWarning: IProgress not found. Please update jupyter and ipywidgets. See https://ipywidgets.readthedocs.io/en/stable/user_install.html\n",
      "  from .autonotebook import tqdm as notebook_tqdm\n"
     ]
    }
   ],
   "source": [
    "import numpy as np\n",
    "import pickle\n",
    "import os\n",
    "import torch\n",
    "from torch.utils.data import TensorDataset, DataLoader\n",
    "import matplotlib.pyplot as plt\n",
    "from scipy.stats import pearsonr"
   ]
  },
  {
   "cell_type": "markdown",
   "id": "0af9c0ac",
   "metadata": {},
   "source": [
    "# Data preparation"
   ]
  },
  {
   "cell_type": "code",
   "execution_count": 3,
   "id": "336183ad",
   "metadata": {},
   "outputs": [],
   "source": [
    "train_path = '/nas/project_data/B1_Behavior/hakim/FI/features/hand_features/fi_train_lld_au_bert.pkl'\n",
    "val_path = '/nas/project_data/B1_Behavior/hakim/FI/features/hand_features/fi_valid_lld_au_bert.pkl'\n",
    "test_path = '/nas/project_data/B1_Behavior/hakim/FI/features/hand_features/fi_test_lld_au_bert.pkl'  \n",
    "        \n",
    "with open(train_path, 'rb') as f:\n",
    "    train_data_pickle = pickle.load(f)\n",
    "    train_ids, train_data, train_label = zip(*train_data_pickle)\n",
    "    _, au_train, _ = zip(*train_data)\n",
    "    \n",
    "with open(val_path, 'rb') as f:\n",
    "    val_data_pickle = pickle.load(f)\n",
    "    val_ids, val_data, val_label = zip(*val_data_pickle)\n",
    "    _, au_val, _ = zip(*val_data)\n",
    "    \n",
    "with open(test_path, 'rb') as f:\n",
    "    test_data_pickle = pickle.load(f)\n",
    "    test_ids, test_data, test_label = zip(*test_data_pickle)\n",
    "    _, au_test, _ = zip(*test_data)\n",
    "\n",
    "with open('/home/luqman/linear_mult/linear_mult/mean_std_fi.pkl', 'rb') as f:\n",
    "    mean_std = pickle.load(f)              "
   ]
  },
  {
   "cell_type": "code",
   "execution_count": 21,
   "id": "9e2c1f4e",
   "metadata": {},
   "outputs": [],
   "source": [
    "train_features = []\n",
    "train_labels = []\n",
    "val_features = []\n",
    "val_labels = []\n",
    "test_features = []\n",
    "test_labels = []\n",
    "\n",
    "for i, id in enumerate(train_ids):\n",
    "    label = train_label[i]\n",
    "    au = (au_train[i] - mean_std[1][0]) / mean_std[1][1]\n",
    "    if au.shape[0] < 450:\n",
    "        au = np.pad(au, ((0,450-au.shape[0]),(0,0)), 'constant', constant_values=0)\n",
    "    else:\n",
    "        au = au[:450,:]\n",
    "    train_features.append(au)\n",
    "    train_labels.append(label)\n",
    "    \n",
    "for i, id in enumerate(val_ids):\n",
    "    label = train_label[i]\n",
    "    au = (au_val[i] - mean_std[1][0]) / mean_std[1][1]\n",
    "    if au.shape[0] < 450:\n",
    "        au = np.pad(au, ((0,450-au.shape[0]),(0,0)), 'constant', constant_values=0)\n",
    "    else:\n",
    "        au = au[:450,:]\n",
    "    val_features.append(au)\n",
    "    val_labels.append(label)\n",
    "    \n",
    "for i, id in enumerate(test_ids):\n",
    "    label = train_label[i]\n",
    "    au = (au_test[i] - mean_std[1][0]) / mean_std[1][1]\n",
    "    if au.shape[0] < 450:\n",
    "        au = np.pad(au, ((0,450-au.shape[0]),(0,0)), 'constant', constant_values=0)\n",
    "    else:\n",
    "        au = au[:450,:]\n",
    "    test_features.append(au)\n",
    "    test_labels.append(label)"
   ]
  },
  {
   "cell_type": "code",
   "execution_count": 22,
   "id": "ab64d34e",
   "metadata": {},
   "outputs": [],
   "source": [
    "train_features = torch.Tensor(np.array(train_features))\n",
    "train_labels = torch.Tensor(np.array(train_labels))\n",
    "val_features = torch.Tensor(np.array(val_features))\n",
    "val_labels = torch.Tensor(np.array(val_labels))\n",
    "test_features = torch.Tensor(np.array(test_features))\n",
    "test_labels = torch.Tensor(np.array(test_labels))\n",
    "\n",
    "BATCH_SIZE = 128\n",
    "train = TensorDataset(train_features, train_labels)\n",
    "val = TensorDataset(val_features, val_labels)\n",
    "test = TensorDataset(test_features, test_labels)\n",
    "train_loader = DataLoader(train, batch_size=BATCH_SIZE, shuffle=True, drop_last=True)\n",
    "val_loader = DataLoader(val, batch_size=BATCH_SIZE, shuffle=True, drop_last=True)\n",
    "test_loader = DataLoader(test, batch_size=BATCH_SIZE, shuffle=True, drop_last=True)"
   ]
  },
  {
   "cell_type": "markdown",
   "id": "5dbb63fd",
   "metadata": {},
   "source": [
    "# Model"
   ]
  },
  {
   "cell_type": "code",
   "execution_count": 23,
   "id": "292f1947",
   "metadata": {},
   "outputs": [],
   "source": [
    "if torch.cuda.is_available():\n",
    "    device = torch.device(\"cuda\")\n",
    "else:\n",
    "    device = torch.device(\"cpu\")"
   ]
  },
  {
   "cell_type": "code",
   "execution_count": 24,
   "id": "e335c49a",
   "metadata": {},
   "outputs": [],
   "source": [
    "class GRU_model(torch.nn.Module):\n",
    "    def __init__(self, input_size=35, hidden_size=256, output_dim=5, dropout=0, num_layers=2, batch_size=64):\n",
    "        super(GRU_model, self).__init__()\n",
    "        self.num_layers = num_layers\n",
    "        self.input_size = input_size\n",
    "        self.hidden_size = hidden_size\n",
    "        self.batch_size = batch_size\n",
    "        self.dropout = dropout\n",
    "        self.gru = torch.nn.GRU(input_size=self.input_size, \n",
    "                                hidden_size=self.hidden_size,\n",
    "                                num_layers=self.num_layers,\n",
    "                                dropout=self.dropout,\n",
    "                                batch_first=True)\n",
    "        self.fc = torch.nn.Linear(hidden_size, output_dim)\n",
    "        self.relu = torch.nn.ReLU()\n",
    "\n",
    "    def forward(self, x, h):\n",
    "        out, h = self.gru(x, h)\n",
    "        out = self.relu(out[:,-1])\n",
    "        out = self.fc(out)\n",
    "        return out, h\n",
    "    \n",
    "    def init_hidden(self, batch_size):\n",
    "        weight = next(self.parameters()).data\n",
    "        hidden = weight.new(self.num_layers, batch_size, self.hidden_size).zero_().to(device)\n",
    "        return hidden"
   ]
  },
  {
   "cell_type": "code",
   "execution_count": 32,
   "id": "7d230e14",
   "metadata": {},
   "outputs": [],
   "source": [
    "LR = 0.001\n",
    "EPOCHS = 50\n",
    "CHECKPOINT_PATH = \"/home/luqman/model/checkpoint_au.ckpt\""
   ]
  },
  {
   "cell_type": "code",
   "execution_count": 27,
   "id": "6af5f73e",
   "metadata": {},
   "outputs": [],
   "source": [
    "model = GRU_model(input_size=35, hidden_size=256, output_dim=5, dropout=0, num_layers=2, batch_size=BATCH_SIZE)\n",
    "model.to(device)\n",
    "optimizer = torch.optim.Adam(model.parameters(), lr=LR)\n",
    "loss_fn = torch.nn.L1Loss()"
   ]
  },
  {
   "cell_type": "code",
   "execution_count": null,
   "id": "e8941b0e",
   "metadata": {},
   "outputs": [],
   "source": [
    "checkpoint = torch.load(CHECKPOINT_PATH)\n",
    "model.load_state_dict(checkpoint['model_state_dict'])\n",
    "optimizer.load_state_dict(checkpoint['optimizer_state_dict'])"
   ]
  },
  {
   "cell_type": "markdown",
   "id": "3436be9a",
   "metadata": {},
   "source": [
    "# Training"
   ]
  },
  {
   "cell_type": "code",
   "execution_count": 33,
   "id": "334eaa6a",
   "metadata": {},
   "outputs": [
    {
     "name": "stdout",
     "output_type": "stream",
     "text": [
      "Epoch 0 - train loss: 0.024003762751817703 - val loss: 0.14471954703330994\n",
      "Epoch 5 - train loss: 0.023011106633297775 - val loss: 0.14534591138362885\n",
      "Epoch 10 - train loss: 0.021984181569322296 - val loss: 0.14512371222178141\n",
      "Epoch 15 - train loss: 0.02185227831258722 - val loss: 0.14392642180124918\n",
      "Epoch 20 - train loss: 0.020164293925399365 - val loss: 0.1443458100159963\n",
      "Epoch 25 - train loss: 0.019972691798339718 - val loss: 0.14427570203940074\n",
      "Epoch 30 - train loss: 0.019340613411496514 - val loss: 0.14481641252835592\n",
      "Epoch 35 - train loss: 0.019272853012966072 - val loss: 0.1432725667953491\n",
      "Epoch 40 - train loss: 0.017828141258138676 - val loss: 0.1444868266582489\n",
      "Epoch 45 - train loss: 0.018343219837254805 - val loss: 0.14411207834879558\n"
     ]
    }
   ],
   "source": [
    "train_losses = []\n",
    "val_losses = []\n",
    "\n",
    "for epoch in range(0, EPOCHS):\n",
    "    model.train()\n",
    "    batch_losses = []\n",
    "    h = model.init_hidden(BATCH_SIZE)\n",
    "    \n",
    "    for inputs, targets in train_loader:\n",
    "        h = h.data\n",
    "        preds, h = model(inputs.to(device), h)\n",
    "        loss = loss_fn(preds, targets.to(device))\n",
    "        \n",
    "        optimizer.zero_grad()\n",
    "        loss.backward()\n",
    "        optimizer.step()\n",
    "        \n",
    "        batch_losses.append(loss.item())\n",
    "        \n",
    "    train_loss = np.mean(batch_losses)\n",
    "    train_losses.append(train_loss)\n",
    "    \n",
    "    model.eval()\n",
    "    with torch.no_grad():\n",
    "        batch_val_losses = []\n",
    "        h = model.init_hidden(BATCH_SIZE)\n",
    "        \n",
    "        for inputs, targets in val_loader:\n",
    "            model.eval()\n",
    "            h = h.data\n",
    "            preds, h = model(inputs.to(device), h)\n",
    "            loss = loss_fn(preds, targets.to(device))\n",
    "            batch_val_losses.append(loss.item())\n",
    "        val_loss = np.mean(batch_val_losses)\n",
    "        val_losses.append(val_loss)\n",
    "    \n",
    "    if epoch % 5 == 0:    \n",
    "        print(f'Epoch {epoch} - train loss: {train_loss} - val loss: {val_loss}')"
   ]
  },
  {
   "cell_type": "code",
   "execution_count": 34,
   "id": "e26dcc80",
   "metadata": {},
   "outputs": [],
   "source": [
    "torch.save({\n",
    "            'epoch': EPOCHS,\n",
    "            'model_state_dict': model.state_dict(),\n",
    "            'optimizer_state_dict': optimizer.state_dict(),\n",
    "            'train_loss': train_losses[-1],\n",
    "            'val_loss': val_losses[-1]\n",
    "            }, CHECKPOINT_PATH)"
   ]
  },
  {
   "cell_type": "markdown",
   "id": "077fce27",
   "metadata": {},
   "source": [
    "# Plot"
   ]
  },
  {
   "cell_type": "code",
   "execution_count": 35,
   "id": "5d40309a",
   "metadata": {},
   "outputs": [
    {
     "data": {
      "text/plain": [
       "<matplotlib.legend.Legend at 0x7fddad471c40>"
      ]
     },
     "execution_count": 35,
     "metadata": {},
     "output_type": "execute_result"
    },
    {
     "data": {
      "image/png": "[encoded data removed]",
      "text/plain": [
       "<Figure size 640x480 with 1 Axes>"
      ]
     },
     "metadata": {},
     "output_type": "display_data"
    }
   ],
   "source": [
    "fig, ax = plt.subplots()\n",
    "ax.plot(train_losses, label='Train loss')\n",
    "ax.plot(val_losses, label='Val. loss')\n",
    "ax.set_xlabel('Epoch')\n",
    "ax.set_ylabel('MAE')\n",
    "plt.title(\"Training result\")\n",
    "plt.legend()"
   ]
  },
  {
   "cell_type": "markdown",
   "id": "9bc68b22",
   "metadata": {},
   "source": [
    "# Testing"
   ]
  },
  {
   "cell_type": "code",
   "execution_count": 36,
   "id": "07dc934e",
   "metadata": {},
   "outputs": [
    {
     "name": "stdout",
     "output_type": "stream",
     "text": [
      "1-MAE: 0.8550812472899756\n",
      "1-MAE Extraversion: 0.8593817055225372\n",
      "1-MAE Neuroticism: 0.8593817055225372\n",
      "1-MAE Agreeableness: 0.8593817055225372\n",
      "1-MAE Conscientiousness: 0.8593817055225372\n",
      "1-MAE Openness: 0.8593817055225372\n",
      "r_extraversion: 0.021465201839690102\n",
      "r_neuroticism: 0.0281750645018133\n",
      "r_agreeableness: -0.014989927758485396\n",
      "r_conscientiousness: -0.015699596227086155\n",
      "r_openness: -0.004973076593139511\n",
      "r: 0.002795533152558466\n"
     ]
    }
   ],
   "source": [
    "model.eval()\n",
    "with torch.no_grad():\n",
    "    batch_loss_ext = []\n",
    "    batch_loss_neu = []\n",
    "    batch_loss_agr = []\n",
    "    batch_loss_con = []\n",
    "    batch_loss_ope = []\n",
    "\n",
    "    batch_r_ext = []\n",
    "    batch_r_neu = []\n",
    "    batch_r_agr = []\n",
    "    batch_r_con = []\n",
    "    batch_r_ope = []\n",
    "\n",
    "    h = model.init_hidden(BATCH_SIZE)\n",
    "\n",
    "    for inputs, targets in test_loader:\n",
    "        model.eval()\n",
    "        h = h.data\n",
    "        preds, h = model(inputs.to(device), h)\n",
    "        \n",
    "        loss_ext = loss_fn(preds[:,0], targets[:,0].to(device))\n",
    "        loss_neu = loss_fn(preds[:,1], targets[:,1].to(device))\n",
    "        loss_agr = loss_fn(preds[:,2], targets[:,2].to(device))\n",
    "        loss_con = loss_fn(preds[:,3], targets[:,3].to(device))\n",
    "        loss_ope = loss_fn(preds[:,4], targets[:,4].to(device))\n",
    "        batch_loss_ext.append(loss_ext.item())\n",
    "        batch_loss_neu.append(loss_neu.item())\n",
    "        batch_loss_agr.append(loss_agr.item())\n",
    "        batch_loss_con.append(loss_con.item())\n",
    "        batch_loss_ope.append(loss_ope.item())\n",
    "        \n",
    "        r_ext = pearsonr(preds.cpu()[:,0], targets[:,0])\n",
    "        r_neu = pearsonr(preds.cpu()[:,1], targets[:,1])\n",
    "        r_agr = pearsonr(preds.cpu()[:,2], targets[:,2])\n",
    "        r_con = pearsonr(preds.cpu()[:,3], targets[:,3])\n",
    "        r_ope = pearsonr(preds.cpu()[:,4], targets[:,4])\n",
    "        batch_r_ext.append(r_ext)\n",
    "        batch_r_neu.append(r_neu)\n",
    "        batch_r_agr.append(r_agr)\n",
    "        batch_r_con.append(r_con)\n",
    "        batch_r_ope.append(r_ope)\n",
    "        \n",
    "    loss_ext = 1 - np.mean(batch_loss_ext)\n",
    "    loss_neu = 1 - np.mean(batch_loss_neu)\n",
    "    loss_agr = 1 - np.mean(batch_loss_agr)\n",
    "    loss_con = 1 - np.mean(batch_loss_con)\n",
    "    loss_ope = 1 - np.mean(batch_loss_ope)\n",
    "    loss = (loss_ext + loss_neu + loss_agr + loss_con + loss_ope) / 5\n",
    "    \n",
    "    r_ext = np.array(batch_r_ext)[:,0].mean()\n",
    "    r_neu = np.array(batch_r_neu)[:,0].mean()\n",
    "    r_agr = np.array(batch_r_agr)[:,0].mean()\n",
    "    r_con = np.array(batch_r_con)[:,0].mean()\n",
    "    r_ope = np.array(batch_r_ope)[:,0].mean()\n",
    "    r = (r_ext + r_neu + r_agr + r_con + r_ope) / 5\n",
    "    \n",
    "    print(f'1-MAE: {loss}')\n",
    "    print(f'1-MAE Extraversion: {loss_ext}')\n",
    "    print(f'1-MAE Neuroticism: {loss_ext}')\n",
    "    print(f'1-MAE Agreeableness: {loss_ext}')\n",
    "    print(f'1-MAE Conscientiousness: {loss_ext}')\n",
    "    print(f'1-MAE Openness: {loss_ext}')\n",
    "    print(f'r_extraversion: {r_ext}')\n",
    "    print(f'r_neuroticism: {r_neu}')\n",
    "    print(f'r_agreeableness: {r_agr}')\n",
    "    print(f'r_conscientiousness: {r_con}')\n",
    "    print(f'r_openness: {r_ope}')\n",
    "    print(f'r: {r}')"
   ]
  },
  {
   "cell_type": "code",
   "execution_count": null,
   "id": "f5681366",
   "metadata": {},
   "outputs": [],
   "source": []
  }
 ],
 "metadata": {
  "kernelspec": {
   "display_name": "base",
   "language": "python",
   "name": "base"
  },
  "language_info": {
   "codemirror_mode": {
    "name": "ipython",
    "version": 3
   },
   "file_extension": ".py",
   "mimetype": "text/x-python",
   "name": "python",
   "nbconvert_exporter": "python",
   "pygments_lexer": "ipython3",
   "version": "3.9.12"
  }
 },
 "nbformat": 4,
 "nbformat_minor": 5
}
