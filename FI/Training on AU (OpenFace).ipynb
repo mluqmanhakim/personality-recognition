{
 "cells": [
  {
   "cell_type": "code",
   "execution_count": 1,
   "id": "08538b92",
   "metadata": {},
   "outputs": [
    {
     "name": "stderr",
     "output_type": "stream",
     "text": [
      "/home/luqman/miniconda3/lib/python3.9/site-packages/tqdm/auto.py:22: TqdmWarning: IProgress not found. Please update jupyter and ipywidgets. See https://ipywidgets.readthedocs.io/en/stable/user_install.html\n",
      "  from .autonotebook import tqdm as notebook_tqdm\n"
     ]
    }
   ],
   "source": [
    "import numpy as np\n",
    "import pickle\n",
    "import os\n",
    "import torch\n",
    "from torch.utils.data import TensorDataset, DataLoader\n",
    "import matplotlib.pyplot as plt\n",
    "from sklearn.metrics import r2_score"
   ]
  },
  {
   "cell_type": "markdown",
   "id": "0af9c0ac",
   "metadata": {},
   "source": [
    "# Data preparation"
   ]
  },
  {
   "cell_type": "code",
   "execution_count": 3,
   "id": "336183ad",
   "metadata": {},
   "outputs": [],
   "source": [
    "train_path = '/nas/project_data/B1_Behavior/hakim/FI/features/hand_features/fi_train_lld_au_bert.pkl'\n",
    "val_path = '/nas/project_data/B1_Behavior/hakim/FI/features/hand_features/fi_valid_lld_au_bert.pkl'\n",
    "test_path = '/nas/project_data/B1_Behavior/hakim/FI/features/hand_features/fi_test_lld_au_bert.pkl'  \n",
    "        \n",
    "with open(train_path, 'rb') as f:\n",
    "    train_data_pickle = pickle.load(f)\n",
    "    train_ids, train_data, train_label = zip(*train_data_pickle)\n",
    "    _, au_train, _ = zip(*train_data)\n",
    "    \n",
    "with open(val_path, 'rb') as f:\n",
    "    val_data_pickle = pickle.load(f)\n",
    "    val_ids, val_data, val_label = zip(*val_data_pickle)\n",
    "    _, au_val, _ = zip(*val_data)\n",
    "    \n",
    "with open(test_path, 'rb') as f:\n",
    "    test_data_pickle = pickle.load(f)\n",
    "    test_ids, test_data, test_label = zip(*test_data_pickle)\n",
    "    _, au_test, _ = zip(*test_data)\n",
    "\n",
    "with open('/home/luqman/linear_mult/linear_mult/mean_std_fi.pkl', 'rb') as f:\n",
    "    mean_std = pickle.load(f)              "
   ]
  },
  {
   "cell_type": "code",
   "execution_count": 4,
   "id": "9e2c1f4e",
   "metadata": {},
   "outputs": [],
   "source": [
    "train_features = []\n",
    "train_labels = []\n",
    "val_features = []\n",
    "val_labels = []\n",
    "test_features = []\n",
    "test_labels = []\n",
    "\n",
    "for i, id in enumerate(train_ids):\n",
    "    label = train_label[i]\n",
    "    au = (au_train[i] - mean_std[1][0]) / mean_std[1][1]\n",
    "#     padding to 450x35\n",
    "    if au.shape[0] < 450:\n",
    "        au = np.pad(au, ((0,450-au.shape[0]),(0,0)), 'constant', constant_values=0)\n",
    "    else:\n",
    "        au = au[:450,:]\n",
    "#         include only several AU\n",
    "    au = np.concatenate((au[:,17:20], au[:,21:23], au[:,24:29], au[:,30:31]), axis=1)\n",
    "    train_features.append(au)\n",
    "    train_labels.append(label)\n",
    "    \n",
    "for i, id in enumerate(val_ids):\n",
    "    label = train_label[i]\n",
    "    au = (au_val[i] - mean_std[1][0]) / mean_std[1][1]\n",
    "    if au.shape[0] < 450:\n",
    "        au = np.pad(au, ((0,450-au.shape[0]),(0,0)), 'constant', constant_values=0)\n",
    "    else:\n",
    "        au = au[:450,:]\n",
    "    #         include only several AU\n",
    "    au = np.concatenate((au[:,17:20], au[:,21:23], au[:,24:29], au[:,30:31]), axis=1)\n",
    "    val_features.append(au)\n",
    "    val_labels.append(label)\n",
    "    \n",
    "for i, id in enumerate(test_ids):\n",
    "    label = train_label[i]\n",
    "    au = (au_test[i] - mean_std[1][0]) / mean_std[1][1]\n",
    "    if au.shape[0] < 450:\n",
    "        au = np.pad(au, ((0,450-au.shape[0]),(0,0)), 'constant', constant_values=0)\n",
    "    else:\n",
    "        au = au[:450,:]\n",
    "    #         include only several AU\n",
    "    au = np.concatenate((au[:,17:20], au[:,21:23], au[:,24:29], au[:,30:31]), axis=1)\n",
    "    test_features.append(au)\n",
    "    test_labels.append(label)"
   ]
  },
  {
   "cell_type": "code",
   "execution_count": 5,
   "id": "ab64d34e",
   "metadata": {},
   "outputs": [],
   "source": [
    "train_features = torch.Tensor(np.array(train_features))\n",
    "train_labels = torch.Tensor(np.array(train_labels))\n",
    "val_features = torch.Tensor(np.array(val_features))\n",
    "val_labels = torch.Tensor(np.array(val_labels))\n",
    "test_features = torch.Tensor(np.array(test_features))\n",
    "test_labels = torch.Tensor(np.array(test_labels))\n",
    "\n",
    "BATCH_SIZE = 256\n",
    "train = TensorDataset(train_features, train_labels)\n",
    "val = TensorDataset(val_features, val_labels)\n",
    "test = TensorDataset(test_features, test_labels)\n",
    "train_loader = DataLoader(train, batch_size=BATCH_SIZE, shuffle=True, drop_last=True)\n",
    "val_loader = DataLoader(val, batch_size=BATCH_SIZE, shuffle=True, drop_last=True)\n",
    "test_loader = DataLoader(test, batch_size=BATCH_SIZE, shuffle=True, drop_last=True)"
   ]
  },
  {
   "cell_type": "markdown",
   "id": "5dbb63fd",
   "metadata": {},
   "source": [
    "# Model"
   ]
  },
  {
   "cell_type": "code",
   "execution_count": 13,
   "id": "292f1947",
   "metadata": {},
   "outputs": [],
   "source": [
    "if torch.cuda.is_available():\n",
    "    device = torch.device(\"cuda\")\n",
    "else:\n",
    "    device = torch.device(\"cpu\")"
   ]
  },
  {
   "cell_type": "markdown",
   "id": "083b2925",
   "metadata": {},
   "source": [
    "# GRU"
   ]
  },
  {
   "cell_type": "code",
   "execution_count": 14,
   "id": "e335c49a",
   "metadata": {},
   "outputs": [],
   "source": [
    "class GRU_model(torch.nn.Module):\n",
    "    def __init__(self, input_size, hidden_size, bidirectional, output_dim, dropout, num_layers, batch_size):\n",
    "        super(GRU_model, self).__init__()\n",
    "        self.num_layers = num_layers\n",
    "        self.input_size = input_size\n",
    "        self.hidden_size = hidden_size\n",
    "        self.batch_size = batch_size\n",
    "        self.dropout = dropout\n",
    "        self.gru = torch.nn.GRU(input_size=self.input_size, \n",
    "                                hidden_size=self.hidden_size,\n",
    "                                num_layers=self.num_layers,\n",
    "                                dropout=self.dropout,\n",
    "                                bidirectional=bidirectional,\n",
    "                                batch_first=True)\n",
    "        self.fc = torch.nn.Linear(hidden_size if not bidirectional else hidden_size * 2, output_dim)\n",
    "        self.relu = torch.nn.ReLU()\n",
    "        self.sigmoid = torch.nn.Sigmoid()\n",
    "\n",
    "    def forward(self, x):\n",
    "        out, h = self.gru(x)\n",
    "        out = self.relu(out[:,-1,:])\n",
    "        out = self.fc(out)\n",
    "        out = self.sigmoid(out)\n",
    "        return out"
   ]
  },
  {
   "cell_type": "code",
   "execution_count": 15,
   "id": "7d230e14",
   "metadata": {},
   "outputs": [],
   "source": [
    "LR = 0.0001\n",
    "CHECKPOINT_PATH = \"/home/luqman/model/checkpoint_gru_au.ckpt\""
   ]
  },
  {
   "cell_type": "code",
   "execution_count": 16,
   "id": "6af5f73e",
   "metadata": {},
   "outputs": [],
   "source": [
    "model = GRU_model(input_size=11, \n",
    "                  hidden_size=256, \n",
    "                  bidirectional=True, \n",
    "                  output_dim=5, \n",
    "                  dropout=0.2, \n",
    "                  num_layers=2, \n",
    "                  batch_size=BATCH_SIZE)\n",
    "model.to(device)\n",
    "optimizer = torch.optim.AdamW(model.parameters(), lr=LR, weight_decay=0.001)\n",
    "scheduler = torch.optim.lr_scheduler.ReduceLROnPlateau(optimizer, 'min')\n",
    "loss_fn = torch.nn.MSELoss()\n",
    "mae = torch.nn.L1Loss()"
   ]
  },
  {
   "cell_type": "code",
   "execution_count": 63,
   "id": "e8941b0e",
   "metadata": {},
   "outputs": [],
   "source": [
    "# checkpoint = torch.load(CHECKPOINT_PATH)\n",
    "# model.load_state_dict(checkpoint['model_state_dict'])\n",
    "# optimizer.load_state_dict(checkpoint['optimizer_state_dict'])"
   ]
  },
  {
   "cell_type": "markdown",
   "id": "d5f169f8",
   "metadata": {},
   "source": [
    "# LSTM"
   ]
  },
  {
   "cell_type": "code",
   "execution_count": 7,
   "id": "893464e4",
   "metadata": {},
   "outputs": [],
   "source": [
    "class LSTM_model(torch.nn.Module):\n",
    "    def __init__(self, input_size, hidden_size, output_dim, dropout, num_layers, bidirectional, batch_size):\n",
    "        super(LSTM_model, self).__init__()\n",
    "        self.num_layers = num_layers\n",
    "        self.input_size = input_size\n",
    "        self.hidden_size = hidden_size\n",
    "        self.batch_size = batch_size\n",
    "        self.dropout = dropout\n",
    "        self.lstm = torch.nn.LSTM(input_size=self.input_size, \n",
    "                                hidden_size=self.hidden_size,\n",
    "                                num_layers=self.num_layers,\n",
    "                                dropout=self.dropout,\n",
    "                                bidirectional=False,\n",
    "                                batch_first=True)\n",
    "        self.fc = torch.nn.Linear(hidden_size*2 if bidirectional else hidden_size, output_dim)\n",
    "        self.relu = torch.nn.ReLU()\n",
    "        self.sigmoid = torch.nn.Sigmoid()\n",
    "\n",
    "    def forward(self, x):\n",
    "        out, (hn, cn) = self.lstm(x)\n",
    "        # out[:, -1, :] --> 100, 100 --> just want last time step hidden states!\n",
    "        out = self.relu(out[:, -1, :])\n",
    "        out = self.fc(out)\n",
    "        out = self.sigmoid(out)\n",
    "        return out"
   ]
  },
  {
   "cell_type": "code",
   "execution_count": 8,
   "id": "ce3d8f91",
   "metadata": {},
   "outputs": [],
   "source": [
    "LR = 0.001\n",
    "CHECKPOINT_PATH = \"/home/luqman/model/checkpoint_lstm_au.ckpt\""
   ]
  },
  {
   "cell_type": "code",
   "execution_count": 9,
   "id": "79d5cada",
   "metadata": {},
   "outputs": [
    {
     "ename": "NameError",
     "evalue": "name 'device' is not defined",
     "output_type": "error",
     "traceback": [
      "\u001b[0;31m---------------------------------------------------------------------------\u001b[0m",
      "\u001b[0;31mNameError\u001b[0m                                 Traceback (most recent call last)",
      "Cell \u001b[0;32mIn [9], line 8\u001b[0m\n\u001b[1;32m      1\u001b[0m model \u001b[38;5;241m=\u001b[39m LSTM_model(input_size\u001b[38;5;241m=\u001b[39m\u001b[38;5;241m11\u001b[39m, \n\u001b[1;32m      2\u001b[0m                    hidden_size\u001b[38;5;241m=\u001b[39m\u001b[38;5;241m256\u001b[39m, \n\u001b[1;32m      3\u001b[0m                    output_dim\u001b[38;5;241m=\u001b[39m\u001b[38;5;241m5\u001b[39m, \n\u001b[0;32m   (...)\u001b[0m\n\u001b[1;32m      6\u001b[0m                    bidirectional\u001b[38;5;241m=\u001b[39m\u001b[38;5;28;01mFalse\u001b[39;00m,\n\u001b[1;32m      7\u001b[0m                    batch_size\u001b[38;5;241m=\u001b[39mBATCH_SIZE)\n\u001b[0;32m----> 8\u001b[0m model\u001b[38;5;241m.\u001b[39mto(\u001b[43mdevice\u001b[49m)\n\u001b[1;32m      9\u001b[0m optimizer \u001b[38;5;241m=\u001b[39m torch\u001b[38;5;241m.\u001b[39moptim\u001b[38;5;241m.\u001b[39mAdamW(model\u001b[38;5;241m.\u001b[39mparameters(), lr\u001b[38;5;241m=\u001b[39mLR, weight_decay\u001b[38;5;241m=\u001b[39m\u001b[38;5;241m0.01\u001b[39m)\n\u001b[1;32m     10\u001b[0m scheduler \u001b[38;5;241m=\u001b[39m torch\u001b[38;5;241m.\u001b[39moptim\u001b[38;5;241m.\u001b[39mlr_scheduler\u001b[38;5;241m.\u001b[39mReduceLROnPlateau(optimizer, \u001b[38;5;124m'\u001b[39m\u001b[38;5;124mmin\u001b[39m\u001b[38;5;124m'\u001b[39m)\n",
      "\u001b[0;31mNameError\u001b[0m: name 'device' is not defined"
     ]
    }
   ],
   "source": [
    "model = LSTM_model(input_size=11, \n",
    "                   hidden_size=256, \n",
    "                   output_dim=5, \n",
    "                   dropout=0.1, \n",
    "                   num_layers=2,\n",
    "                   bidirectional=False,\n",
    "                   batch_size=BATCH_SIZE)\n",
    "model.to(device)\n",
    "optimizer = torch.optim.AdamW(model.parameters(), lr=LR, weight_decay=0.01)\n",
    "scheduler = torch.optim.lr_scheduler.ReduceLROnPlateau(optimizer, 'min')\n",
    "loss_fn = torch.nn.MSELoss()\n",
    "mae = torch.nn.L1Loss()"
   ]
  },
  {
   "cell_type": "code",
   "execution_count": 53,
   "id": "fdfa0a17",
   "metadata": {},
   "outputs": [],
   "source": [
    "# checkpoint = torch.load(CHECKPOINT_PATH)\n",
    "# model.load_state_dict(checkpoint['model_state_dict'])\n",
    "# optimizer.load_state_dict(checkpoint['optimizer_state_dict'])"
   ]
  },
  {
   "cell_type": "markdown",
   "id": "3436be9a",
   "metadata": {},
   "source": [
    "# Training"
   ]
  },
  {
   "cell_type": "code",
   "execution_count": 105,
   "id": "334eaa6a",
   "metadata": {},
   "outputs": [],
   "source": [
    "def train(model, train_loader, val_loader, epochs, patience=5):\n",
    "    train_losses = []\n",
    "    val_losses = []\n",
    "    val_maes = []\n",
    "\n",
    "    the_last_loss = 1e6\n",
    "    trigger_times = 0\n",
    "\n",
    "    for epoch in range(0, epochs):\n",
    "        model.train()\n",
    "        batch_losses = []\n",
    "\n",
    "        for inputs, targets in train_loader:\n",
    "            preds = model(inputs.to(device))\n",
    "            loss = loss_fn(preds, targets.to(device))\n",
    "            optimizer.zero_grad()\n",
    "            loss.backward()\n",
    "            torch.nn.utils.clip_grad_norm_(model.parameters(), max_norm=2.0, norm_type=2)\n",
    "            optimizer.step()\n",
    "            batch_losses.append(loss.item())\n",
    "\n",
    "        train_loss = np.mean(batch_losses)\n",
    "        train_losses.append(train_loss)\n",
    "\n",
    "        model.eval()\n",
    "        with torch.no_grad():\n",
    "            batch_val_losses = []\n",
    "            batch_val_mae = []\n",
    "\n",
    "            for inputs, targets in val_loader:\n",
    "                model.eval()\n",
    "                preds = model(inputs.to(device))\n",
    "                loss = loss_fn(preds, targets.to(device))\n",
    "                batch_val_losses.append(loss.item())\n",
    "                val_mae = mae(preds, targets.to(device))\n",
    "                batch_val_mae.append(val_mae.item())\n",
    "            val_loss = np.mean(batch_val_losses)\n",
    "            val_mae = np.mean(batch_val_mae)\n",
    "            scheduler.step(val_loss)\n",
    "            val_losses.append(val_loss)\n",
    "            val_maes.append(val_mae)\n",
    "\n",
    "        if epoch % 5 == 0:    \n",
    "            print(f'Epoch {epoch} - train loss: {train_loss} - val loss: {val_loss} - val 1-mae: {1-val_mae}')\n",
    "        \n",
    "        # early stopping\n",
    "        if val_loss > the_last_loss:\n",
    "            trigger_times += 1\n",
    "            print('Trigger Times:', trigger_times)\n",
    "            if trigger_times >= patience:\n",
    "                print('Early Stopping!')\n",
    "                break\n",
    "        else:\n",
    "            print('Trigger Times: 0')\n",
    "            trigger_times = 0\n",
    "        the_last_loss = val_loss\n",
    "            \n",
    "    return train_losses, val_losses, val_maes"
   ]
  },
  {
   "cell_type": "code",
   "execution_count": 110,
   "id": "c69f5496",
   "metadata": {},
   "outputs": [
    {
     "name": "stdout",
     "output_type": "stream",
     "text": [
      "Epoch 0 - train loss: 0.02106867965472781 - val loss: 0.024067199655941555 - val 1-mae: 0.875912861100265\n",
      "Trigger Times: 0\n",
      "Trigger Times: 0\n",
      "Trigger Times: 1\n",
      "Trigger Times: 0\n",
      "Trigger Times: 0\n",
      "Epoch 5 - train loss: 0.021009408099495846 - val loss: 0.024275590532592366 - val 1-mae: 0.8751101312892777\n",
      "Trigger Times: 1\n",
      "Trigger Times: 0\n",
      "Trigger Times: 1\n",
      "Trigger Times: 0\n",
      "Trigger Times: 1\n",
      "Epoch 10 - train loss: 0.02102856216547282 - val loss: 0.023847599380782673 - val 1-mae: 0.8763804616672652\n",
      "Trigger Times: 0\n",
      "Trigger Times: 0\n",
      "Trigger Times: 1\n",
      "Trigger Times: 0\n",
      "Trigger Times: 0\n",
      "Epoch 15 - train loss: 0.020995514548343162 - val loss: 0.024067454838327 - val 1-mae: 0.8759778940251896\n",
      "Trigger Times: 1\n",
      "Trigger Times: 2\n",
      "Trigger Times: 3\n",
      "Trigger Times: 0\n",
      "Trigger Times: 1\n"
     ]
    }
   ],
   "source": [
    "train_losses, val_losses, val_maes = train(model, train_loader, val_loader, epochs=20, patience=4)"
   ]
  },
  {
   "cell_type": "markdown",
   "id": "077fce27",
   "metadata": {},
   "source": [
    "# Plot"
   ]
  },
  {
   "cell_type": "code",
   "execution_count": 76,
   "id": "5d40309a",
   "metadata": {},
   "outputs": [
    {
     "data": {
      "text/plain": [
       "<matplotlib.legend.Legend at 0x7f80fe375ac0>"
      ]
     },
     "execution_count": 76,
     "metadata": {},
     "output_type": "execute_result"
    },
    {
     "data": {
      "image/png": "[encoded data removed]",
      "text/plain": [
       "<Figure size 640x480 with 1 Axes>"
      ]
     },
     "metadata": {},
     "output_type": "display_data"
    }
   ],
   "source": [
    "fig, ax = plt.subplots()\n",
    "ax.plot(train_losses, label='Train loss')\n",
    "ax.plot(val_losses, label='Val. loss')\n",
    "ax.set_xlabel('Epoch')\n",
    "ax.set_ylabel('Loss')\n",
    "plt.title(\"Training result\")\n",
    "plt.legend()"
   ]
  },
  {
   "cell_type": "markdown",
   "id": "1281425b",
   "metadata": {},
   "source": [
    "# Save model"
   ]
  },
  {
   "cell_type": "code",
   "execution_count": 18,
   "id": "e26dcc80",
   "metadata": {},
   "outputs": [],
   "source": [
    "torch.save({\n",
    "    'model_state_dict': model.state_dict(),\n",
    "    'optimizer_state_dict': optimizer.state_dict(),\n",
    "}, CHECKPOINT_PATH)"
   ]
  },
  {
   "cell_type": "markdown",
   "id": "9bc68b22",
   "metadata": {},
   "source": [
    "# Testing"
   ]
  },
  {
   "cell_type": "code",
   "execution_count": 111,
   "id": "07dc934e",
   "metadata": {},
   "outputs": [
    {
     "name": "stdout",
     "output_type": "stream",
     "text": [
      "1-MAE: 0.8761088539447103\n",
      "1-MAE Extraversion: 0.8802891267197472\n",
      "1-MAE Neuroticism: 0.8691829762288502\n",
      "1-MAE Agreeableness: 0.8718050739594868\n",
      "1-MAE Conscientiousness: 0.887361860701016\n",
      "1-MAE Openness: 0.8719052321144513\n",
      "r2_extraversion: -22.279857163574167\n",
      "r2_neuroticism: -23.52080221602617\n",
      "r2_agreeableness: -13.18765170823146\n",
      "r2_conscientiousness: -38.74664432132872\n",
      "r2_openness: -22.208853656557146\n",
      "r2: -23.988761813143533\n"
     ]
    }
   ],
   "source": [
    "mae = torch.nn.L1Loss()\n",
    "model.eval()\n",
    "with torch.no_grad():\n",
    "    batch_loss_ext = []\n",
    "    batch_loss_neu = []\n",
    "    batch_loss_agr = []\n",
    "    batch_loss_con = []\n",
    "    batch_loss_ope = []\n",
    "\n",
    "    batch_r2_ext = []\n",
    "    batch_r2_neu = []\n",
    "    batch_r2_agr = []\n",
    "    batch_r2_con = []\n",
    "    batch_r2_ope = []\n",
    "\n",
    "    for inputs, targets in test_loader:\n",
    "        model.eval()\n",
    "        preds = model(inputs.to(device))\n",
    "        \n",
    "        loss_ext = mae(preds[:,0], targets[:,0].to(device))\n",
    "        loss_neu = mae(preds[:,1], targets[:,1].to(device))\n",
    "        loss_agr = mae(preds[:,2], targets[:,2].to(device))\n",
    "        loss_con = mae(preds[:,3], targets[:,3].to(device))\n",
    "        loss_ope = mae(preds[:,4], targets[:,4].to(device))\n",
    "        batch_loss_ext.append(loss_ext.item())\n",
    "        batch_loss_neu.append(loss_neu.item())\n",
    "        batch_loss_agr.append(loss_agr.item())\n",
    "        batch_loss_con.append(loss_con.item())\n",
    "        batch_loss_ope.append(loss_ope.item())\n",
    "        \n",
    "        r2_ext = r2_score(preds.cpu()[:,0], targets[:,0])\n",
    "        r2_neu = r2_score(preds.cpu()[:,1], targets[:,1])\n",
    "        r2_agr = r2_score(preds.cpu()[:,2], targets[:,2])\n",
    "        r2_con = r2_score(preds.cpu()[:,3], targets[:,3])\n",
    "        r2_ope = r2_score(preds.cpu()[:,4], targets[:,4])\n",
    "        batch_r2_ext.append(r2_ext)\n",
    "        batch_r2_neu.append(r2_neu)\n",
    "        batch_r2_agr.append(r2_agr)\n",
    "        batch_r2_con.append(r2_con)\n",
    "        batch_r2_ope.append(r2_ope)\n",
    "        \n",
    "    loss_ext = 1 - np.mean(batch_loss_ext)\n",
    "    loss_neu = 1 - np.mean(batch_loss_neu)\n",
    "    loss_agr = 1 - np.mean(batch_loss_agr)\n",
    "    loss_con = 1 - np.mean(batch_loss_con)\n",
    "    loss_ope = 1 - np.mean(batch_loss_ope)\n",
    "    loss = (loss_ext + loss_neu + loss_agr + loss_con + loss_ope) / 5\n",
    "    \n",
    "    r2_ext = np.array(batch_r2_ext).mean()\n",
    "    r2_neu = np.array(batch_r2_neu).mean()\n",
    "    r2_agr = np.array(batch_r2_agr).mean()\n",
    "    r2_con = np.array(batch_r2_con).mean()\n",
    "    r2_ope = np.array(batch_r2_ope).mean()\n",
    "    r2 = (r2_ext + r2_neu + r2_agr + r2_con + r2_ope) / 5\n",
    "    \n",
    "    print(f'1-MAE: {loss}')\n",
    "    print(f'1-MAE Extraversion: {loss_ext}')\n",
    "    print(f'1-MAE Neuroticism: {loss_neu}')\n",
    "    print(f'1-MAE Agreeableness: {loss_agr}')\n",
    "    print(f'1-MAE Conscientiousness: {loss_con}')\n",
    "    print(f'1-MAE Openness: {loss_ope}')\n",
    "    print(f'r2_extraversion: {r2_ext}')\n",
    "    print(f'r2_neuroticism: {r2_neu}')\n",
    "    print(f'r2_agreeableness: {r2_agr}')\n",
    "    print(f'r2_conscientiousness: {r2_con}')\n",
    "    print(f'r2_openness: {r2_ope}')\n",
    "    print(f'r2: {r2}')"
   ]
  },
  {
   "cell_type": "code",
   "execution_count": 17,
   "id": "f5681366",
   "metadata": {},
   "outputs": [
    {
     "name": "stdout",
     "output_type": "stream",
     "text": [
      "baseline prior 1-mae: 0.8791207298636436\n"
     ]
    }
   ],
   "source": [
    "prior = test_labels.mean(axis=0)\n",
    "test_prior = torch.from_numpy(np.repeat(np.expand_dims(prior, axis=0), 2000, axis=0))\n",
    "value = mae(test_prior, test_labels)\n",
    "print('baseline prior 1-mae:', 1-value.item())"
   ]
  },
  {
   "cell_type": "code",
   "execution_count": null,
   "id": "08b8f539",
   "metadata": {},
   "outputs": [],
   "source": []
  }
 ],
 "metadata": {
  "kernelspec": {
   "display_name": "base",
   "language": "python",
   "name": "base"
  },
  "language_info": {
   "codemirror_mode": {
    "name": "ipython",
    "version": 3
   },
   "file_extension": ".py",
   "mimetype": "text/x-python",
   "name": "python",
   "nbconvert_exporter": "python",
   "pygments_lexer": "ipython3",
   "version": "3.9.12"
  }
 },
 "nbformat": 4,
 "nbformat_minor": 5
}
