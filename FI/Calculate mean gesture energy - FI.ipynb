{
 "cells": [
  {
   "cell_type": "code",
   "execution_count": 1,
   "id": "188ca035",
   "metadata": {},
   "outputs": [],
   "source": [
    "import os\n",
    "import pickle\n",
    "import numpy as np"
   ]
  },
  {
   "cell_type": "code",
   "execution_count": 3,
   "id": "99f26f45",
   "metadata": {},
   "outputs": [],
   "source": [
    "train_annotation_path = '/nas/database/Big5/gt/annotation_training.pkl'\n",
    "valid_annotation_path = '/nas/database/Big5/gt/annotation_validation.pkl'\n",
    "test_annotation_path = '/nas/database/Big5/gt/annotation_test.pkl'"
   ]
  },
  {
   "cell_type": "code",
   "execution_count": 5,
   "id": "13d378e8",
   "metadata": {},
   "outputs": [],
   "source": [
    "train_energy_dir = '/home/luqman/FI_GESTURE_ENERGY/train'"
   ]
  },
  {
   "cell_type": "code",
   "execution_count": 7,
   "id": "5079c045",
   "metadata": {},
   "outputs": [],
   "source": [
    "data = []\n",
    "\n",
    "with open(train_annotation_path, 'rb') as f:\n",
    "    annotation = pickle.load(f, encoding='latin1')\n",
    "train_videos = list(annotation['extraversion'].keys())\n",
    "\n",
    "for i, video in enumerate(train_videos):\n",
    "    in_name = video.rsplit(\".\")[0] + '.' + video.rsplit(\".\")[1] + '.npy'\n",
    "    energy_path = os.path.join(train_energy_dir, in_name)\n",
    "    with open(energy_path, 'rb') as f:\n",
    "        energy = np.load(f)\n",
    "    data.append(energy)"
   ]
  },
  {
   "cell_type": "code",
   "execution_count": 8,
   "id": "e43570e1",
   "metadata": {},
   "outputs": [
    {
     "data": {
      "text/plain": [
       "10000"
      ]
     },
     "execution_count": 8,
     "metadata": {},
     "output_type": "execute_result"
    }
   ],
   "source": [
    "len(data)"
   ]
  },
  {
   "cell_type": "code",
   "execution_count": 9,
   "id": "dc86cfc2",
   "metadata": {},
   "outputs": [
    {
     "data": {
      "text/plain": [
       "(4, 2)"
      ]
     },
     "execution_count": 9,
     "metadata": {},
     "output_type": "execute_result"
    }
   ],
   "source": [
    "mean_std = []\n",
    "\n",
    "for i in range (4):\n",
    "    energy = []\n",
    "    for j in range(6000):\n",
    "        energy.extend(data[j][:,i])\n",
    "        \n",
    "    m = []\n",
    "    m.append(np.mean(energy))\n",
    "    m.append(np.std(energy))\n",
    "    mean_std.append(m)\n",
    "\n",
    "mean_std = np.array(mean_std)\n",
    "mean_std.shape"
   ]
  },
  {
   "cell_type": "code",
   "execution_count": 10,
   "id": "59b4955c",
   "metadata": {},
   "outputs": [
    {
     "data": {
      "text/plain": [
       "array([[0.00265663, 0.00433974],\n",
       "       [0.00245684, 0.00452592],\n",
       "       [0.00107583, 0.0059038 ],\n",
       "       [0.00116471, 0.00620795]])"
      ]
     },
     "execution_count": 10,
     "metadata": {},
     "output_type": "execute_result"
    }
   ],
   "source": [
    "mean_std"
   ]
  },
  {
   "cell_type": "code",
   "execution_count": 11,
   "id": "8a900a06",
   "metadata": {},
   "outputs": [],
   "source": [
    "PATH = '/home/luqman/FI_GESTURE_ENERGY/mean_std.npy'\n",
    "with open(PATH, 'wb') as f:\n",
    "    np.save(f, mean_std)"
   ]
  },
  {
   "cell_type": "code",
   "execution_count": 12,
   "id": "48f39ef2",
   "metadata": {},
   "outputs": [
    {
     "data": {
      "text/plain": [
       "(4, 2)"
      ]
     },
     "execution_count": 12,
     "metadata": {},
     "output_type": "execute_result"
    }
   ],
   "source": [
    "with open(PATH, 'rb') as f:\n",
    "    a = np.load(f)\n",
    "a.shape"
   ]
  },
  {
   "cell_type": "markdown",
   "id": "71428814",
   "metadata": {},
   "source": [
    "# Energy Smooth"
   ]
  },
  {
   "cell_type": "code",
   "execution_count": 7,
   "id": "89887a8c",
   "metadata": {},
   "outputs": [],
   "source": [
    "energy_head_path = '/nas/project_data/B1_Behavior/fodor/fi_processed/gesture_energy_smoothed/head_30/train'\n",
    "energy_body_path = '/nas/project_data/B1_Behavior/fodor/fi_processed/gesture_energy_smoothed/shoulder_30/train'\n",
    "energy_left_hand_path = '/nas/project_data/B1_Behavior/fodor/fi_processed/gesture_energy_smoothed/left-hand_30/train'\n",
    "energy_right_hand_path = '/nas/project_data/B1_Behavior/fodor/fi_processed/gesture_energy_smoothed/right-hand_30/train'"
   ]
  },
  {
   "cell_type": "code",
   "execution_count": 24,
   "id": "6e1c55fe",
   "metadata": {},
   "outputs": [],
   "source": [
    "data_head = []\n",
    "data_body = []\n",
    "data_left_hand = []\n",
    "data_right_hand = []\n",
    "\n",
    "with open(train_annotation_path, 'rb') as f:\n",
    "    annotation = pickle.load(f, encoding='latin1')\n",
    "train_videos = list(annotation['extraversion'].keys())\n",
    "\n",
    "for i, video in enumerate(train_videos):\n",
    "    in_name = video.rsplit(\".\")[0] + '.' + video.rsplit(\".\")[1] + '.npy'\n",
    "    head_path = os.path.join(energy_head_path, in_name)\n",
    "    body_path = os.path.join(energy_body_path, in_name)\n",
    "    left_hand_path = os.path.join(energy_left_hand_path, in_name)\n",
    "    right_hand_path = os.path.join(energy_right_hand_path, in_name)\n",
    "    \n",
    "    with open(head_path, 'rb') as f:\n",
    "        head = np.load(f)\n",
    "    with open(body_path, 'rb') as f:\n",
    "        body = np.load(f)\n",
    "    with open(left_hand_path, 'rb') as f:\n",
    "        left_hand = np.load(f)\n",
    "    with open(right_hand_path, 'rb') as f:\n",
    "        right_hand = np.load(f)\n",
    "    \n",
    "    data_head = np.concatenate((data_head, head))\n",
    "    data_body = np.concatenate((data_body, body))\n",
    "    data_left_hand = np.concatenate((data_left_hand, left_hand))\n",
    "    data_right_hand = np.concatenate((data_right_hand, right_hand))"
   ]
  },
  {
   "cell_type": "code",
   "execution_count": 25,
   "id": "3cd47f84",
   "metadata": {},
   "outputs": [],
   "source": [
    "mean_std_smooth = []\n",
    "mean_std_head = [data_head.mean(), data_head.std()]\n",
    "mean_std_body = [data_body.mean(), data_body.std()]\n",
    "mean_std_left_hand = [data_left_hand.mean(), data_left_hand.std()]\n",
    "mean_std_right_hand = [data_right_hand.mean(), data_right_hand.std()]\n",
    "\n",
    "mean_std_smooth.append(mean_std_head)\n",
    "mean_std_smooth.append(mean_std_body)\n",
    "mean_std_smooth.append(mean_std_left_hand)\n",
    "mean_std_smooth.append(mean_std_right_hand)"
   ]
  },
  {
   "cell_type": "code",
   "execution_count": 28,
   "id": "d20be083",
   "metadata": {},
   "outputs": [
    {
     "data": {
      "text/plain": [
       "array([[0.00267291, 0.00281855],\n",
       "       [0.00247605, 0.00313608],\n",
       "       [0.00108432, 0.00396306],\n",
       "       [0.00114814, 0.00411384]])"
      ]
     },
     "execution_count": 28,
     "metadata": {},
     "output_type": "execute_result"
    }
   ],
   "source": [
    "mean_std_smooth = np.array(mean_std_smooth)\n",
    "mean_std_smooth"
   ]
  },
  {
   "cell_type": "code",
   "execution_count": 29,
   "id": "0d0eba55",
   "metadata": {},
   "outputs": [],
   "source": [
    "PATH = '/home/luqman/FI_GESTURE_ENERGY/mean_std_energy_smooth.npy'\n",
    "with open(PATH, 'wb') as f:\n",
    "    np.save(f, mean_std_smooth)"
   ]
  },
  {
   "cell_type": "code",
   "execution_count": null,
   "id": "137aba35",
   "metadata": {},
   "outputs": [],
   "source": []
  }
 ],
 "metadata": {
  "interpreter": {
   "hash": "31f2aee4e71d21fbe5cf8b01ff0e069b9275f58929596ceb00d14d90e3e16cd6"
  },
  "kernelspec": {
   "display_name": "base",
   "language": "python",
   "name": "base"
  },
  "language_info": {
   "codemirror_mode": {
    "name": "ipython",
    "version": 3
   },
   "file_extension": ".py",
   "mimetype": "text/x-python",
   "name": "python",
   "nbconvert_exporter": "python",
   "pygments_lexer": "ipython3",
   "version": "3.9.12"
  }
 },
 "nbformat": 4,
 "nbformat_minor": 5
}
