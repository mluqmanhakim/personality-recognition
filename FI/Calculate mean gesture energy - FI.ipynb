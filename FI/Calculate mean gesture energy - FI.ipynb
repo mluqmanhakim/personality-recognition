{
 "cells": [
  {
   "cell_type": "code",
   "execution_count": 1,
   "id": "188ca035",
   "metadata": {},
   "outputs": [],
   "source": [
    "import os\n",
    "import pickle\n",
    "import numpy as np"
   ]
  },
  {
   "cell_type": "code",
   "execution_count": 2,
   "id": "99f26f45",
   "metadata": {},
   "outputs": [],
   "source": [
    "train_annotation_path = '/nas/database/Big5/gt/annotation_training.pkl'\n",
    "valid_annotation_path = '/nas/database/Big5/gt/annotation_validation.pkl'\n",
    "test_annotation_path = '/nas/database/Big5/gt/annotation_test.pkl'\n",
    "\n",
    "train_energy_dir = '/home/luqman/FI_GESTURE_ENERGY/train'\n",
    "valid_energy_dir = '/home/luqman/FI_GESTURE_ENERGY/valid'\n",
    "test_energy_dir = '/home/luqman/FI_GESTURE_ENERGY/test'"
   ]
  },
  {
   "cell_type": "code",
   "execution_count": 7,
   "id": "5079c045",
   "metadata": {},
   "outputs": [],
   "source": [
    "data = []\n",
    "\n",
    "with open(train_annotation_path, 'rb') as f:\n",
    "    annotation = pickle.load(f, encoding='latin1')\n",
    "train_videos = list(annotation['extraversion'].keys())\n",
    "\n",
    "for i, video in enumerate(train_videos):\n",
    "    in_name = video.rsplit(\".\")[0] + '.' + video.rsplit(\".\")[1] + '.npy'\n",
    "    energy_path = os.path.join(train_energy_dir, in_name)\n",
    "    with open(energy_path, 'rb') as f:\n",
    "        energy = np.load(f)\n",
    "    data.append(energy)\n",
    "    \n",
    "with open(valid_annotation_path, 'rb') as f:\n",
    "    annotation = pickle.load(f, encoding='latin1')\n",
    "valid_videos = list(annotation['extraversion'].keys())\n",
    "\n",
    "for i, video in enumerate(valid_videos):\n",
    "    in_name = video.rsplit(\".\")[0] + '.' + video.rsplit(\".\")[1] + '.npy'\n",
    "    energy_path = os.path.join(valid_energy_dir, in_name)\n",
    "    with open(energy_path, 'rb') as f:\n",
    "        energy = np.load(f)\n",
    "    data.append(energy)\n",
    "    \n",
    "with open(test_annotation_path, 'rb') as f:\n",
    "    annotation = pickle.load(f, encoding='latin1')\n",
    "test_videos = list(annotation['extraversion'].keys())\n",
    "\n",
    "for i, video in enumerate(test_videos):\n",
    "    in_name = video.rsplit(\".\")[0] + '.' + video.rsplit(\".\")[1] + '.npy'\n",
    "    energy_path = os.path.join(test_energy_dir, in_name)\n",
    "    with open(energy_path, 'rb') as f:\n",
    "        energy = np.load(f)\n",
    "    data.append(energy)"
   ]
  },
  {
   "cell_type": "code",
   "execution_count": 8,
   "id": "e43570e1",
   "metadata": {},
   "outputs": [
    {
     "data": {
      "text/plain": [
       "10000"
      ]
     },
     "execution_count": 8,
     "metadata": {},
     "output_type": "execute_result"
    }
   ],
   "source": [
    "len(data)"
   ]
  },
  {
   "cell_type": "code",
   "execution_count": 9,
   "id": "dc86cfc2",
   "metadata": {},
   "outputs": [
    {
     "data": {
      "text/plain": [
       "(4, 2)"
      ]
     },
     "execution_count": 9,
     "metadata": {},
     "output_type": "execute_result"
    }
   ],
   "source": [
    "mean_std = []\n",
    "\n",
    "for i in range (4):\n",
    "    energy = []\n",
    "    for j in range(10000):\n",
    "        energy.extend(data[j][:,i])\n",
    "        \n",
    "    m = []\n",
    "    m.append(np.mean(energy))\n",
    "    m.append(np.std(energy))\n",
    "    mean_std.append(m)\n",
    "\n",
    "mean_std = np.array(mean_std)\n",
    "mean_std.shape"
   ]
  },
  {
   "cell_type": "code",
   "execution_count": 10,
   "id": "59b4955c",
   "metadata": {},
   "outputs": [
    {
     "data": {
      "text/plain": [
       "array([[0.00265663, 0.00433974],\n",
       "       [0.00245684, 0.00452592],\n",
       "       [0.00107583, 0.0059038 ],\n",
       "       [0.00116471, 0.00620795]])"
      ]
     },
     "execution_count": 10,
     "metadata": {},
     "output_type": "execute_result"
    }
   ],
   "source": [
    "mean_std"
   ]
  },
  {
   "cell_type": "code",
   "execution_count": 11,
   "id": "8a900a06",
   "metadata": {},
   "outputs": [],
   "source": [
    "PATH = '/home/luqman/FI_GESTURE_ENERGY/mean_std.npy'\n",
    "with open(PATH, 'wb') as f:\n",
    "    np.save(f, mean_std)"
   ]
  },
  {
   "cell_type": "code",
   "execution_count": 12,
   "id": "48f39ef2",
   "metadata": {},
   "outputs": [
    {
     "data": {
      "text/plain": [
       "(4, 2)"
      ]
     },
     "execution_count": 12,
     "metadata": {},
     "output_type": "execute_result"
    }
   ],
   "source": [
    "with open(PATH, 'rb') as f:\n",
    "    a = np.load(f)\n",
    "a.shape"
   ]
  },
  {
   "cell_type": "code",
   "execution_count": null,
   "id": "48024c78",
   "metadata": {},
   "outputs": [],
   "source": []
  }
 ],
 "metadata": {
  "interpreter": {
   "hash": "31f2aee4e71d21fbe5cf8b01ff0e069b9275f58929596ceb00d14d90e3e16cd6"
  },
  "kernelspec": {
   "display_name": "Python 3",
   "language": "python",
   "name": "python3"
  },
  "language_info": {
   "codemirror_mode": {
    "name": "ipython",
    "version": 3
   },
   "file_extension": ".py",
   "mimetype": "text/x-python",
   "name": "python",
   "nbconvert_exporter": "python",
   "pygments_lexer": "ipython3",
   "version": "3.8.10"
  }
 },
 "nbformat": 4,
 "nbformat_minor": 5
}
