{
 "cells": [
  {
   "cell_type": "code",
   "execution_count": 1,
   "id": "08538b92",
   "metadata": {},
   "outputs": [
    {
     "name": "stderr",
     "output_type": "stream",
     "text": [
      "/home/luqman/miniconda3/lib/python3.9/site-packages/tqdm/auto.py:22: TqdmWarning: IProgress not found. Please update jupyter and ipywidgets. See https://ipywidgets.readthedocs.io/en/stable/user_install.html\n",
      "  from .autonotebook import tqdm as notebook_tqdm\n"
     ]
    }
   ],
   "source": [
    "import numpy as np\n",
    "import pickle\n",
    "import os\n",
    "import torch\n",
    "from torch.utils.data import TensorDataset, DataLoader\n",
    "import matplotlib.pyplot as plt\n",
    "from scipy import stats"
   ]
  },
  {
   "cell_type": "markdown",
   "id": "0af9c0ac",
   "metadata": {},
   "source": [
    "# Data preparation"
   ]
  },
  {
   "cell_type": "code",
   "execution_count": 22,
   "id": "0b46320d",
   "metadata": {},
   "outputs": [],
   "source": [
    "train_annotation_path = '/nas/database/Big5/gt/annotation_training.pkl'\n",
    "val_annotation_path = '/nas/database/Big5/gt/annotation_validation.pkl'\n",
    "test_annotation_path = '/nas/database/Big5/gt/annotation_test.pkl'\n",
    "\n",
    "train_au_path = '/nas/project_data/B1_Behavior/hakim/FI/ME_AU_feature/train'\n",
    "val_au_path = '/nas/project_data/B1_Behavior/hakim/FI/ME_AU_feature/val'\n",
    "test_au_path = '/nas/project_data/B1_Behavior/hakim/FI/ME_AU_feature/test'\n",
    "\n",
    "train_pose_path = '/nas/project_data/B1_Behavior/hakim/FI/pose_face_moves/train'\n",
    "val_pose_path = '/nas/project_data/B1_Behavior/hakim/FI/pose_face_moves/val'\n",
    "test_pose_path = '/nas/project_data/B1_Behavior/hakim/FI/pose_face_moves/test'\n",
    "\n",
    "with open(train_annotation_path, 'rb') as f:\n",
    "    train_annotation = pickle.load(f, encoding='latin1')\n",
    "train_videos = list(train_annotation['extraversion'].keys())\n",
    "\n",
    "with open(val_annotation_path, 'rb') as f:\n",
    "    val_annotation = pickle.load(f, encoding='latin1')\n",
    "val_videos = list(val_annotation['extraversion'].keys())\n",
    "\n",
    "with open(test_annotation_path, 'rb') as f:\n",
    "    test_annotation = pickle.load(f, encoding='latin1')\n",
    "test_videos = list(test_annotation['extraversion'].keys())\n",
    "\n",
    "with open('/nas/project_data/B1_Behavior/hakim/FI/ME_AU_feature/mean_std.npy', 'rb') as f:\n",
    "    mean_std_au = np.load(f)\n",
    "\n",
    "train_features = []\n",
    "train_labels = []\n",
    "val_features = []\n",
    "val_labels = []\n",
    "test_features = []\n",
    "test_labels = []"
   ]
  },
  {
   "cell_type": "code",
   "execution_count": 23,
   "id": "5a3717a2",
   "metadata": {},
   "outputs": [],
   "source": [
    "for i, video in enumerate(train_videos):\n",
    "    video_name = video.rsplit(\".\")[0] + '.' + video.rsplit(\".\")[1]\n",
    "    input_name = video_name + '.npy'\n",
    "    au_path = os.path.join(train_au_path, input_name)\n",
    "    pose_path = os.path.join(train_pose_path, input_name)\n",
    "    \n",
    "    with open(au_path, 'rb') as f:\n",
    "        au = np.load(f)\n",
    "        au = (au - mean_std_au[:,0]) / mean_std_au[:,1]\n",
    "        if au.shape[0] < 450:\n",
    "            au = np.pad(au, ((0,450-au.shape[0]),(0,0)), 'constant', constant_values=0)\n",
    "\n",
    "    # Include only 11 AU\n",
    "    au = au[:,:11]\n",
    "    \n",
    "    with open(pose_path, 'rb') as f:\n",
    "        pose = np.load(f)\n",
    "        if pose.shape[0] < 450:\n",
    "            pose = np.pad(pose, ((0,450-pose.shape[0]),(0,0)), 'constant', constant_values=0)\n",
    "    \n",
    "    assert pose.shape[0] == 450 and au.shape[0] == 450\n",
    "    feature = np.concatenate((au, pose), axis=1)\n",
    "    train_features.append(feature)\n",
    "    \n",
    "    label = np.array([train_annotation['extraversion'][video],\n",
    "                     train_annotation['neuroticism'][video],\n",
    "                     train_annotation['agreeableness'][video],\n",
    "                     train_annotation['conscientiousness'][video],\n",
    "                     train_annotation['openness'][video]])\n",
    "    train_labels.append(label)"
   ]
  },
  {
   "cell_type": "code",
   "execution_count": 24,
   "id": "06ecd3f6",
   "metadata": {},
   "outputs": [],
   "source": [
    "for i, video in enumerate(val_videos):\n",
    "    video_name = video.rsplit(\".\")[0] + '.' + video.rsplit(\".\")[1]\n",
    "    input_name = video_name + '.npy'\n",
    "    au_path = os.path.join(val_au_path, input_name)\n",
    "    pose_path = os.path.join(val_pose_path, input_name)\n",
    "    \n",
    "    with open(au_path, 'rb') as f:\n",
    "        au = np.load(f)\n",
    "        au = (au - mean_std_au[:,0]) / mean_std_au[:,1]\n",
    "        if au.shape[0] < 450:\n",
    "            au = np.pad(au, ((0,450-au.shape[0]),(0,0)), 'constant', constant_values=0)\n",
    "\n",
    "    # Include only 11 AU\n",
    "    au = au[:,:11]\n",
    "    \n",
    "    with open(pose_path, 'rb') as f:\n",
    "        pose = np.load(f)\n",
    "        if pose.shape[0] < 450:\n",
    "            pose = np.pad(pose, ((0,450-pose.shape[0]),(0,0)), 'constant', constant_values=0)\n",
    "    \n",
    "    assert pose.shape[0] == 450 and au.shape[0] == 450\n",
    "    feature = np.concatenate((au, pose), axis=1)\n",
    "    val_features.append(feature)\n",
    "    \n",
    "    label = np.array([val_annotation['extraversion'][video],\n",
    "                     val_annotation['neuroticism'][video],\n",
    "                     val_annotation['agreeableness'][video],\n",
    "                     val_annotation['conscientiousness'][video],\n",
    "                     val_annotation['openness'][video]])\n",
    "    val_labels.append(label)"
   ]
  },
  {
   "cell_type": "code",
   "execution_count": 25,
   "id": "05e1e76d",
   "metadata": {},
   "outputs": [],
   "source": [
    "for i, video in enumerate(test_videos):\n",
    "    video_name = video.rsplit(\".\")[0] + '.' + video.rsplit(\".\")[1]\n",
    "    input_name = video_name + '.npy'\n",
    "    au_path = os.path.join(test_au_path, input_name)\n",
    "    pose_path = os.path.join(test_pose_path, input_name)\n",
    "    \n",
    "    with open(au_path, 'rb') as f:\n",
    "        au = np.load(f)\n",
    "        au = (au - mean_std_au[:,0]) / mean_std_au[:,1]\n",
    "        if au.shape[0] < 450:\n",
    "            au = np.pad(au, ((0,450-au.shape[0]),(0,0)), 'constant', constant_values=0)\n",
    "\n",
    "    # Include only 11 AU\n",
    "    au = au[:,:11]\n",
    "    \n",
    "    with open(pose_path, 'rb') as f:\n",
    "        pose = np.load(f)\n",
    "        if pose.shape[0] < 450:\n",
    "            pose = np.pad(pose, ((0,450-pose.shape[0]),(0,0)), 'constant', constant_values=0)\n",
    "    \n",
    "    assert pose.shape[0] == 450 and au.shape[0] == 450\n",
    "    feature = np.concatenate((au, pose), axis=1)\n",
    "    test_features.append(feature)\n",
    "    \n",
    "    label = np.array([test_annotation['extraversion'][video],\n",
    "                     test_annotation['neuroticism'][video],\n",
    "                     test_annotation['agreeableness'][video],\n",
    "                     test_annotation['conscientiousness'][video],\n",
    "                     test_annotation['openness'][video]])\n",
    "    test_labels.append(label)"
   ]
  },
  {
   "cell_type": "code",
   "execution_count": 26,
   "id": "ab64d34e",
   "metadata": {},
   "outputs": [],
   "source": [
    "train_features = torch.Tensor(np.array(train_features))\n",
    "train_labels = torch.Tensor(np.array(train_labels))\n",
    "val_features = torch.Tensor(np.array(val_features))\n",
    "val_labels = torch.Tensor(np.array(val_labels))\n",
    "test_features = torch.Tensor(np.array(test_features))\n",
    "test_labels = torch.Tensor(np.array(test_labels))\n",
    "\n",
    "BATCH_SIZE = 128\n",
    "train = TensorDataset(train_features, train_labels)\n",
    "val = TensorDataset(val_features, val_labels)\n",
    "test = TensorDataset(test_features, test_labels)\n",
    "train_loader = DataLoader(train, batch_size=BATCH_SIZE, shuffle=True, drop_last=True)\n",
    "val_loader = DataLoader(val, batch_size=BATCH_SIZE, shuffle=True, drop_last=True)\n",
    "test_loader = DataLoader(test, batch_size=BATCH_SIZE, shuffle=True, drop_last=True)"
   ]
  },
  {
   "cell_type": "markdown",
   "id": "5dbb63fd",
   "metadata": {},
   "source": [
    "# Model"
   ]
  },
  {
   "cell_type": "code",
   "execution_count": 27,
   "id": "292f1947",
   "metadata": {},
   "outputs": [],
   "source": [
    "if torch.cuda.is_available():\n",
    "    device = torch.device(\"cuda:1\")\n",
    "else:\n",
    "    device = torch.device(\"cpu\")"
   ]
  },
  {
   "cell_type": "code",
   "execution_count": 28,
   "id": "b4b9afd9",
   "metadata": {},
   "outputs": [],
   "source": [
    "class Transformer(torch.nn.Module):\n",
    "    def __init__(self, input_dim=16, output_dim=5):\n",
    "        super(Transformer, self).__init__()\n",
    "        encoder_layer = torch.nn.TransformerEncoderLayer(d_model=input_dim, nhead=1, dropout=0.2, batch_first=True)\n",
    "        self.transformer_encoder = torch.nn.TransformerEncoder(encoder_layer, num_layers=6)\n",
    "        self.fc = torch.nn.Linear(16, output_dim)\n",
    "        self.sigmoid = torch.nn.Sigmoid()\n",
    "        self.relu = torch.nn.ReLU()\n",
    "\n",
    "    def forward(self, x):\n",
    "        out = self.transformer_encoder(x)\n",
    "        out = self.relu(out[:,-1,:])\n",
    "        out = self.fc(out)\n",
    "        out = self.sigmoid(out)\n",
    "        return out"
   ]
  },
  {
   "cell_type": "code",
   "execution_count": 29,
   "id": "334eaa6a",
   "metadata": {},
   "outputs": [],
   "source": [
    "def train(model, train_loader, val_loader, epochs, patience=5):\n",
    "    train_losses = []\n",
    "    val_losses = []\n",
    "    val_maes = []\n",
    "    last_loss = 1e-8\n",
    "    trigger_times = 0\n",
    "\n",
    "    for epoch in range(0, epochs):\n",
    "        model.train()\n",
    "        batch_losses = []\n",
    "\n",
    "        for inputs, targets in train_loader:\n",
    "            preds = model(inputs.to(device))\n",
    "            loss = loss_fn(preds, targets.to(device))\n",
    "            optimizer.zero_grad()\n",
    "            loss.backward()\n",
    "            optimizer.step()\n",
    "            batch_losses.append(loss.item())\n",
    "\n",
    "        train_loss = np.mean(batch_losses)\n",
    "        train_losses.append(train_loss)\n",
    "\n",
    "        model.eval()\n",
    "        with torch.no_grad():\n",
    "            batch_val_losses = []\n",
    "            batch_val_mae = []\n",
    "\n",
    "            for inputs, targets in val_loader:\n",
    "                model.eval()\n",
    "                preds = model(inputs.to(device))\n",
    "                loss = loss_fn(preds, targets.to(device))\n",
    "                batch_val_losses.append(loss.item())\n",
    "                val_mae = mae(preds, targets.to(device))\n",
    "                batch_val_mae.append(val_mae.item())\n",
    "            \n",
    "            val_loss = np.mean(batch_val_losses)\n",
    "            val_mae = np.mean(batch_val_mae)\n",
    "            scheduler.step(val_loss)\n",
    "            val_losses.append(val_loss)\n",
    "            val_maes.append(val_mae)\n",
    "  \n",
    "        print(f'Epoch {epoch} - train loss: {train_loss:.4f} - val loss: {val_loss:.4f} - val 1-mae: {(1-val_mae):.4f}')\n",
    "        \n",
    "        if val_loss > last_loss:\n",
    "            trigger_times += 1\n",
    "            print('Trigger:', trigger_times)\n",
    "            if trigger_times >= patience:\n",
    "                print('Early stop')\n",
    "                break\n",
    "        else:\n",
    "            print('Trigger: 0')\n",
    "            trigger_times = 0\n",
    "        last_loss = val_loss\n",
    "        \n",
    "    return train_losses, val_losses, val_maes"
   ]
  },
  {
   "cell_type": "code",
   "execution_count": 30,
   "id": "e48fbb94",
   "metadata": {},
   "outputs": [],
   "source": [
    "LR = 0.0001\n",
    "transformer = Transformer()\n",
    "transformer.to(device)\n",
    "optimizer = torch.optim.AdamW(transformer.parameters(), lr=LR, weight_decay=0.01)\n",
    "scheduler = torch.optim.lr_scheduler.ReduceLROnPlateau(optimizer, 'min')\n",
    "loss_fn = torch.nn.MSELoss()\n",
    "mae = torch.nn.L1Loss()"
   ]
  },
  {
   "cell_type": "code",
   "execution_count": 31,
   "id": "518ccdfa",
   "metadata": {},
   "outputs": [
    {
     "name": "stdout",
     "output_type": "stream",
     "text": [
      "Epoch 0 - train loss: 0.0233 - val loss: 0.0211 - val 1-mae: 0.8834\n",
      "Trigger: 1\n",
      "Epoch 1 - train loss: 0.0224 - val loss: 0.0211 - val 1-mae: 0.8832\n",
      "Trigger: 2\n",
      "Epoch 2 - train loss: 0.0224 - val loss: 0.0209 - val 1-mae: 0.8840\n",
      "Trigger: 0\n",
      "Epoch 3 - train loss: 0.0224 - val loss: 0.0209 - val 1-mae: 0.8842\n",
      "Trigger: 1\n",
      "Epoch 4 - train loss: 0.0223 - val loss: 0.0212 - val 1-mae: 0.8834\n",
      "Trigger: 2\n",
      "Epoch 5 - train loss: 0.0223 - val loss: 0.0211 - val 1-mae: 0.8836\n",
      "Trigger: 0\n",
      "Epoch 6 - train loss: 0.0222 - val loss: 0.0208 - val 1-mae: 0.8844\n",
      "Trigger: 0\n",
      "Epoch 7 - train loss: 0.0222 - val loss: 0.0209 - val 1-mae: 0.8842\n",
      "Trigger: 1\n",
      "Epoch 8 - train loss: 0.0221 - val loss: 0.0209 - val 1-mae: 0.8840\n",
      "Trigger: 2\n",
      "Epoch 9 - train loss: 0.0220 - val loss: 0.0209 - val 1-mae: 0.8839\n",
      "Trigger: 0\n",
      "Epoch 10 - train loss: 0.0220 - val loss: 0.0208 - val 1-mae: 0.8842\n",
      "Trigger: 0\n",
      "Epoch 11 - train loss: 0.0220 - val loss: 0.0209 - val 1-mae: 0.8840\n",
      "Trigger: 1\n",
      "Epoch 12 - train loss: 0.0219 - val loss: 0.0208 - val 1-mae: 0.8842\n",
      "Trigger: 0\n",
      "Epoch 13 - train loss: 0.0218 - val loss: 0.0208 - val 1-mae: 0.8844\n",
      "Trigger: 0\n",
      "Epoch 14 - train loss: 0.0218 - val loss: 0.0209 - val 1-mae: 0.8842\n",
      "Trigger: 1\n",
      "Epoch 15 - train loss: 0.0218 - val loss: 0.0208 - val 1-mae: 0.8846\n",
      "Trigger: 0\n",
      "Epoch 16 - train loss: 0.0217 - val loss: 0.0209 - val 1-mae: 0.8841\n",
      "Trigger: 1\n",
      "Epoch 17 - train loss: 0.0219 - val loss: 0.0206 - val 1-mae: 0.8851\n",
      "Trigger: 0\n",
      "Epoch 18 - train loss: 0.0217 - val loss: 0.0205 - val 1-mae: 0.8853\n",
      "Trigger: 0\n",
      "Epoch 19 - train loss: 0.0216 - val loss: 0.0208 - val 1-mae: 0.8845\n",
      "Trigger: 1\n",
      "Epoch 20 - train loss: 0.0215 - val loss: 0.0204 - val 1-mae: 0.8854\n",
      "Trigger: 0\n",
      "Epoch 21 - train loss: 0.0214 - val loss: 0.0204 - val 1-mae: 0.8856\n",
      "Trigger: 0\n",
      "Epoch 22 - train loss: 0.0214 - val loss: 0.0206 - val 1-mae: 0.8851\n",
      "Trigger: 1\n",
      "Epoch 23 - train loss: 0.0213 - val loss: 0.0203 - val 1-mae: 0.8857\n",
      "Trigger: 0\n",
      "Epoch 24 - train loss: 0.0213 - val loss: 0.0204 - val 1-mae: 0.8856\n",
      "Trigger: 1\n",
      "Epoch 25 - train loss: 0.0212 - val loss: 0.0209 - val 1-mae: 0.8841\n",
      "Trigger: 2\n",
      "Epoch 26 - train loss: 0.0213 - val loss: 0.0205 - val 1-mae: 0.8853\n",
      "Trigger: 0\n",
      "Epoch 27 - train loss: 0.0210 - val loss: 0.0204 - val 1-mae: 0.8857\n",
      "Trigger: 0\n",
      "Epoch 28 - train loss: 0.0210 - val loss: 0.0204 - val 1-mae: 0.8859\n",
      "Trigger: 0\n",
      "Epoch 29 - train loss: 0.0210 - val loss: 0.0202 - val 1-mae: 0.8865\n",
      "Trigger: 0\n",
      "Epoch 30 - train loss: 0.0209 - val loss: 0.0202 - val 1-mae: 0.8865\n",
      "Trigger: 1\n",
      "Epoch 31 - train loss: 0.0209 - val loss: 0.0204 - val 1-mae: 0.8861\n",
      "Trigger: 2\n",
      "Epoch 32 - train loss: 0.0209 - val loss: 0.0205 - val 1-mae: 0.8856\n",
      "Trigger: 3\n",
      "Epoch 33 - train loss: 0.0209 - val loss: 0.0206 - val 1-mae: 0.8852\n",
      "Trigger: 4\n",
      "Epoch 34 - train loss: 0.0208 - val loss: 0.0203 - val 1-mae: 0.8861\n",
      "Trigger: 0\n",
      "Epoch 35 - train loss: 0.0208 - val loss: 0.0203 - val 1-mae: 0.8860\n",
      "Trigger: 0\n",
      "Epoch 36 - train loss: 0.0207 - val loss: 0.0203 - val 1-mae: 0.8862\n",
      "Trigger: 0\n",
      "Epoch 37 - train loss: 0.0206 - val loss: 0.0207 - val 1-mae: 0.8853\n",
      "Trigger: 1\n",
      "Epoch 38 - train loss: 0.0207 - val loss: 0.0204 - val 1-mae: 0.8857\n",
      "Trigger: 0\n",
      "Epoch 39 - train loss: 0.0206 - val loss: 0.0208 - val 1-mae: 0.8852\n",
      "Trigger: 1\n",
      "Epoch 40 - train loss: 0.0205 - val loss: 0.0205 - val 1-mae: 0.8856\n",
      "Trigger: 0\n",
      "Epoch 41 - train loss: 0.0203 - val loss: 0.0204 - val 1-mae: 0.8858\n",
      "Trigger: 0\n",
      "Epoch 42 - train loss: 0.0202 - val loss: 0.0207 - val 1-mae: 0.8850\n",
      "Trigger: 1\n",
      "Epoch 43 - train loss: 0.0202 - val loss: 0.0205 - val 1-mae: 0.8856\n",
      "Trigger: 0\n",
      "Epoch 44 - train loss: 0.0202 - val loss: 0.0204 - val 1-mae: 0.8857\n",
      "Trigger: 0\n",
      "Epoch 45 - train loss: 0.0201 - val loss: 0.0203 - val 1-mae: 0.8863\n",
      "Trigger: 0\n",
      "Epoch 46 - train loss: 0.0201 - val loss: 0.0204 - val 1-mae: 0.8856\n",
      "Trigger: 1\n",
      "Epoch 47 - train loss: 0.0201 - val loss: 0.0205 - val 1-mae: 0.8856\n",
      "Trigger: 2\n",
      "Epoch 48 - train loss: 0.0203 - val loss: 0.0203 - val 1-mae: 0.8862\n",
      "Trigger: 0\n",
      "Epoch 49 - train loss: 0.0201 - val loss: 0.0205 - val 1-mae: 0.8857\n",
      "Trigger: 1\n"
     ]
    }
   ],
   "source": [
    "train_losses, val_losses, val_maes = train(transformer, train_loader, val_loader, epochs=50, patience=5)"
   ]
  },
  {
   "cell_type": "markdown",
   "id": "077fce27",
   "metadata": {},
   "source": [
    "# Plot"
   ]
  },
  {
   "cell_type": "code",
   "execution_count": 32,
   "id": "5d40309a",
   "metadata": {},
   "outputs": [
    {
     "data": {
      "text/plain": [
       "<matplotlib.legend.Legend at 0x7fb9d61b9cd0>"
      ]
     },
     "execution_count": 32,
     "metadata": {},
     "output_type": "execute_result"
    },
    {
     "data": {
      "image/png": "[encoded data removed]",
      "text/plain": [
       "<Figure size 640x480 with 1 Axes>"
      ]
     },
     "metadata": {},
     "output_type": "display_data"
    }
   ],
   "source": [
    "fig, ax = plt.subplots()\n",
    "ax.plot(train_losses, label='Train loss')\n",
    "ax.plot(val_losses, label='Val loss')\n",
    "ax.plot(val_maes, label='Val MAE')\n",
    "ax.set_xlabel('Epoch')\n",
    "ax.set_ylabel('Loss')\n",
    "plt.title(\"Training result\")\n",
    "plt.legend()"
   ]
  },
  {
   "cell_type": "markdown",
   "id": "9bc68b22",
   "metadata": {},
   "source": [
    "# Testing"
   ]
  },
  {
   "cell_type": "code",
   "execution_count": 33,
   "id": "07dc934e",
   "metadata": {},
   "outputs": [],
   "source": [
    "def test(model, test_loader):\n",
    "    mae = torch.nn.L1Loss()\n",
    "    predictions = np.array([])\n",
    "    labels = np.array([])\n",
    "    model.eval()\n",
    "    with torch.no_grad():\n",
    "        batch_loss_ext = []\n",
    "        batch_loss_neu = []\n",
    "        batch_loss_agr = []\n",
    "        batch_loss_con = []\n",
    "        batch_loss_ope = []\n",
    "\n",
    "        for inputs, targets in test_loader:\n",
    "            batch_preds = model(inputs.to(device))\n",
    "            loss_ext = mae(batch_preds[:,0], targets[:,0].to(device))\n",
    "            loss_neu = mae(batch_preds[:,1], targets[:,1].to(device))\n",
    "            loss_agr = mae(batch_preds[:,2], targets[:,2].to(device))\n",
    "            loss_con = mae(batch_preds[:,3], targets[:,3].to(device))\n",
    "            loss_ope = mae(batch_preds[:,4], targets[:,4].to(device))\n",
    "            batch_loss_ext.append(loss_ext.item())\n",
    "            batch_loss_neu.append(loss_neu.item())\n",
    "            batch_loss_agr.append(loss_agr.item())\n",
    "            batch_loss_con.append(loss_con.item())\n",
    "            batch_loss_ope.append(loss_ope.item())\n",
    "            predictions = np.vstack((predictions, batch_preds.cpu())) if len(predictions) != 0 else batch_preds.cpu()\n",
    "            labels = np.vstack((labels, targets.cpu())) if len(labels) != 0 else targets.cpu()\n",
    "\n",
    "        loss_ext = 1 - np.mean(batch_loss_ext)\n",
    "        loss_neu = 1 - np.mean(batch_loss_neu)\n",
    "        loss_agr = 1 - np.mean(batch_loss_agr)\n",
    "        loss_con = 1 - np.mean(batch_loss_con)\n",
    "        loss_ope = 1 - np.mean(batch_loss_ope)\n",
    "        loss = (loss_ext + loss_neu + loss_agr + loss_con + loss_ope) / 5\n",
    "\n",
    "        print(f'1-MAE: {loss:.4f}')\n",
    "        print(f'1-MAE O: {loss_ope:.4f}')\n",
    "        print(f'1-MAE C: {loss_con:.4f}')\n",
    "        print(f'1-MAE E: {loss_ext:.4f}')\n",
    "        print(f'1-MAE A: {loss_agr:.4f}')\n",
    "        print(f'1-MAE N: {loss_neu:.4f}')\n",
    "        \n",
    "        spearman_r_ext = stats.spearmanr(predictions[:,0], labels[:,0])\n",
    "        spearman_r_neu = stats.spearmanr(predictions[:,1], labels[:,1])\n",
    "        spearman_r_agr = stats.spearmanr(predictions[:,2], labels[:,2])\n",
    "        spearman_r_con = stats.spearmanr(predictions[:,3], labels[:,3])\n",
    "        spearman_r_ope = stats.spearmanr(predictions[:,4], labels[:,4])\n",
    "        print(f'O - R: {spearman_r_ope[0]:.3f} - p: {spearman_r_ope[1]:.3f}')\n",
    "        print(f'C - R: {spearman_r_con[0]:.3f} - p: {spearman_r_con[1]:.3f}')\n",
    "        print(f'E - R: {spearman_r_ext[0]:.3f} - p: {spearman_r_ext[1]:.3f}')\n",
    "        print(f'A - R: {spearman_r_agr[0]:.3f} - p: {spearman_r_agr[1]:.3f}')\n",
    "        print(f'N - R: {spearman_r_neu[0]:.3f} - p: {spearman_r_neu[1]:.3f}')"
   ]
  },
  {
   "cell_type": "code",
   "execution_count": 35,
   "id": "a14311cd",
   "metadata": {},
   "outputs": [
    {
     "name": "stdout",
     "output_type": "stream",
     "text": [
      "1-MAE: 0.8857\n",
      "1-MAE O: 0.8888\n",
      "1-MAE C: 0.8801\n",
      "1-MAE E: 0.8835\n",
      "1-MAE A: 0.8947\n",
      "1-MAE N: 0.8816\n",
      "O - R: 0.280 - p: 0.000\n",
      "C - R: 0.248 - p: 0.000\n",
      "E - R: 0.297 - p: 0.000\n",
      "A - R: 0.175 - p: 0.000\n",
      "N - R: 0.266 - p: 0.000\n"
     ]
    }
   ],
   "source": [
    "test(transformer, test_loader)"
   ]
  },
  {
   "cell_type": "code",
   "execution_count": 29,
   "id": "95839f68",
   "metadata": {},
   "outputs": [
    {
     "name": "stdout",
     "output_type": "stream",
     "text": [
      "baseline prior 1-mae: 0.8814377188682556\n"
     ]
    }
   ],
   "source": [
    "prior = test_labels.mean(axis=0)\n",
    "test_prior = torch.from_numpy(np.repeat(np.expand_dims(prior, axis=0), 2000, axis=0))\n",
    "value = mae(test_prior, test_labels)\n",
    "print('baseline prior 1-mae:', 1-value.item())"
   ]
  },
  {
   "cell_type": "code",
   "execution_count": null,
   "id": "f4c32c40",
   "metadata": {},
   "outputs": [],
   "source": []
  }
 ],
 "metadata": {
  "kernelspec": {
   "display_name": "base",
   "language": "python",
   "name": "base"
  },
  "language_info": {
   "codemirror_mode": {
    "name": "ipython",
    "version": 3
   },
   "file_extension": ".py",
   "mimetype": "text/x-python",
   "name": "python",
   "nbconvert_exporter": "python",
   "pygments_lexer": "ipython3",
   "version": "3.9.12"
  },
  "vscode": {
   "interpreter": {
    "hash": "91bd7d5b175934679171a1f1e80429250a2d51389ee225c320e74775eefa2d64"
   }
  }
 },
 "nbformat": 4,
 "nbformat_minor": 5
}
