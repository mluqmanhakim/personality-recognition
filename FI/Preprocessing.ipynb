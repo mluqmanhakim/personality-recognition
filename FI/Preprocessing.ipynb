{
 "cells": [
  {
   "cell_type": "code",
   "execution_count": 1,
   "id": "ac19b988",
   "metadata": {},
   "outputs": [
    {
     "name": "stderr",
     "output_type": "stream",
     "text": [
      "/home/luqman/.local/share/virtualenvs/ME-GraphAU-bHobmKeI/lib/python3.8/site-packages/tqdm/auto.py:22: TqdmWarning: IProgress not found. Please update jupyter and ipywidgets. See https://ipywidgets.readthedocs.io/en/stable/user_install.html\n",
      "  from .autonotebook import tqdm as notebook_tqdm\n"
     ]
    },
    {
     "ename": "ModuleNotFoundError",
     "evalue": "No module named 'matplotlib'",
     "output_type": "error",
     "traceback": [
      "\u001b[0;31m---------------------------------------------------------------------------\u001b[0m",
      "\u001b[0;31mModuleNotFoundError\u001b[0m                       Traceback (most recent call last)",
      "Input \u001b[0;32mIn [1]\u001b[0m, in \u001b[0;36m<cell line: 5>\u001b[0;34m()\u001b[0m\n\u001b[1;32m      3\u001b[0m \u001b[38;5;28;01mfrom\u001b[39;00m \u001b[38;5;21;01mPIL\u001b[39;00m \u001b[38;5;28;01mimport\u001b[39;00m Image\n\u001b[1;32m      4\u001b[0m \u001b[38;5;28;01mimport\u001b[39;00m \u001b[38;5;21;01mnumpy\u001b[39;00m \u001b[38;5;28;01mas\u001b[39;00m \u001b[38;5;21;01mnp\u001b[39;00m\n\u001b[0;32m----> 5\u001b[0m \u001b[38;5;28;01mfrom\u001b[39;00m \u001b[38;5;21;01mmatplotlib\u001b[39;00m \u001b[38;5;28;01mimport\u001b[39;00m pyplot \u001b[38;5;28;01mas\u001b[39;00m plt\n\u001b[1;32m      6\u001b[0m \u001b[38;5;28;01mimport\u001b[39;00m \u001b[38;5;21;01mos\u001b[39;00m\n\u001b[1;32m      7\u001b[0m \u001b[38;5;28;01mimport\u001b[39;00m \u001b[38;5;21;01mpickle\u001b[39;00m\n",
      "\u001b[0;31mModuleNotFoundError\u001b[0m: No module named 'matplotlib'"
     ]
    }
   ],
   "source": [
    "from facenet_pytorch import MTCNN\n",
    "import cv2\n",
    "from PIL import Image\n",
    "import numpy as np\n",
    "from matplotlib import pyplot as plt\n",
    "import os\n",
    "import pickle\n",
    "import time\n",
    "import pandas as pd"
   ]
  },
  {
   "cell_type": "markdown",
   "id": "ba4e54ca",
   "metadata": {},
   "source": [
    "# Convert video to frames"
   ]
  },
  {
   "cell_type": "code",
   "execution_count": 29,
   "id": "6309ace2",
   "metadata": {},
   "outputs": [
    {
     "name": "stdout",
     "output_type": "stream",
     "text": [
      "Processing J4GQm9j0JZ0.003.mp4\n",
      "--- 2.375793218612671 seconds ---\n"
     ]
    }
   ],
   "source": [
    "start_time = time.time()\n",
    "video_dir = \"/nas/database/Big5/train\"\n",
    "output_dir = \"/nas/project_data/B1_Behavior/hakim/FI/frames/train\"\n",
    "annotation_path = '/nas/database/Big5/gt/annotation_training.pkl'\n",
    "with open(annotation_path, 'rb') as f:\n",
    "    annotation = pickle.load(f, encoding='latin1')\n",
    "video_names = list(annotation['extraversion'].keys())\n",
    "\n",
    "for video_name in video_names:\n",
    "    print(f'Processing {video_name}')\n",
    "    dir_name = video_name.rsplit(\".\")[0] + \".\" + video_name.rsplit(\".\")[1] \n",
    "    out_path = os.path.join(output_dir, dir_name)\n",
    "    os.makedirs(out_path, exist_ok=True)\n",
    "    video_path = os.path.join(video_dir, video_name)\n",
    "    command = \"/home/luqman/ffmpeg/ffmpeg-git-20220622-amd64-static/ffmpeg -loglevel warning -t 15 -i \" + video_path + \" -r:v 30 -frames:v 450 \" + os.path.join(out_path, \"%d.png\") \n",
    "    os.system(command)\n",
    "    break\n",
    "    \n",
    "print(\"--- %s seconds ---\" % (time.time() - start_time))"
   ]
  },
  {
   "cell_type": "markdown",
   "id": "8d130175",
   "metadata": {},
   "source": [
    "# MTCNN"
   ]
  },
  {
   "cell_type": "code",
   "execution_count": 20,
   "id": "0366dc17",
   "metadata": {},
   "outputs": [
    {
     "name": "stdout",
     "output_type": "stream",
     "text": [
      "Processing J4GQm9j0JZ0.003.mp4\n",
      "Output is saved on /nas/project_data/B1_Behavior/hakim/FI/mtcnn/J4GQm9j0JZ0.003.mp4.pickle\n",
      "--- 10.361439228057861 seconds ---\n"
     ]
    }
   ],
   "source": [
    "start_time = time.time()\n",
    "input_dir = '/nas/project_data/B1_Behavior/hakim/FI/frames/train'\n",
    "output_dir = '/nas/project_data/B1_Behavior/hakim/FI/mtcnn'\n",
    "annotation_path = '/nas/database/Big5/gt/annotation_training.pkl'\n",
    "batch_size = 32\n",
    "mtcnn = MTCNN(keep_all=True, device='cuda:0')\n",
    "with open(annotation_path, 'rb') as f:\n",
    "    annotation = pickle.load(f, encoding='latin1')\n",
    "video_names = list(annotation['extraversion'].keys())\n",
    "\n",
    "for video_name in video_names:\n",
    "    print(f'Processing {video_name}')\n",
    "    frames = []\n",
    "    boxes = []\n",
    "    landmarks = []\n",
    "    probs = []\n",
    "    dir_name = video_name.rsplit(\".\")[0] + \".\" + video_name.rsplit(\".\")[1]\n",
    "    img_dir = os.path.join(input_dir, dir_name)\n",
    "    file_count = len([x for x in os.listdir(img_dir)])\n",
    "    \n",
    "    for i in range(1, file_count+1):\n",
    "        filename = str(i) + '.png'\n",
    "        img_path = os.path.join(img_dir, filename)\n",
    "        img = cv2.cvtColor(cv2.imread(img_path), cv2.COLOR_BGR2RGB)\n",
    "        frame = Image.fromarray(img)\n",
    "        frames.append(frame)\n",
    "\n",
    "        if (len(frames) == batch_size or i == file_count):\n",
    "            batch_boxes, batch_probs, batch_landmarks = mtcnn.detect(frames, landmarks=True)\n",
    "            boxes.extend(batch_boxes)\n",
    "            landmarks.extend(batch_landmarks)\n",
    "            probs.extend(batch_probs)\n",
    "            frames = []\n",
    "\n",
    "    output = {'boxes': boxes, 'probs': probs, 'landmarks': landmarks}\n",
    "    out_filename = dir_name + \".pickle\"\n",
    "    out_path = os.path.join(output_dir, out_filename)\n",
    "    outfile = open(out_path, 'wb')\n",
    "    pickle.dump(output, outfile)\n",
    "    outfile.close()\n",
    "    print(f'Output is saved on {out_path}')\n",
    "    break\n",
    "\n",
    "print(\"--- %s seconds ---\" % (time.time() - start_time))"
   ]
  },
  {
   "cell_type": "markdown",
   "id": "dc24ef5d",
   "metadata": {},
   "source": [
    "# Count files"
   ]
  },
  {
   "cell_type": "code",
   "execution_count": 3,
   "id": "428c5261",
   "metadata": {},
   "outputs": [
    {
     "name": "stdout",
     "output_type": "stream",
     "text": [
      "189\n"
     ]
    }
   ],
   "source": [
    "path = '/nas/project_data/B1_Behavior/hakim/FI/predictions/train'\n",
    "counter = 0\n",
    "for item in os.listdir(path):\n",
    "    counter += 1\n",
    "print(counter)"
   ]
  },
  {
   "cell_type": "code",
   "execution_count": null,
   "id": "472125a2",
   "metadata": {},
   "outputs": [],
   "source": []
  }
 ],
 "metadata": {
  "kernelspec": {
   "display_name": "Python 3",
   "language": "python",
   "name": "python3"
  },
  "language_info": {
   "codemirror_mode": {
    "name": "ipython",
    "version": 3
   },
   "file_extension": ".py",
   "mimetype": "text/x-python",
   "name": "python",
   "nbconvert_exporter": "python",
   "pygments_lexer": "ipython3",
   "version": "3.8.10"
  }
 },
 "nbformat": 4,
 "nbformat_minor": 5
}
