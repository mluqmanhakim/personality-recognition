{
 "cells": [
  {
   "cell_type": "code",
   "execution_count": 4,
   "metadata": {},
   "outputs": [],
   "source": [
    "import time\n",
    "import pickle\n",
    "import numpy as np\n",
    "import os\n",
    "from generate_landmark import get_landmark"
   ]
  },
  {
   "cell_type": "code",
   "execution_count": 12,
   "metadata": {},
   "outputs": [],
   "source": [
    "def convert_to_frames(video_path, frames_path):\n",
    "    command = \"/home/luqman/ffmpeg/ffmpeg-git-20220622-amd64-static/ffmpeg -loglevel warning -t 15 -i \" + video_path + \" -r:v 30 -frames:v 450 \" + os.path.join(frames_path, \"%d.png\") \n",
    "    os.system(command)\n",
    "    \n",
    "def delete_dir(path):\n",
    "    command = \"rm -r \" + path\n",
    "    os.system(command)\n",
    "    \n",
    "def make_prediction(frames_path, out_path):\n",
    "    frames_count = len([x for x in os.listdir(frames_path)])\n",
    "    landmarks = []\n",
    "    \n",
    "    for i in range(1, frames_count+1):\n",
    "        filename = str(i) + '.png'\n",
    "        img_path = os.path.join(frames_path, filename)\n",
    "        landmark_list = get_landmark(img_path)\n",
    "        if (landmark_list is not None):\n",
    "            landmarks.append(landmark_list[0])\n",
    "    \n",
    "    landmarks = np.array(landmarks)\n",
    "    with open(out_path, 'wb') as f:\n",
    "        np.save(f, landmarks)"
   ]
  },
  {
   "cell_type": "code",
   "execution_count": 11,
   "metadata": {},
   "outputs": [
    {
     "name": "stdout",
     "output_type": "stream",
     "text": [
      "--- 0.012633085250854492 seconds ---\n"
     ]
    }
   ],
   "source": [
    "start_time = time.time()\n",
    "video_dir = '/nas/database/Big5/train'\n",
    "frames_dir = \"/nas/project_data/B1_Behavior/hakim/FI/frames/train\"\n",
    "landmark_path = '/nas/project_data/B1_Behavior/hakim/FI/3DDFA_feature/train'\n",
    "annotation_path = '/nas/database/Big5/gt/annotation_training.pkl'\n",
    "\n",
    "with open(annotation_path, 'rb') as f:\n",
    "    annotation = pickle.load(f, encoding='latin1')\n",
    "videos = list(annotation['extraversion'].keys())\n",
    "\n",
    "for i, video in enumerate(videos):\n",
    "    video_path = os.path.join(video_dir, video)\n",
    "    video_name = video.rsplit(\".\")[0] + \".\" + video.rsplit(\".\")[1]\n",
    "    output_name = video_name + '.npy'\n",
    "    out_path = os.path.join(landmark_path, output_name)\n",
    "    frames_path = os.path.join(frames_dir, video_name)\n",
    "    \n",
    "    if (i < 1000 or os.path.exists(out_path)):\n",
    "        continue\n",
    "    elif (i == 1000):\n",
    "        break\n",
    "    \n",
    "    print(f'Processing {i} {out_path}')\n",
    "    os.makedirs(frames_path, exist_ok=True)\n",
    "    convert_to_frames(video_path, frames_path)\n",
    "    make_prediction(frames_path, out_path)\n",
    "    delete_dir(frames_path)\n",
    "\n",
    "print(\"--- %s seconds ---\" % (time.time() - start_time))"
   ]
  },
  {
   "cell_type": "code",
   "execution_count": null,
   "metadata": {},
   "outputs": [],
   "source": [
    "# annotation_path = '/nas/database/Big5/gt/annotation_validation.pkl'"
   ]
  },
  {
   "cell_type": "code",
   "execution_count": null,
   "metadata": {},
   "outputs": [],
   "source": []
  },
  {
   "cell_type": "code",
   "execution_count": null,
   "metadata": {},
   "outputs": [],
   "source": []
  },
  {
   "cell_type": "code",
   "execution_count": 64,
   "metadata": {},
   "outputs": [],
   "source": [
    "PATH = '/nas/project_data/B1_Behavior/hakim/FI/3DDFA_feature/val/modNfUPt3F4.002.npy'\n",
    "with open(PATH, 'rb') as f:\n",
    "    o = np.load(f, allow_pickle=True)"
   ]
  },
  {
   "cell_type": "code",
   "execution_count": 65,
   "metadata": {},
   "outputs": [
    {
     "data": {
      "text/plain": [
       "(450, 3, 68)"
      ]
     },
     "execution_count": 65,
     "metadata": {},
     "output_type": "execute_result"
    }
   ],
   "source": [
    "o.shape"
   ]
  },
  {
   "cell_type": "code",
   "execution_count": null,
   "metadata": {},
   "outputs": [],
   "source": []
  }
 ],
 "metadata": {
  "kernelspec": {
   "display_name": "base",
   "language": "python",
   "name": "base"
  },
  "language_info": {
   "codemirror_mode": {
    "name": "ipython",
    "version": 3
   },
   "file_extension": ".py",
   "mimetype": "text/x-python",
   "name": "python",
   "nbconvert_exporter": "python",
   "pygments_lexer": "ipython3",
   "version": "3.9.12"
  }
 },
 "nbformat": 4,
 "nbformat_minor": 4
}
