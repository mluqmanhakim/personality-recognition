{
 "cells": [
  {
   "cell_type": "code",
   "execution_count": 1,
   "id": "fefdc8f5",
   "metadata": {},
   "outputs": [
    {
     "name": "stderr",
     "output_type": "stream",
     "text": [
      "/home/luqman/.local/lib/python3.8/site-packages/tqdm/auto.py:22: TqdmWarning: IProgress not found. Please update jupyter and ipywidgets. See https://ipywidgets.readthedocs.io/en/stable/user_install.html\n",
      "  from .autonotebook import tqdm as notebook_tqdm\n"
     ]
    }
   ],
   "source": [
    "import os\n",
    "import pickle\n",
    "import torch\n",
    "import numpy as np\n",
    "import time\n",
    "import pandas as pd"
   ]
  },
  {
   "cell_type": "code",
   "execution_count": 8,
   "id": "8f6af091",
   "metadata": {},
   "outputs": [],
   "source": [
    "data = []\n",
    "train_annotation_path = '/nas/database/Big5/gt/annotation_training.pkl'\n",
    "valid_annotation_path = '/nas/database/Big5/gt/annotation_validation.pkl'\n",
    "test_annotation_path = '/nas/database/Big5/gt/annotation_test.pkl'\n",
    "train_preds_path = '/home/luqman/FI_AU/train_npy'\n",
    "valid_preds_path = '/home/luqman/FI_AU/valid_npy'\n",
    "test_preds_path = '/home/luqman/FI_AU/test_npy'\n",
    "\n",
    "\n",
    "with open(train_annotation_path, 'rb') as f:\n",
    "    annotation = pickle.load(f, encoding='latin1')\n",
    "train_videos = list(annotation['extraversion'].keys())\n",
    "\n",
    "for i, video in enumerate(train_videos):\n",
    "    in_name = video.rsplit(\".\")[0] + \".\" + video.rsplit(\".\")[1] + \".npy\"\n",
    "    pred_path = os.path.join(train_preds_path, in_name)\n",
    "    with open(pred_path, 'rb') as f:\n",
    "        pred = np.load(f)\n",
    "    data.append(pred)\n",
    "    \n",
    "with open(valid_annotation_path, 'rb') as f:\n",
    "    annotation = pickle.load(f, encoding='latin1')\n",
    "valid_videos = list(annotation['extraversion'].keys())\n",
    "\n",
    "for i, video in enumerate(valid_videos):\n",
    "    in_name = video.rsplit(\".\")[0] + \".\" + video.rsplit(\".\")[1] + \".npy\"\n",
    "    pred_path = os.path.join(valid_preds_path, in_name)\n",
    "    with open(pred_path, 'rb') as f:\n",
    "        pred = np.load(f)\n",
    "    data.append(pred)\n",
    "    \n",
    "with open(test_annotation_path, 'rb') as f:\n",
    "    annotation = pickle.load(f, encoding='latin1')\n",
    "test_videos = list(annotation['extraversion'].keys())\n",
    "\n",
    "for i, video in enumerate(test_videos):\n",
    "    in_name = video.rsplit(\".\")[0] + \".\" + video.rsplit(\".\")[1] + \".npy\"\n",
    "    pred_path = os.path.join(test_preds_path, in_name)\n",
    "    with open(pred_path, 'rb') as f:\n",
    "        pred = np.load(f)\n",
    "    data.append(pred)"
   ]
  },
  {
   "cell_type": "code",
   "execution_count": 9,
   "id": "df672f4a",
   "metadata": {},
   "outputs": [
    {
     "data": {
      "text/plain": [
       "10000"
      ]
     },
     "execution_count": 9,
     "metadata": {},
     "output_type": "execute_result"
    }
   ],
   "source": [
    "len(data)"
   ]
  },
  {
   "cell_type": "code",
   "execution_count": 10,
   "id": "64fe04bb",
   "metadata": {},
   "outputs": [
    {
     "data": {
      "text/plain": [
       "(12, 2)"
      ]
     },
     "execution_count": 10,
     "metadata": {},
     "output_type": "execute_result"
    }
   ],
   "source": [
    "mean_std = []\n",
    "\n",
    "for i in range (12):\n",
    "    au = []\n",
    "    for j in range(10000):\n",
    "        au.extend(data[j][:,i])\n",
    "        \n",
    "    m = []\n",
    "    m.append(np.mean(au))\n",
    "    m.append(np.std(au))\n",
    "    mean_std.append(m)\n",
    "\n",
    "mean_std = np.array(mean_std)\n",
    "mean_std.shape"
   ]
  },
  {
   "cell_type": "code",
   "execution_count": 11,
   "id": "bf6f5d37",
   "metadata": {},
   "outputs": [
    {
     "data": {
      "text/plain": [
       "array([[0.46577907, 0.05840736],\n",
       "       [0.44116208, 0.05682286],\n",
       "       [0.44860038, 0.04826799],\n",
       "       [0.49867168, 0.05233882],\n",
       "       [0.50100815, 0.05309461],\n",
       "       [0.48492056, 0.05044341],\n",
       "       [0.496484  , 0.06177215],\n",
       "       [0.4950819 , 0.04522475],\n",
       "       [0.4415062 , 0.05191442],\n",
       "       [0.48967206, 0.04821875],\n",
       "       [0.44723862, 0.04701021],\n",
       "       [0.43776146, 0.05641331]], dtype=float32)"
      ]
     },
     "execution_count": 11,
     "metadata": {},
     "output_type": "execute_result"
    }
   ],
   "source": [
    "mean_std"
   ]
  },
  {
   "cell_type": "code",
   "execution_count": 12,
   "id": "d720c186",
   "metadata": {},
   "outputs": [],
   "source": [
    "path = '/home/luqman/FI_AU/mean_std.npy'\n",
    "with open(path, 'wb') as f:\n",
    "    np.save(f, mean_std)"
   ]
  },
  {
   "cell_type": "code",
   "execution_count": 13,
   "id": "9e7ee092",
   "metadata": {},
   "outputs": [
    {
     "data": {
      "text/plain": [
       "(12, 2)"
      ]
     },
     "execution_count": 13,
     "metadata": {},
     "output_type": "execute_result"
    }
   ],
   "source": [
    "with open(path, 'rb') as f:\n",
    "    a = np.load(f)\n",
    "a.shape"
   ]
  },
  {
   "cell_type": "code",
   "execution_count": null,
   "id": "8ad971f7",
   "metadata": {},
   "outputs": [],
   "source": []
  }
 ],
 "metadata": {
  "kernelspec": {
   "display_name": "Python 3",
   "language": "python",
   "name": "python3"
  },
  "language_info": {
   "codemirror_mode": {
    "name": "ipython",
    "version": 3
   },
   "file_extension": ".py",
   "mimetype": "text/x-python",
   "name": "python",
   "nbconvert_exporter": "python",
   "pygments_lexer": "ipython3",
   "version": "3.8.10"
  }
 },
 "nbformat": 4,
 "nbformat_minor": 5
}
