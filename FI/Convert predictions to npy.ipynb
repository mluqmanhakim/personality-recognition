{
 "cells": [
  {
   "cell_type": "code",
   "execution_count": 1,
   "id": "744dd716",
   "metadata": {},
   "outputs": [],
   "source": [
    "import os\n",
    "import pickle\n",
    "import torch\n",
    "import numpy as np\n",
    "import time"
   ]
  },
  {
   "cell_type": "code",
   "execution_count": 7,
   "id": "573a9a9e",
   "metadata": {},
   "outputs": [
    {
     "name": "stdout",
     "output_type": "stream",
     "text": [
      "Output 0 : /nas/project_data/B1_Behavior/hakim/FI/predictions/test_npy/htH89DBizno.004.npy\n"
     ]
    }
   ],
   "source": [
    "annotation_path = '/nas/database/Big5/gt/annotation_test.pkl'\n",
    "preds_dir = '/nas/project_data/B1_Behavior/hakim/FI/predictions/test'\n",
    "out_preds_dir = '/nas/project_data/B1_Behavior/hakim/FI/predictions/test_npy'\n",
    "\n",
    "with open(annotation_path, 'rb') as f:\n",
    "    annotation = pickle.load(f, encoding='latin1')\n",
    "videos = list(annotation['extraversion'].keys())\n",
    "\n",
    "for i, video in enumerate(videos):\n",
    "    in_name = video.rsplit(\".\")[0] + \".\" + video.rsplit(\".\")[1] + \".pickle\"\n",
    "    pred_path = os.path.join(preds_dir, in_name)\n",
    "    out_name = video.rsplit(\".\")[0] + \".\" + video.rsplit(\".\")[1] + \".npy\"\n",
    "    out_pred_path = os.path.join(out_preds_dir, out_name)\n",
    "    prediction = pickle.load(open(pred_path, \"rb\"))\n",
    "    data = []\n",
    "    \n",
    "    for item in prediction:\n",
    "        data.append(item.cpu().numpy())\n",
    "    data = np.array(data)\n",
    "    \n",
    "    with open(out_pred_path, 'wb') as f:\n",
    "        np.save(f, data)\n",
    "    print(f'Output {i} : {out_pred_path}') \n",
    "    \n",
    "    break"
   ]
  },
  {
   "cell_type": "code",
   "execution_count": 12,
   "id": "9e70600c",
   "metadata": {},
   "outputs": [],
   "source": [
    "path = '/nas/project_data/B1_Behavior/hakim/FI/predictions/test_npy/htH89DBizno.004.npy'\n",
    "with open(path, 'rb') as f:\n",
    "    pred = np.load(f)"
   ]
  },
  {
   "cell_type": "code",
   "execution_count": 13,
   "id": "8fdaf170",
   "metadata": {},
   "outputs": [
    {
     "data": {
      "text/plain": [
       "(450, 12)"
      ]
     },
     "execution_count": 13,
     "metadata": {},
     "output_type": "execute_result"
    }
   ],
   "source": [
    "pred.shape"
   ]
  }
 ],
 "metadata": {
  "interpreter": {
   "hash": "916dbcbb3f70747c44a77c7bcd40155683ae19c65e1c03b4aa3499c5328201f1"
  },
  "kernelspec": {
   "display_name": "Python 3",
   "language": "python",
   "name": "python3"
  },
  "language_info": {
   "codemirror_mode": {
    "name": "ipython",
    "version": 3
   },
   "file_extension": ".py",
   "mimetype": "text/x-python",
   "name": "python",
   "nbconvert_exporter": "python",
   "pygments_lexer": "ipython3",
   "version": "3.8.10"
  }
 },
 "nbformat": 4,
 "nbformat_minor": 5
}
